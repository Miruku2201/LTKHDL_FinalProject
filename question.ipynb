{
 "cells": [
  {
   "cell_type": "markdown",
   "metadata": {},
   "source": [
    "**<p style = \"text-align: center\">TRƯỜNG ĐẠI HỌC KHOA HỌC TỰ NHIÊN - ĐẠI HỌC QUỐC GIA TPHCM</p>**"
   ]
  },
  {
   "attachments": {},
   "cell_type": "markdown",
   "metadata": {},
   "source": [
    "# **<p style = \"text-align: center\">LẬP TRÌNH KHOA HỌC DỮ LIỆU</p>**\n",
    "## **<p style = \"text-align: center\">Đồ án Cuối kì</p>**\n",
    "## **<p style = \"text-align: center\">ĐẶT VÀ TRẢ LỜI CÂU HỎI</p>**\n",
    "\n",
    "### <p style = \"text-align: center\"> <b>Đề tài:</b> KHÁM PHÁ, THỐNG KÊ CỦA TOP CÁC CA KHÚC TRÊN SPOTIFY</p>\n",
    "<p style = \"text-align: center\"> Sinh viên thực hiện </p>\n",
    "\n",
    "| Mã số sinh viên | Họ và tên |\n",
    "| --- | --- |\n",
    "| 20120040 | Nguyễn Quang Gia Bảo |\n",
    "| 20120127 | Trần Minh Tuấn Kiệt |\n",
    "| 20120136 | Huỳnh Tuấn Nam |\n",
    "| 20120158 | Trần Hoàng Anh Phi |"
   ]
  },
  {
   "cell_type": "markdown",
   "metadata": {},
   "source": [
    "---"
   ]
  },
  {
   "cell_type": "markdown",
   "metadata": {},
   "source": [
    "# **Import các thư viện**"
   ]
  },
  {
   "cell_type": "code",
   "execution_count": null,
   "metadata": {},
   "outputs": [],
   "source": [
    "import pandas as pd\n",
    "import numpy as np\n",
    "from matplotlib import pyplot as plt\n",
    "import seaborn as sns\n",
    "from wordcloud import WordCloud, STOPWORDS\n"
   ]
  },
  {
   "attachments": {},
   "cell_type": "markdown",
   "metadata": {},
   "source": [
    "# **Thông tin về dữ liệu**<br>\n",
    "Dữ liệu được sử dụng trong bài được lấy từ trang: <a href = \"https://www.kaggle.com/datasets/yelexa/spotify200?select=final.csv\"> https://www.kaggle.com/datasets/yelexa/spotify200?select=final.csv</a><br>\n",
    "Dataset chứa các ca khúc nằm trong TOP 200 ca khúc hay nhất trong 1 tuần của mỗi quốc gia từ 2021/02/04 ~ 2022/07/14\n",
    "\n",
    "Theo như file \"README.md\":\n",
    "> This directory contains codes that I used to create the dataset: https://www.kaggle.com/datasets/yelexa/spotify200<br><br>To create the dataset, I downloaded the csv files from the 'Weekly Top Songs' charts on Spotify Charts for each country from the week of 2021/02/04 ~ 2022/07/14. For the 'Global' charts, there is data from the week of 2016/12/29 ~ 2022/07/14. I used concat.py to create one combined file for each country, then used data.py to collect additional data for each song from the Spotify API.<br><br>The dataset was aggregated into an interactive dashboard, where you can explore artists and music trends around the world: https://public.tableau.com/app/profile/yejielee/viz/TheModernARExperienceWhichGlobalArtistWillYouSign/ar_dashboard?publish=yes"
   ]
  },
  {
   "cell_type": "markdown",
   "metadata": {},
   "source": [
    "Đọc dữ liệu từ file csv"
   ]
  },
  {
   "cell_type": "code",
   "execution_count": null,
   "metadata": {},
   "outputs": [],
   "source": [
    "spotify_df = pd.read_csv(\"./features/processed.csv\")"
   ]
  },
  {
   "cell_type": "code",
   "execution_count": null,
   "metadata": {},
   "outputs": [],
   "source": [
    "display(spotify_df)"
   ]
  },
  {
   "cell_type": "code",
   "execution_count": null,
   "metadata": {},
   "outputs": [],
   "source": [
    "pattern = '%Y-%m-%d'\n",
    "spotify_df['release_date'] = pd.to_datetime(spotify_df['release_date'], format=pattern)\n",
    "spotify_df['week'] = pd.to_datetime(spotify_df['week'], format=pattern)"
   ]
  },
  {
   "cell_type": "markdown",
   "metadata": {},
   "source": [
    "***"
   ]
  },
  {
   "attachments": {},
   "cell_type": "markdown",
   "metadata": {},
   "source": [
    "# **Đưa ra các câu hỏi cần trả lời:**\n",
    "\n"
   ]
  },
  {
   "attachments": {},
   "cell_type": "markdown",
   "metadata": {},
   "source": [
    "### **Câu hỏi 1: Dựa vào các đặc trưng về âm thanh của một bài hát, hãy thử dự đoán thể loại nhạc của bài hát đó.**\n",
    "- Trả lời được câu hỏi này sẽ giúp ta tìm được thể loại nhạc của bài hát bằng các đặc trưng âm thanh.\n",
    "- Một ứng dụng có thể là tìm ra bài hát qua giai điệu (ví dụ như úng dụng Shazam)."
   ]
  },
  {
   "attachments": {},
   "cell_type": "markdown",
   "metadata": {},
   "source": [
    "**Hướng giải quyết:**\n",
    "- Đầu tiên, ta vẽ biểu đồ heatmap để xác định hệ số tương quan giữa các biến.\n",
    "- Các thuật toán dựa trên cây như XGBoost, có thể xử lý được các biến category biểu diễn onehot. Tuy nhiên, có nhiều thể loại nhạc có tần suất xuất hiện rất thấp, sẽ làm tăng kích thước của ma trận, các giá trị này có ý nghĩa thống kê không đáng kể sẽ làm mô hình cho kết quả không chính xác. Một giải pháp cho vấn đề này có thể là gom nhóm những giá trị này thành một giá trị mới và đặt tên là \"Rare\".\n",
    "- Chuẩn hoá các giá trị cho phù hợp với đầu vào của mô hình.\n",
    "- Thử nghiệm các mô hình.\n",
    "- Đánh giá kết quả."
   ]
  },
  {
   "cell_type": "code",
   "execution_count": null,
   "metadata": {},
   "outputs": [],
   "source": [
    "df = spotify_df.drop_duplicates('uri').reset_index(drop=True).copy()"
   ]
  },
  {
   "cell_type": "markdown",
   "metadata": {},
   "source": [
    "**Lấy ra những \"thằng\" artist_genre có số lượng lớn hơn `10000`**"
   ]
  },
  {
   "cell_type": "code",
   "execution_count": null,
   "metadata": {},
   "outputs": [],
   "source": [
    "# spotify_df.groupby('artist_genre').filter(lambda x: x['artist_genre'].count() > 10000)['artist_genre'].value_counts()\n",
    "df = spotify_df[spotify_df.groupby('artist_genre')['artist_genre'].transform('count')>7000].copy() # Viết vậy để lấy dc cái số value count.\n",
    "df['artist_genre'].value_counts()"
   ]
  },
  {
   "cell_type": "markdown",
   "metadata": {},
   "source": [
    "<font color=red>*Kể từ đây, ta chỉ dùng sub-dataframe: df để tiếp tục tính cho câu 1*</font>"
   ]
  },
  {
   "cell_type": "code",
   "execution_count": null,
   "metadata": {},
   "outputs": [],
   "source": [
    "from sklearn.preprocessing import MinMaxScaler\n",
    "from sklearn.decomposition import PCA\n",
    "from sklearn.preprocessing import LabelEncoder\n",
    "from sklearn.impute import SimpleImputer # điền các giá trị thiếu\n",
    "import numpy as np\n",
    "\n",
    "# pd.set_option('display.max_rows', None)\n",
    "# pd.set_option('display.max_columns', None)\n",
    "\n",
    "le = LabelEncoder()\n",
    "le.fit(df['artist_genre'])\n",
    "df['categorical_label'] = le.transform(df['artist_genre']) # transform label to numbers"
   ]
  },
  {
   "cell_type": "code",
   "execution_count": null,
   "metadata": {},
   "outputs": [],
   "source": [
    "df['categorical_label'].value_counts()"
   ]
  },
  {
   "cell_type": "code",
   "execution_count": null,
   "metadata": {},
   "outputs": [],
   "source": [
    "le.inverse_transform(df['categorical_label']) # transform label back to original"
   ]
  },
  {
   "cell_type": "markdown",
   "metadata": {},
   "source": [
    "**Trực quan hoá dữ liệu**"
   ]
  },
  {
   "cell_type": "markdown",
   "metadata": {},
   "source": [
    "Tìm sự tương quan giữa các cột cường độ âm thanh."
   ]
  },
  {
   "cell_type": "code",
   "execution_count": null,
   "metadata": {},
   "outputs": [],
   "source": [
    "import matplotlib.pyplot as plt \n",
    "import seaborn as sns\n",
    "\n",
    "audio_cols = ['danceability', 'energy', 'key', 'mode', 'loudness', 'speechiness', \n",
    "              'acousticness', 'instrumentalness', 'liveness', 'valence', 'tempo', 'duration']\n",
    "plt.figure(figsize=(12,8))\n",
    "sns.heatmap(df[audio_cols+['categorical_label']].corr(), annot=True, fmt='.2f')\n",
    "plt.xticks(rotation=30)\n",
    "plt.show()"
   ]
  },
  {
   "cell_type": "code",
   "execution_count": null,
   "metadata": {},
   "outputs": [],
   "source": [
    "df[audio_cols+['categorical_label']].hist(bins=50, figsize=(20,20))\n",
    "# ax.set_title(\"Hisogram plot\", size=15, weight='bold')\n",
    "plt.show()"
   ]
  },
  {
   "cell_type": "code",
   "execution_count": null,
   "metadata": {},
   "outputs": [],
   "source": [
    "imp = SimpleImputer(missing_values = np.nan, strategy = 'median') # điền các gía trị thiếu bằng median\n",
    "df[audio_cols] = imp.fit_transform(df[audio_cols])\n",
    "df[audio_cols].isna().sum()"
   ]
  },
  {
   "cell_type": "code",
   "execution_count": null,
   "metadata": {},
   "outputs": [],
   "source": [
    "new_df = df[audio_cols+['categorical_label']]\n",
    "for i in new_df.columns:\n",
    "  print(f'Skewness in {i} =',new_df[i].skew())"
   ]
  },
  {
   "cell_type": "markdown",
   "metadata": {},
   "source": [
    "skew > 0 => Lệch bên phải ( đuôi bên phải ) - Positive Skewness và ngược lại với skew < 0<br>\n",
    "https://www.sharkclass.vn/glossary/do-lech-%28skewness%29?lang=en"
   ]
  },
  {
   "cell_type": "markdown",
   "metadata": {},
   "source": [
    "Các cột có high skew: \n",
    "- loudness\n",
    "- speechiness\n",
    "- acousticness\n",
    "- instrucmentalness\n",
    "- liveness\n",
    "- duration"
   ]
  },
  {
   "cell_type": "code",
   "execution_count": null,
   "metadata": {},
   "outputs": [],
   "source": [
    "df['loudness_trans'] = np.cbrt(df['loudness'])\n",
    "df['speechiness_trans'] = np.reciprocal(df['speechiness'])\n",
    "df['acousticness_trans'] = np.cbrt(df['acousticness'])\n",
    "df['instrumentalness_trans'] = np.log(df['instrumentalness'].apply(lambda x: x + 0.000001))\n",
    "df['liveness_trans'] = np.cbrt(df['liveness'])\n",
    "df['duration_trans'] = np.sqrt(df['duration'])\n",
    "df['tempo_trans'] = np.cbrt(df['tempo'])"
   ]
  },
  {
   "cell_type": "code",
   "execution_count": null,
   "metadata": {},
   "outputs": [],
   "source": [
    "audio_trans  =['loudness_trans','speechiness_trans','acousticness_trans','instrumentalness_trans','liveness_trans','duration_trans','tempo_trans']\n",
    "df[audio_trans].hist(bins=50, figsize=(20,20))\n",
    "# ax.set_title(\"Hisogram plot\", size=15, weight='bold')\n",
    "plt.show()"
   ]
  },
  {
   "cell_type": "code",
   "execution_count": null,
   "metadata": {},
   "outputs": [],
   "source": [
    "df.shape"
   ]
  },
  {
   "cell_type": "code",
   "execution_count": null,
   "metadata": {},
   "outputs": [],
   "source": [
    "df.head()"
   ]
  },
  {
   "cell_type": "code",
   "execution_count": null,
   "metadata": {},
   "outputs": [],
   "source": [
    "df.drop(columns = ['duration','loudness','speechiness','acousticness','instrumentalness','liveness','tempo'], inplace = True)"
   ]
  },
  {
   "cell_type": "markdown",
   "metadata": {},
   "source": [
    "## **Build model**"
   ]
  },
  {
   "cell_type": "code",
   "execution_count": null,
   "metadata": {},
   "outputs": [],
   "source": [
    "columns = [\"artist_names\",\"track_name\"]\n",
    "le = LabelEncoder()\n",
    "for col in columns:\n",
    "  df[col] = le.fit_transform(df[col])"
   ]
  },
  {
   "cell_type": "code",
   "execution_count": null,
   "metadata": {},
   "outputs": [],
   "source": [
    "X = df[['danceability', 'energy', 'key',\n",
    "       'mode', 'valence', \n",
    "       'duration_trans','loudness_trans',\n",
    "        'speechiness_trans','acousticness_trans','instrumentalness_trans','liveness_trans','tempo_trans']]\n",
    "Y = df['categorical_label']"
   ]
  },
  {
   "cell_type": "markdown",
   "metadata": {},
   "source": [
    "**Split train test**"
   ]
  },
  {
   "cell_type": "code",
   "execution_count": null,
   "metadata": {},
   "outputs": [],
   "source": [
    "from sklearn.model_selection import train_test_split\n",
    "\n",
    "x_train, x_test, y_train, y_test = train_test_split(X, Y, test_size=0.33, random_state=11)"
   ]
  },
  {
   "cell_type": "code",
   "execution_count": null,
   "metadata": {},
   "outputs": [],
   "source": [
    "# !pip install xgboost"
   ]
  },
  {
   "cell_type": "markdown",
   "metadata": {},
   "source": [
    "**Standard Scaler**"
   ]
  },
  {
   "cell_type": "code",
   "execution_count": null,
   "metadata": {},
   "outputs": [],
   "source": [
    "from sklearn.preprocessing import StandardScaler\n",
    "import xgboost as xgb\n",
    "from xgboost.sklearn import XGBClassifier\n",
    "from sklearn.metrics import accuracy_score\n",
    "scaler = StandardScaler()\n",
    "normalized_x_train = pd.DataFrame(scaler.fit_transform(x_train), columns = x_train.columns)\n",
    "\n",
    "Xgbclassifier = xgb.XGBClassifier(max_depth=5, objective='multi:softprob', n_estimators=1000, \n",
    "                        num_classes=21, random_state=5).fit(normalized_x_train, y_train)\n",
    "\n",
    "normalized_x_test = pd.DataFrame(scaler.transform(x_test), columns = x_test.columns)\n",
    "y_pred = Xgbclassifier.predict(normalized_x_test)\n",
    "\n",
    "XGBAcc = accuracy_score(y_pred,y_test)\n",
    "print('XG Boost accuracy is: {:.2f}%'.format(XGBAcc*100))"
   ]
  },
  {
   "cell_type": "code",
   "execution_count": null,
   "metadata": {},
   "outputs": [],
   "source": [
    "Xgbclassifier.save_model('xgb_model.json')"
   ]
  },
  {
   "cell_type": "code",
   "execution_count": null,
   "metadata": {},
   "outputs": [],
   "source": [
    "Xgbclassifier.best_ntree_limit"
   ]
  },
  {
   "cell_type": "markdown",
   "metadata": {},
   "source": [
    "**Normalizer**"
   ]
  },
  {
   "cell_type": "code",
   "execution_count": null,
   "metadata": {},
   "outputs": [],
   "source": [
    "from sklearn.preprocessing import Normalizer\n",
    "import xgboost as xgb\n",
    "from xgboost.sklearn import XGBClassifier\n",
    "\n",
    "normalizer = Normalizer()\n",
    "normalized_x_train = pd.DataFrame(normalizer.fit_transform(x_train), columns = x_train.columns)\n",
    "\n",
    "Xgbclassifier = xgb.XGBClassifier(max_depth=5, objective='multi:softprob', n_estimators=1000, \n",
    "                        num_classes=14, random_state=5).fit(normalized_x_train, y_train)\n",
    "\n",
    "normalized_x_test = pd.DataFrame(scaler.transform(x_test), columns = x_test.columns)\n",
    "y_pred = Xgbclassifier.predict(normalized_x_test)\n",
    "\n",
    "XGBAcc = accuracy_score(y_pred,y_test)\n",
    "print('XG Boost accuracy is: {:.2f}%'.format(XGBAcc*100))"
   ]
  },
  {
   "cell_type": "markdown",
   "metadata": {},
   "source": [
    "**Logistic Regression and MinMaxScaler**"
   ]
  },
  {
   "cell_type": "code",
   "execution_count": null,
   "metadata": {},
   "outputs": [],
   "source": [
    "from sklearn.linear_model import LogisticRegression\n",
    "from sklearn.preprocessing import MinMaxScaler\n",
    "scaler = MinMaxScaler()\n",
    "\n",
    "normalized_x_train = pd.DataFrame(scaler.fit_transform(x_train), columns = x_train.columns)\n",
    "\n",
    "LR = LogisticRegression(solver='newton-cg', multi_class = 'multinomial',random_state = 7).fit(normalized_x_train, y_train)\n",
    "\n",
    "normalized_x_test = pd.DataFrame(scaler.transform(x_test), columns = x_test.columns)\n",
    "y_pred = LR.predict(normalized_x_test)\n",
    "\n",
    "from sklearn.metrics import accuracy_score\n",
    "LRAcc = accuracy_score(y_pred,y_test)\n",
    "print('Logistic Regression accuracy is: {:.2f}%'.format(LRAcc*100))"
   ]
  },
  {
   "cell_type": "code",
   "execution_count": null,
   "metadata": {},
   "outputs": [],
   "source": [
    "from sklearn.linear_model import LogisticRegression\n",
    "from sklearn.metrics import accuracy_score\n",
    "\n",
    "LR = LogisticRegression(solver='liblinear').fit(normalized_x_train, y_train)\n",
    "normalized_x_test = pd.DataFrame(scaler.transform(x_test), columns = x_test.columns)\n",
    "y_pred = LR.predict(normalized_x_test)\n",
    "\n",
    "LRAcc = accuracy_score(y_pred,y_test) # Calculate accuracy\n",
    "print('Logistic Regression accuracy is: {:.2f}%'.format(LRAcc*100))"
   ]
  },
  {
   "cell_type": "markdown",
   "metadata": {},
   "source": [
    "**Random Forest**"
   ]
  },
  {
   "cell_type": "code",
   "execution_count": null,
   "metadata": {},
   "outputs": [],
   "source": [
    "from sklearn.ensemble import RandomForestClassifier\n",
    "from sklearn.preprocessing import StandardScaler\n",
    "scaler = StandardScaler()\n",
    "\n",
    "normalized_x_train = pd.DataFrame(scaler.fit_transform(x_train), columns = x_train.columns)\n",
    "\n",
    "RFclassifier = RandomForestClassifier(max_leaf_nodes = 30,random_state = 3).fit(normalized_x_train, y_train)\n",
    "\n",
    "normalized_x_test = pd.DataFrame(scaler.transform(x_test), columns = x_test.columns)\n",
    "y_pred = RFclassifier.predict(normalized_x_test)\n",
    "\n",
    "from sklearn.metrics import accuracy_score\n",
    "RFAcc = accuracy_score(y_pred,y_test)\n",
    "print('Random Forest accuracy is: {:.2f}%'.format(RFAcc*100))"
   ]
  },
  {
   "cell_type": "markdown",
   "metadata": {},
   "source": [
    "***"
   ]
  },
  {
   "cell_type": "code",
   "execution_count": null,
   "metadata": {},
   "outputs": [],
   "source": [
    "text = ', '.join(spotify_df['artist_genre'])\n",
    "word_cloud = WordCloud(width=3000, \n",
    "                       height=2000, \n",
    "                       random_state=1, \n",
    "                       background_color='pink', \n",
    "                     #   colormap='Pastel1',\n",
    "                       collocations=False,\n",
    "                       stopwords=', ').generate(text)\n",
    "\n",
    "plt.imshow(word_cloud)\n",
    "plt.axis('off')\n",
    "plt.show()"
   ]
  },
  {
   "cell_type": "code",
   "execution_count": null,
   "metadata": {},
   "outputs": [],
   "source": [
    "!git ls-tree -r --name-only --full-name modeling"
   ]
  },
  {
   "cell_type": "code",
   "execution_count": null,
   "metadata": {},
   "outputs": [],
   "source": [
    "from collections import Counter\n",
    "def reduce_categories(col, threshold=0.85):\n",
    "    threshold_value = int(threshold*len(col))\n",
    "    reduced_cats = []\n",
    "    s = 0\n",
    "    counts = Counter(col)\n",
    "    \n",
    "    for i, j in counts.most_common():\n",
    "        s+=dict(counts)[i]\n",
    "        reduced_cats.append(i)\n",
    "        if s>=threshold_value:\n",
    "            break\n",
    "    reduced_cats.append('Other')\n",
    "    \n",
    "    new_col=col.apply(lambda x: x if x in reduced_cats else 'Other')\n",
    "    return new_col, reduced_cats\n",
    "\n",
    "col, cate = reduce_categories(spotify_df['artist_genre'])\n",
    "col.value_counts()"
   ]
  },
  {
   "cell_type": "markdown",
   "metadata": {},
   "source": [
    "### **Trả lời câu hỏi 2**: Thời gian nào trong năm thì bài hát dễ 'lên hạng'?"
   ]
  },
  {
   "cell_type": "code",
   "execution_count": null,
   "metadata": {},
   "outputs": [],
   "source": [
    "spotify_df.sample(5)"
   ]
  },
  {
   "cell_type": "code",
   "execution_count": null,
   "metadata": {},
   "outputs": [],
   "source": [
    "standard_prev_rank = spotify_df['previous_rank'].apply(lambda x: 200 if x == -1 else x)\n",
    "spotify_df['rank_up'] = standard_prev_rank - spotify_df['rank']"
   ]
  },
  {
   "cell_type": "code",
   "execution_count": null,
   "metadata": {},
   "outputs": [],
   "source": [
    "spotify_df[spotify_df['country']=='Vietnam'][spotify_df['rank']==1]#.value_counts()"
   ]
  },
  {
   "cell_type": "code",
   "execution_count": null,
   "metadata": {},
   "outputs": [],
   "source": [
    "trending = spotify_df[spotify_df['country']=='Vietnam'][spotify_df['rank_up']==spotify_df['rank_up'].max()]\n",
    "trending"
   ]
  },
  {
   "cell_type": "code",
   "execution_count": null,
   "metadata": {},
   "outputs": [],
   "source": [
    "x = spotify_df[spotify_df['country']=='Vietnam'].groupby(spotify_df['week'].dt.month)['rank_up'].value_counts()\n",
    "display(x)"
   ]
  },
  {
   "cell_type": "code",
   "execution_count": null,
   "metadata": {},
   "outputs": [],
   "source": [
    "pd.DataFrame(x.to_frame().rename(columns={'rank_up': 'counts'}).reset_index().sort_values(by=['rank_up']))"
   ]
  },
  {
   "cell_type": "markdown",
   "metadata": {},
   "source": [
    "Check một bài hát đã ở trong top tuần này có ở trong top tuần khác không?"
   ]
  },
  {
   "cell_type": "code",
   "execution_count": null,
   "metadata": {},
   "outputs": [],
   "source": [
    "spotify_df[spotify_df['country'] == 'Global']"
   ]
  },
  {
   "cell_type": "code",
   "execution_count": null,
   "metadata": {},
   "outputs": [],
   "source": [
    "spotify_df.groupby('week')['track_name'].value_counts().to_frame()"
   ]
  },
  {
   "cell_type": "markdown",
   "metadata": {},
   "source": [
    "---"
   ]
  },
  {
   "cell_type": "markdown",
   "metadata": {},
   "source": [
    "### **Câu hỏi 3**: Ca khúc nào có được nhiều sự yêu thích ở các Quốc gia ?"
   ]
  },
  {
   "cell_type": "markdown",
   "metadata": {},
   "source": [
    "Ca khúc được yêu thích dựa trên các yếu tố như: <br>\n",
    "+ Được lên top 10 Quốc gia.\n",
    "+ Có được thời gian trong top lâu nhất liên tục qua các quá trình cập nhật."
   ]
  },
  {
   "cell_type": "markdown",
   "metadata": {},
   "source": [
    "Đầu tiên xét ở một quốc gia nhỏ như Việt Nam trước khi đến toàn bộ Quốc gia của dataset đề cập."
   ]
  },
  {
   "cell_type": "markdown",
   "metadata": {},
   "source": [
    "Kiểm tra lại các cột trước khi tiến hành trả lời câu hỏi."
   ]
  },
  {
   "cell_type": "code",
   "execution_count": null,
   "metadata": {},
   "outputs": [],
   "source": [
    "spotify_df.columns"
   ]
  },
  {
   "cell_type": "code",
   "execution_count": null,
   "metadata": {
    "scrolled": true
   },
   "outputs": [],
   "source": [
    "cols = [\"uri\", \"artist_names\", \"track_name\", \"week\", \"streams\", \"country\"]\n",
    "spotify_df[cols].info()"
   ]
  },
  {
   "cell_type": "markdown",
   "metadata": {},
   "source": [
    "Không có dòng thiếu. Tiến hành trả lời câu hỏi.\n"
   ]
  },
  {
   "cell_type": "markdown",
   "metadata": {},
   "source": [
    "**Bước 1**: Chọn các bài hát thuộc Quốc gia Việt Nam"
   ]
  },
  {
   "cell_type": "code",
   "execution_count": null,
   "metadata": {},
   "outputs": [],
   "source": [
    "def song_in_country(country):\n",
    "    return spotify_df[spotify_df.country == country]"
   ]
  },
  {
   "cell_type": "code",
   "execution_count": null,
   "metadata": {},
   "outputs": [],
   "source": [
    "song_in_vietnam_df = song_in_country(\"Vietnam\")"
   ]
  },
  {
   "cell_type": "markdown",
   "metadata": {},
   "source": [
    "**Bước 2**: Chọn các bài hát được đưa lên top 1 Việt Nam"
   ]
  },
  {
   "cell_type": "code",
   "execution_count": null,
   "metadata": {},
   "outputs": [],
   "source": [
    "def song_in_top_10(df):\n",
    "    return df[df[\"rank\"] <= 10]"
   ]
  },
  {
   "cell_type": "code",
   "execution_count": null,
   "metadata": {},
   "outputs": [],
   "source": [
    "top10_df = song_in_top_10(song_in_vietnam_df)"
   ]
  },
  {
   "cell_type": "markdown",
   "metadata": {},
   "source": [
    "**Bước 3**: Tạo một mảng đánh dấu lại các ngày được lên top10"
   ]
  },
  {
   "cell_type": "code",
   "execution_count": null,
   "metadata": {},
   "outputs": [],
   "source": [
    "group_weeks = top10_df.groupby(\"uri\")[\"week\"].apply(lambda grp: list(set(grp))).reset_index()"
   ]
  },
  {
   "cell_type": "code",
   "execution_count": null,
   "metadata": {},
   "outputs": [],
   "source": [
    "weeks = sorted(top10_df.week.unique())"
   ]
  },
  {
   "cell_type": "code",
   "execution_count": null,
   "metadata": {},
   "outputs": [],
   "source": [
    "def check_week_series(aWeeks):\n",
    "    aDates = np.zeros(len(weeks))\n",
    "    lIndex = [weeks.index(week) for week in aWeeks] # get index from \"weeks\"\n",
    "    aDates[lIndex] = 1\n",
    "    return aDates"
   ]
  },
  {
   "cell_type": "code",
   "execution_count": null,
   "metadata": {},
   "outputs": [],
   "source": [
    "# group_weeks[\"check_date\"] = group_weeks.apply(lambda x: check_date_series(x.week), axis =1)\n",
    "group_weeks[\"check_week\"] = group_weeks.week.apply(check_week_series)\n",
    "group_weeks"
   ]
  },
  {
   "cell_type": "markdown",
   "metadata": {},
   "source": [
    "**Bước 4**: Tính tổng số ngày lên top10 liên tục"
   ]
  },
  {
   "cell_type": "code",
   "execution_count": null,
   "metadata": {},
   "outputs": [],
   "source": [
    "def num_week_on_top_continuously(aCheckWeek):\n",
    "    lCheckWeek = aCheckWeek.tolist()\n",
    "    if 0 in lCheckWeek:\n",
    "        idx1 = lCheckWeek.index(1)\n",
    "        lFromIndex = lCheckWeek[idx1:]\n",
    "        if 0 in lFromIndex:\n",
    "            idx0 = lFromIndex.index(0)\n",
    "            num_week_on_top = sum(lFromIndex[:idx0])\n",
    "        else:\n",
    "            num_week_on_top = len(lFromIndex)\n",
    "    else:\n",
    "        num_week_on_top = len(lCheckWeek)\n",
    "    return num_week_on_top"
   ]
  },
  {
   "cell_type": "code",
   "execution_count": null,
   "metadata": {},
   "outputs": [],
   "source": [
    "pd.set_option('display.max_columns', None)\n",
    "pd.set_option('display.expand_frame_repr', False)\n",
    "pd.set_option('max_colwidth', -1)\n",
    "group_weeks[\"num_week_on_top_continuously\"] = group_weeks.check_week.apply(num_week_on_top_continuously)\n",
    "group_weeks"
   ]
  },
  {
   "cell_type": "code",
   "execution_count": null,
   "metadata": {},
   "outputs": [],
   "source": [
    "top_uri = group_weeks.loc[group_weeks.num_week_on_top_continuously == group_weeks.num_week_on_top_continuously.max()][\"uri\"].values[0]\n",
    "top_uri"
   ]
  },
  {
   "cell_type": "code",
   "execution_count": null,
   "metadata": {},
   "outputs": [],
   "source": [
    "favorite_song_df = top10_df[top10_df.uri == top_uri]\n",
    "favorite_song_df"
   ]
  },
  {
   "cell_type": "markdown",
   "metadata": {},
   "source": [
    "Áp dụng cho lại thử cho một Quốc Gia bất kỳ"
   ]
  },
  {
   "cell_type": "code",
   "execution_count": null,
   "metadata": {},
   "outputs": [],
   "source": [
    "# spotify_df.country.unique().tolist()"
   ]
  },
  {
   "cell_type": "code",
   "execution_count": null,
   "metadata": {},
   "outputs": [],
   "source": [
    "def favorite_song_in_country(country):\n",
    "    song_in_country_df = song_in_country(country)\n",
    "    top10_df = song_in_top_10(song_in_country_df)\n",
    "    group_weeks = top10_df.groupby(\"uri\")[\"week\"].apply(lambda grp: list(set(grp))).reset_index()\n",
    "    weeks = sorted(top10_df.week.unique())\n",
    "    group_weeks[\"check_week\"] = group_weeks.week.apply(check_week_series)\n",
    "    group_weeks[\"num_week_on_top_continuously\"] = group_weeks.check_week.apply(num_week_on_top_continuously)\n",
    "    top_uri = group_weeks.loc[group_weeks.num_week_on_top_continuously == group_weeks.num_week_on_top_continuously.max()][\"uri\"].values[0]\n",
    "    favorite_song_df = top10_df[top10_df.uri == top_uri]\n",
    "    return favorite_song_df"
   ]
  },
  {
   "cell_type": "code",
   "execution_count": null,
   "metadata": {},
   "outputs": [],
   "source": [
    "favorite_song_in_country(\"Argentina\")"
   ]
  },
  {
   "cell_type": "markdown",
   "metadata": {},
   "source": [
    "---"
   ]
  },
  {
   "cell_type": "markdown",
   "metadata": {},
   "source": [
    "### **Câu 4**: Ca sĩ thuộc nhiều bài top hit nhất ở một Quốc Gia trong mùa hè năm 2022?"
   ]
  },
  {
   "cell_type": "markdown",
   "metadata": {},
   "source": [
    "Ca sĩ thuộc nhiều bài top hit: <br>\n",
    "+ Là ca sĩ hát nhiều bài trong top nhất. <br>\n",
    "\n",
    "Mùa hè năm 2022:<br>\n",
    "+ Những tuần thuộc tháng 4 5 6."
   ]
  },
  {
   "cell_type": "code",
   "execution_count": null,
   "metadata": {},
   "outputs": [],
   "source": [
    "spotify_df.columns"
   ]
  },
  {
   "cell_type": "code",
   "execution_count": null,
   "metadata": {},
   "outputs": [],
   "source": [
    "cols_work = [\"uri\", \"artist_names\", \"rank\", \"week\", \"country\"]\n",
    "df = spotify_df[cols_work]"
   ]
  },
  {
   "cell_type": "markdown",
   "metadata": {},
   "source": [
    "**Bước 1**: Lọc những bài hát thuộc mùa hè năm 2022"
   ]
  },
  {
   "cell_type": "code",
   "execution_count": null,
   "metadata": {},
   "outputs": [],
   "source": [
    "summer_song_df = df.loc[(df[\"week\"].dt.month > 3) & (df[\"week\"].dt.month < 7) & (df[\"week\"].dt.year == 2022)]\n",
    "# summer_song_df"
   ]
  },
  {
   "cell_type": "markdown",
   "metadata": {},
   "source": [
    "**Bước 2**: Tách cột tên thành từng dòng các nghệ sĩ của bài hát:"
   ]
  },
  {
   "cell_type": "code",
   "execution_count": null,
   "metadata": {},
   "outputs": [],
   "source": [
    "summer_song_df.artist_names"
   ]
  },
  {
   "cell_type": "code",
   "execution_count": null,
   "metadata": {},
   "outputs": [],
   "source": [
    "summer_song_df[\"artist_names\"]= summer_song_df.artist_names.apply(lambda x: x.split(\", \"))"
   ]
  },
  {
   "cell_type": "code",
   "execution_count": null,
   "metadata": {},
   "outputs": [],
   "source": [
    "summer_song_df"
   ]
  },
  {
   "cell_type": "markdown",
   "metadata": {},
   "source": [
    "Dùng hàm pd.DataFrame.explode để khai triển các tên trong list thành 1 row khác"
   ]
  },
  {
   "cell_type": "code",
   "execution_count": null,
   "metadata": {},
   "outputs": [],
   "source": [
    "summer_song_df = summer_song_df.explode(\"artist_names\")"
   ]
  },
  {
   "cell_type": "markdown",
   "metadata": {},
   "source": [
    "**Bước 3**: Tính số lượng bài hát mà ca sĩ đó tham gia."
   ]
  },
  {
   "cell_type": "code",
   "execution_count": null,
   "metadata": {},
   "outputs": [],
   "source": [
    "count_singer_in_summer_df = summer_song_df.groupby(\"country\")[\"artist_names\"].value_counts().to_frame().rename(columns = {\"artist_names\": \"count\"}).reset_index()\n",
    "count_singer_in_summer_df"
   ]
  },
  {
   "cell_type": "markdown",
   "metadata": {},
   "source": [
    "**Bước 4**: Tìm index có giá trị bằng với giá trị lớn nhất của mỗi group `country`<br>\n",
    "+ Tạo biến `idx` để chứa 1 Series `bool` tìm các vị trí trùng với vị trí `count` lớn nhất của mỗi group `country`"
   ]
  },
  {
   "cell_type": "code",
   "execution_count": null,
   "metadata": {},
   "outputs": [],
   "source": [
    "idx = count_singer_in_summer_df.groupby(\"country\")[\"count\"].transform(\"max\") == count_singer_in_summer_df[\"count\"]"
   ]
  },
  {
   "cell_type": "code",
   "execution_count": null,
   "metadata": {},
   "outputs": [],
   "source": [
    "favorite_artist_in_summer_df = count_singer_in_summer_df[idx].set_index(\"country\")"
   ]
  },
  {
   "cell_type": "code",
   "execution_count": null,
   "metadata": {},
   "outputs": [],
   "source": [
    "favorite_artist_in_summer_df"
   ]
  },
  {
   "cell_type": "markdown",
   "metadata": {},
   "source": [
    "Kiểm tra lại kết quả cho chắc"
   ]
  },
  {
   "cell_type": "code",
   "execution_count": null,
   "metadata": {},
   "outputs": [],
   "source": [
    "summer_song_df[(summer_song_df.country == \"Argentina\") & (summer_song_df.artist_names == \"Bad Bunny\")]"
   ]
  },
  {
   "cell_type": "markdown",
   "metadata": {},
   "source": [
    "---"
   ]
  },
  {
   "cell_type": "markdown",
   "metadata": {},
   "source": [
    "### **Câu 5**: Ca sĩ nào có tầm ảnh hưởng lớn nhất toàn thế giới ?"
   ]
  },
  {
   "cell_type": "markdown",
   "metadata": {},
   "source": [
    "- Ca sĩ có tầm hưởng tới thế giới: <Br>\n",
    "Là ca sĩ đạt tổng số lượt stream nhất định tính trên phương diện toàn thế giới\n",
    "- Tầm ảnh hưởng lớn nhất thế giới: <Br>\n",
    "Bài hát giúp cho chiếm `%` stream lớn nhất trên giúp ca sĩ đó đạt được top 1 thế giới"
   ]
  },
  {
   "cell_type": "markdown",
   "metadata": {},
   "source": [
    "**Bước 1**: Tìm ra ca sĩ nào đang có số lượng stream cao nhất toàn thế giới"
   ]
  },
  {
   "cell_type": "code",
   "execution_count": 82,
   "metadata": {},
   "outputs": [
    {
     "data": {
      "text/html": [
       "<div>\n",
       "<style scoped>\n",
       "    .dataframe tbody tr th:only-of-type {\n",
       "        vertical-align: middle;\n",
       "    }\n",
       "\n",
       "    .dataframe tbody tr th {\n",
       "        vertical-align: top;\n",
       "    }\n",
       "\n",
       "    .dataframe thead th {\n",
       "        text-align: right;\n",
       "    }\n",
       "</style>\n",
       "<table border=\"1\" class=\"dataframe\">\n",
       "  <thead>\n",
       "    <tr style=\"text-align: right;\">\n",
       "      <th></th>\n",
       "      <th>artist_names</th>\n",
       "      <th>streams</th>\n",
       "    </tr>\n",
       "  </thead>\n",
       "  <tbody>\n",
       "    <tr>\n",
       "      <th>0</th>\n",
       "      <td>Ed Sheeran</td>\n",
       "      <td>13643869470</td>\n",
       "    </tr>\n",
       "  </tbody>\n",
       "</table>\n",
       "</div>"
      ],
      "text/plain": [
       "  artist_names      streams\n",
       "0   Ed Sheeran  13643869470"
      ]
     },
     "execution_count": 82,
     "metadata": {},
     "output_type": "execute_result"
    }
   ],
   "source": [
    "info_streams = spotify_df[['uri', 'artist_names', 'streams', 'track_name']]\n",
    "view_info_artist = pd.DataFrame(info_streams.groupby(['artist_names'])['streams'].sum().sort_values(ascending= False)).reset_index()\n",
    "view_info_artist.iloc[[0]]"
   ]
  },
  {
   "cell_type": "markdown",
   "metadata": {},
   "source": [
    "Vậy có thể thấy `Ed Sheeran` chính là ca sĩ có tổng số lượng stream cao nhất thế giới"
   ]
  },
  {
   "cell_type": "markdown",
   "metadata": {},
   "source": [
    "**Bước 2**: Lấy thông tin số lượng streams của bài hát mà `Ed Sheeran` hát"
   ]
  },
  {
   "cell_type": "code",
   "execution_count": 84,
   "metadata": {},
   "outputs": [
    {
     "data": {
      "text/html": [
       "<div>\n",
       "<style scoped>\n",
       "    .dataframe tbody tr th:only-of-type {\n",
       "        vertical-align: middle;\n",
       "    }\n",
       "\n",
       "    .dataframe tbody tr th {\n",
       "        vertical-align: top;\n",
       "    }\n",
       "\n",
       "    .dataframe thead th {\n",
       "        text-align: right;\n",
       "    }\n",
       "</style>\n",
       "<table border=\"1\" class=\"dataframe\">\n",
       "  <thead>\n",
       "    <tr style=\"text-align: right;\">\n",
       "      <th></th>\n",
       "      <th>uri</th>\n",
       "      <th>artist_names</th>\n",
       "      <th>streams</th>\n",
       "      <th>track_name</th>\n",
       "    </tr>\n",
       "  </thead>\n",
       "  <tbody>\n",
       "    <tr>\n",
       "      <th>415</th>\n",
       "      <td>spotify:track:3rmo8F54jFF8OgYsqTxm5d</td>\n",
       "      <td>Ed Sheeran</td>\n",
       "      <td>244760</td>\n",
       "      <td>Bad Habits</td>\n",
       "    </tr>\n",
       "    <tr>\n",
       "      <th>554</th>\n",
       "      <td>spotify:track:6PQ88X9TkUIAUIZJHW2upE</td>\n",
       "      <td>Ed Sheeran</td>\n",
       "      <td>381023</td>\n",
       "      <td>Bad Habits</td>\n",
       "    </tr>\n",
       "    <tr>\n",
       "      <th>708</th>\n",
       "      <td>spotify:track:3rmo8F54jFF8OgYsqTxm5d</td>\n",
       "      <td>Ed Sheeran</td>\n",
       "      <td>220457</td>\n",
       "      <td>Bad Habits</td>\n",
       "    </tr>\n",
       "    <tr>\n",
       "      <th>925</th>\n",
       "      <td>spotify:track:6PQ88X9TkUIAUIZJHW2upE</td>\n",
       "      <td>Ed Sheeran</td>\n",
       "      <td>395016</td>\n",
       "      <td>Bad Habits</td>\n",
       "    </tr>\n",
       "    <tr>\n",
       "      <th>1016</th>\n",
       "      <td>spotify:track:3rmo8F54jFF8OgYsqTxm5d</td>\n",
       "      <td>Ed Sheeran</td>\n",
       "      <td>341046</td>\n",
       "      <td>Bad Habits</td>\n",
       "    </tr>\n",
       "    <tr>\n",
       "      <th>...</th>\n",
       "      <td>...</td>\n",
       "      <td>...</td>\n",
       "      <td>...</td>\n",
       "      <td>...</td>\n",
       "    </tr>\n",
       "    <tr>\n",
       "      <th>1103424</th>\n",
       "      <td>spotify:track:7qiZfU4dY1lWllzX7mPBI3</td>\n",
       "      <td>Ed Sheeran</td>\n",
       "      <td>28705</td>\n",
       "      <td>Shape of You</td>\n",
       "    </tr>\n",
       "    <tr>\n",
       "      <th>1103503</th>\n",
       "      <td>spotify:track:3rmo8F54jFF8OgYsqTxm5d</td>\n",
       "      <td>Ed Sheeran</td>\n",
       "      <td>49708</td>\n",
       "      <td>Bad Habits</td>\n",
       "    </tr>\n",
       "    <tr>\n",
       "      <th>1103509</th>\n",
       "      <td>spotify:track:50nfwKoDiSYg8zOCREWAm5</td>\n",
       "      <td>Ed Sheeran</td>\n",
       "      <td>46792</td>\n",
       "      <td>Shivers</td>\n",
       "    </tr>\n",
       "    <tr>\n",
       "      <th>1103625</th>\n",
       "      <td>spotify:track:3rmo8F54jFF8OgYsqTxm5d</td>\n",
       "      <td>Ed Sheeran</td>\n",
       "      <td>48632</td>\n",
       "      <td>Bad Habits</td>\n",
       "    </tr>\n",
       "    <tr>\n",
       "      <th>1103638</th>\n",
       "      <td>spotify:track:50nfwKoDiSYg8zOCREWAm5</td>\n",
       "      <td>Ed Sheeran</td>\n",
       "      <td>43808</td>\n",
       "      <td>Shivers</td>\n",
       "    </tr>\n",
       "  </tbody>\n",
       "</table>\n",
       "<p>10917 rows × 4 columns</p>\n",
       "</div>"
      ],
      "text/plain": [
       "                                          uri artist_names  streams  \\\n",
       "415      spotify:track:3rmo8F54jFF8OgYsqTxm5d   Ed Sheeran   244760   \n",
       "554      spotify:track:6PQ88X9TkUIAUIZJHW2upE   Ed Sheeran   381023   \n",
       "708      spotify:track:3rmo8F54jFF8OgYsqTxm5d   Ed Sheeran   220457   \n",
       "925      spotify:track:6PQ88X9TkUIAUIZJHW2upE   Ed Sheeran   395016   \n",
       "1016     spotify:track:3rmo8F54jFF8OgYsqTxm5d   Ed Sheeran   341046   \n",
       "...                                       ...          ...      ...   \n",
       "1103424  spotify:track:7qiZfU4dY1lWllzX7mPBI3   Ed Sheeran    28705   \n",
       "1103503  spotify:track:3rmo8F54jFF8OgYsqTxm5d   Ed Sheeran    49708   \n",
       "1103509  spotify:track:50nfwKoDiSYg8zOCREWAm5   Ed Sheeran    46792   \n",
       "1103625  spotify:track:3rmo8F54jFF8OgYsqTxm5d   Ed Sheeran    48632   \n",
       "1103638  spotify:track:50nfwKoDiSYg8zOCREWAm5   Ed Sheeran    43808   \n",
       "\n",
       "           track_name  \n",
       "415        Bad Habits  \n",
       "554        Bad Habits  \n",
       "708        Bad Habits  \n",
       "925        Bad Habits  \n",
       "1016       Bad Habits  \n",
       "...               ...  \n",
       "1103424  Shape of You  \n",
       "1103503    Bad Habits  \n",
       "1103509       Shivers  \n",
       "1103625    Bad Habits  \n",
       "1103638       Shivers  \n",
       "\n",
       "[10917 rows x 4 columns]"
      ]
     },
     "execution_count": 84,
     "metadata": {},
     "output_type": "execute_result"
    }
   ],
   "source": [
    "artist_name = info_streams.groupby(['artist_names'])['streams'].sum().sort_values(ascending= False).idxmax()\n",
    "info_song = info_streams.loc[info_streams['artist_names'] == artist_name]\n",
    "info_song"
   ]
  },
  {
   "cell_type": "markdown",
   "metadata": {},
   "source": [
    "**Bước 3**: Mô hình hoá dữ liệu dể dễ quan sát hơn"
   ]
  },
  {
   "cell_type": "code",
   "execution_count": 95,
   "metadata": {},
   "outputs": [
    {
     "name": "stdout",
     "output_type": "stream",
     "text": [
      "Index(['2step', 'Afterglow', 'Bad Habits', 'Barcelona', 'Be Right Now',\n",
      "       'Bibia Be Ye Ye', 'Castle on the Hill', 'Collide', 'Dive', 'Don't',\n",
      "       'Eraser', 'First Times', 'Galway Girl', 'Give Me Love', 'Happier',\n",
      "       'Hearts Don't Break Around Here', 'How Would You Feel (Paean)',\n",
      "       'I See Fire', 'Leave Your Life', 'Lego House', 'Love In Slow Motion',\n",
      "       'Nancy Mulligan', 'New Man', 'One Life', 'Overpass Graffiti', 'Perfect',\n",
      "       'Photograph', 'Sandman', 'Save Myself', 'Shape of You', 'Shivers',\n",
      "       'Sing', 'Stop The Rain', 'Supermarket Flowers', 'Tenerife Sea',\n",
      "       'The A Team', 'The Joker And The Queen', 'Thinking out Loud', 'Tides',\n",
      "       'Visiting Hours', 'What Do I Know?'],\n",
      "      dtype='object', name='track_name')\n"
     ]
    }
   ],
   "source": [
    "pie_df = info_song.groupby(['track_name'])['streams'].sum()\n",
    "\n",
    "plt.style.use('ggplot')\n",
    "fig, ax = plt.subplots(figsize=(15, 5))\n",
    "\n",
    "pie_df.plot(kind= 'pie', autopct='%.2f', ax = pie_df.values())\n",
    "ax.legend(pie_df.index, loc = 'lower right')\n",
    "df[col].plot(kind='pie', autopct='%.2f', labels=['','','',''],  ax=ax, title=col, fontsize=10)\n",
    "ax.legend(loc=3, labels=df.index)"
   ]
  },
  {
   "cell_type": "markdown",
   "metadata": {},
   "source": [
    "Vậy ca "
   ]
  }
 ],
 "metadata": {
  "kernelspec": {
   "display_name": "Python 3.8.13 ('snowpark')",
   "language": "python",
   "name": "python3"
  },
  "language_info": {
   "codemirror_mode": {
    "name": "ipython",
    "version": 3
   },
   "file_extension": ".py",
   "mimetype": "text/x-python",
   "name": "python",
   "nbconvert_exporter": "python",
   "pygments_lexer": "ipython3",
   "version": "3.8.13"
  },
  "vscode": {
   "interpreter": {
    "hash": "f0e576497e7f0cd170033b22c9228365e4554dde65087776f85da92d482e89fe"
   }
  }
 },
 "nbformat": 4,
 "nbformat_minor": 2
}
