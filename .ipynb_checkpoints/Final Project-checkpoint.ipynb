{
 "cells": [
  {
   "cell_type": "markdown",
   "metadata": {},
   "source": [
    "**<p style = \"text-align: center\">TRƯỜNG ĐẠI HỌC KHOA HỌC TỰ NHIÊN - ĐẠI HỌC QUỐC GIA TPHCM</p>**"
   ]
  },
  {
   "cell_type": "markdown",
   "metadata": {},
   "source": [
    "# **<p style = \"text-align: center\">LẬP TRÌNH KHOA HỌC DỮ LIỆU</p>**\n",
    "## **<p style = \"text-align: center\">Đồ án Cuối kì</p>**\n",
    "### <p style = \"text-align: center\"> <b>Đề tài:</b> KHÁM PHÁ, THỐNG KÊ CỦA TOP CÁC CA KHÚC TRÊN SPOTIFY</p>\n",
    "<p style = \"text-align: center\"> Sinh viên thực hiện </p>\n",
    "\n",
    "| Mã số sinh viên | Họ và tên |\n",
    "| --- | --- |\n",
    "| 20120040 | Nguyễn Quang Gia Bảo |\n",
    "| 20120127 | Trần Minh Tuấn Kiệt |\n",
    "| 20120136 | Huỳnh Tuấn Nam |\n",
    "| 20120158 | Trần Hoàng Anh Phi |"
   ]
  },
  {
   "cell_type": "markdown",
   "metadata": {},
   "source": [
    "---"
   ]
  },
  {
   "cell_type": "markdown",
   "metadata": {},
   "source": [
    "# **Thông tin về dữ liệu**<br>\n",
    "Dữ liệu được sử dụng trong bài được lấy từ trang: <a href = \"https://www.kaggle.com/datasets/yelexa/spotify200?select=final.csv\"> https://www.kaggle.com/datasets/yelexa/spotify200?select=final.csv</a><br>\n",
    "Dataset chứa các ca khúc nằm trong TOP 200 các ca khúc hay nhất trong 1 tuần từ 2021/02/04 ~ 2022/07/14\n"
   ]
  },
  {
   "cell_type": "code",
   "execution_count": 1,
   "metadata": {},
   "outputs": [],
   "source": [
    "import pandas as pd\n",
    "import numpy as np\n",
    "from matplotlib import pyplot as plt\n",
    "import seaborn as sns"
   ]
  },
  {
   "cell_type": "code",
   "execution_count": 2,
   "metadata": {},
   "outputs": [
    {
     "name": "stderr",
     "output_type": "stream",
     "text": [
      "C:\\Users\\ADMIN\\AppData\\Local\\Temp\\ipykernel_9268\\2503757291.py:1: DtypeWarning: Columns (2,4,9,12,15,16,17,18,20,21,22,23,24,25,26,27,28,29,30,31,35) have mixed types. Specify dtype option on import or set low_memory=False.\n",
      "  spotify_df = pd.read_csv(\"csv/final.csv\", index_col= 0)\n"
     ]
    }
   ],
   "source": [
    "spotify_df = pd.read_csv(\"csv/final.csv\", index_col= 0)"
   ]
  },
  {
   "cell_type": "markdown",
   "metadata": {},
   "source": [
    "# **Khám phá dữ liệu**"
   ]
  },
  {
   "cell_type": "markdown",
   "metadata": {},
   "source": [
    "## Một số thông tin cơ bản của Data Frame"
   ]
  },
  {
   "cell_type": "markdown",
   "metadata": {},
   "source": [
    "Xem vài dòng dữ liệu"
   ]
  },
  {
   "cell_type": "code",
   "execution_count": 3,
   "metadata": {},
   "outputs": [
    {
     "data": {
      "text/html": [
       "<div>\n",
       "<style scoped>\n",
       "    .dataframe tbody tr th:only-of-type {\n",
       "        vertical-align: middle;\n",
       "    }\n",
       "\n",
       "    .dataframe tbody tr th {\n",
       "        vertical-align: top;\n",
       "    }\n",
       "\n",
       "    .dataframe thead th {\n",
       "        text-align: right;\n",
       "    }\n",
       "</style>\n",
       "<table border=\"1\" class=\"dataframe\">\n",
       "  <thead>\n",
       "    <tr style=\"text-align: right;\">\n",
       "      <th></th>\n",
       "      <th>uri</th>\n",
       "      <th>rank</th>\n",
       "      <th>artist_names</th>\n",
       "      <th>artists_num</th>\n",
       "      <th>artist_individual</th>\n",
       "      <th>artist_id</th>\n",
       "      <th>artist_genre</th>\n",
       "      <th>artist_img</th>\n",
       "      <th>collab</th>\n",
       "      <th>track_name</th>\n",
       "      <th>...</th>\n",
       "      <th>acousticness</th>\n",
       "      <th>instrumentalness</th>\n",
       "      <th>liveness</th>\n",
       "      <th>valence</th>\n",
       "      <th>tempo</th>\n",
       "      <th>duration</th>\n",
       "      <th>country</th>\n",
       "      <th>region</th>\n",
       "      <th>language</th>\n",
       "      <th>pivot</th>\n",
       "    </tr>\n",
       "  </thead>\n",
       "  <tbody>\n",
       "    <tr>\n",
       "      <th>0</th>\n",
       "      <td>spotify:track:2gpQi3hbcUAcEG8m2dlgfB</td>\n",
       "      <td>1</td>\n",
       "      <td>Paulo Londra</td>\n",
       "      <td>1.0</td>\n",
       "      <td>Paulo Londra</td>\n",
       "      <td>spotify:artist:3vQ0GE3mI0dAaxIMYe5g7z</td>\n",
       "      <td>argentine hip hop</td>\n",
       "      <td>https://i.scdn.co/image/ab6761610000e5ebf796a9...</td>\n",
       "      <td>0</td>\n",
       "      <td>Plan A</td>\n",
       "      <td>...</td>\n",
       "      <td>0.0495</td>\n",
       "      <td>0.0</td>\n",
       "      <td>0.0658</td>\n",
       "      <td>0.557</td>\n",
       "      <td>173.935</td>\n",
       "      <td>178203.0</td>\n",
       "      <td>Argentina</td>\n",
       "      <td>South America</td>\n",
       "      <td>Spanish</td>\n",
       "      <td>0</td>\n",
       "    </tr>\n",
       "    <tr>\n",
       "      <th>1</th>\n",
       "      <td>spotify:track:2x8oBuYaObjqHqgGuIUZ0b</td>\n",
       "      <td>2</td>\n",
       "      <td>WOS</td>\n",
       "      <td>1.0</td>\n",
       "      <td>WOS</td>\n",
       "      <td>spotify:artist:5YCc6xS5Gpj3EkaYGdjyNK</td>\n",
       "      <td>argentine indie</td>\n",
       "      <td>https://i.scdn.co/image/ab6761610000e5eb75e151...</td>\n",
       "      <td>0</td>\n",
       "      <td>ARRANCARMELO</td>\n",
       "      <td>...</td>\n",
       "      <td>0.724</td>\n",
       "      <td>0.0</td>\n",
       "      <td>0.134</td>\n",
       "      <td>0.262</td>\n",
       "      <td>81.956</td>\n",
       "      <td>183547.0</td>\n",
       "      <td>Argentina</td>\n",
       "      <td>South America</td>\n",
       "      <td>Spanish</td>\n",
       "      <td>0</td>\n",
       "    </tr>\n",
       "    <tr>\n",
       "      <th>2</th>\n",
       "      <td>spotify:track:2SJZdZ5DLtlRosJ2xHJJJa</td>\n",
       "      <td>3</td>\n",
       "      <td>Paulo Londra</td>\n",
       "      <td>1.0</td>\n",
       "      <td>Paulo Londra</td>\n",
       "      <td>spotify:artist:3vQ0GE3mI0dAaxIMYe5g7z</td>\n",
       "      <td>argentine hip hop</td>\n",
       "      <td>https://i.scdn.co/image/ab6761610000e5ebf796a9...</td>\n",
       "      <td>0</td>\n",
       "      <td>Chance</td>\n",
       "      <td>...</td>\n",
       "      <td>0.241</td>\n",
       "      <td>0.0</td>\n",
       "      <td>0.0929</td>\n",
       "      <td>0.216</td>\n",
       "      <td>137.915</td>\n",
       "      <td>204003.0</td>\n",
       "      <td>Argentina</td>\n",
       "      <td>South America</td>\n",
       "      <td>Spanish</td>\n",
       "      <td>0</td>\n",
       "    </tr>\n",
       "    <tr>\n",
       "      <th>3</th>\n",
       "      <td>spotify:track:1O2pcBJGej0pmH2Y9XZMs6</td>\n",
       "      <td>5</td>\n",
       "      <td>Cris Mj</td>\n",
       "      <td>1.0</td>\n",
       "      <td>Cris Mj</td>\n",
       "      <td>spotify:artist:1Yj5Xey7kTwvZla8sqdsdE</td>\n",
       "      <td>urbano chileno</td>\n",
       "      <td>https://i.scdn.co/image/ab6761610000e5eb8f4ebc...</td>\n",
       "      <td>0</td>\n",
       "      <td>Una Noche en Medellín</td>\n",
       "      <td>...</td>\n",
       "      <td>0.0924</td>\n",
       "      <td>0.000046</td>\n",
       "      <td>0.0534</td>\n",
       "      <td>0.832</td>\n",
       "      <td>96.018</td>\n",
       "      <td>153750.0</td>\n",
       "      <td>Argentina</td>\n",
       "      <td>South America</td>\n",
       "      <td>Spanish</td>\n",
       "      <td>0</td>\n",
       "    </tr>\n",
       "    <tr>\n",
       "      <th>4</th>\n",
       "      <td>spotify:track:1TpZKxGnHp37ohJRszTSiq</td>\n",
       "      <td>6</td>\n",
       "      <td>Emilia</td>\n",
       "      <td>1.0</td>\n",
       "      <td>Emilia</td>\n",
       "      <td>spotify:artist:0AqlFI0tz2DsEoJlKSIiT9</td>\n",
       "      <td>pop argentino</td>\n",
       "      <td>https://i.scdn.co/image/ab6761610000e5ebaf96d1...</td>\n",
       "      <td>0</td>\n",
       "      <td>cuatro veinte</td>\n",
       "      <td>...</td>\n",
       "      <td>0.0811</td>\n",
       "      <td>0.000063</td>\n",
       "      <td>0.101</td>\n",
       "      <td>0.501</td>\n",
       "      <td>95.066</td>\n",
       "      <td>133895.0</td>\n",
       "      <td>Argentina</td>\n",
       "      <td>South America</td>\n",
       "      <td>Spanish</td>\n",
       "      <td>0</td>\n",
       "    </tr>\n",
       "  </tbody>\n",
       "</table>\n",
       "<p>5 rows × 35 columns</p>\n",
       "</div>"
      ],
      "text/plain": [
       "                                    uri rank  artist_names artists_num  \\\n",
       "0  spotify:track:2gpQi3hbcUAcEG8m2dlgfB    1  Paulo Londra         1.0   \n",
       "1  spotify:track:2x8oBuYaObjqHqgGuIUZ0b    2           WOS         1.0   \n",
       "2  spotify:track:2SJZdZ5DLtlRosJ2xHJJJa    3  Paulo Londra         1.0   \n",
       "3  spotify:track:1O2pcBJGej0pmH2Y9XZMs6    5       Cris Mj         1.0   \n",
       "4  spotify:track:1TpZKxGnHp37ohJRszTSiq    6        Emilia         1.0   \n",
       "\n",
       "  artist_individual                              artist_id       artist_genre  \\\n",
       "0      Paulo Londra  spotify:artist:3vQ0GE3mI0dAaxIMYe5g7z  argentine hip hop   \n",
       "1               WOS  spotify:artist:5YCc6xS5Gpj3EkaYGdjyNK    argentine indie   \n",
       "2      Paulo Londra  spotify:artist:3vQ0GE3mI0dAaxIMYe5g7z  argentine hip hop   \n",
       "3           Cris Mj  spotify:artist:1Yj5Xey7kTwvZla8sqdsdE     urbano chileno   \n",
       "4            Emilia  spotify:artist:0AqlFI0tz2DsEoJlKSIiT9      pop argentino   \n",
       "\n",
       "                                          artist_img collab  \\\n",
       "0  https://i.scdn.co/image/ab6761610000e5ebf796a9...      0   \n",
       "1  https://i.scdn.co/image/ab6761610000e5eb75e151...      0   \n",
       "2  https://i.scdn.co/image/ab6761610000e5ebf796a9...      0   \n",
       "3  https://i.scdn.co/image/ab6761610000e5eb8f4ebc...      0   \n",
       "4  https://i.scdn.co/image/ab6761610000e5ebaf96d1...      0   \n",
       "\n",
       "              track_name  ... acousticness instrumentalness liveness valence  \\\n",
       "0                 Plan A  ...       0.0495              0.0   0.0658   0.557   \n",
       "1           ARRANCARMELO  ...        0.724              0.0    0.134   0.262   \n",
       "2                 Chance  ...        0.241              0.0   0.0929   0.216   \n",
       "3  Una Noche en Medellín  ...       0.0924         0.000046   0.0534   0.832   \n",
       "4          cuatro veinte  ...       0.0811         0.000063    0.101   0.501   \n",
       "\n",
       "     tempo  duration    country         region language pivot  \n",
       "0  173.935  178203.0  Argentina  South America  Spanish     0  \n",
       "1   81.956  183547.0  Argentina  South America  Spanish     0  \n",
       "2  137.915  204003.0  Argentina  South America  Spanish     0  \n",
       "3   96.018  153750.0  Argentina  South America  Spanish     0  \n",
       "4   95.066  133895.0  Argentina  South America  Spanish     0  \n",
       "\n",
       "[5 rows x 35 columns]"
      ]
     },
     "execution_count": 3,
     "metadata": {},
     "output_type": "execute_result"
    }
   ],
   "source": [
    "spotify_df.head()"
   ]
  },
  {
   "cell_type": "markdown",
   "metadata": {},
   "source": [
    "Số chiều của Data Frame"
   ]
  },
  {
   "cell_type": "code",
   "execution_count": 4,
   "metadata": {},
   "outputs": [
    {
     "data": {
      "text/plain": [
       "(1787999, 35)"
      ]
     },
     "execution_count": 4,
     "metadata": {},
     "output_type": "execute_result"
    }
   ],
   "source": [
    "spotify_df.shape"
   ]
  },
  {
   "cell_type": "markdown",
   "metadata": {},
   "source": [
    "Tên của các cột"
   ]
  },
  {
   "cell_type": "code",
   "execution_count": 5,
   "metadata": {},
   "outputs": [
    {
     "data": {
      "text/plain": [
       "Index(['uri', 'rank', 'artist_names', 'artists_num', 'artist_individual',\n",
       "       'artist_id', 'artist_genre', 'artist_img', 'collab', 'track_name',\n",
       "       'release_date', 'album_num_tracks', 'album_cover', 'source',\n",
       "       'peak_rank', 'previous_rank', 'weeks_on_chart', 'streams', 'week',\n",
       "       'danceability', 'energy', 'key', 'mode', 'loudness', 'speechiness',\n",
       "       'acousticness', 'instrumentalness', 'liveness', 'valence', 'tempo',\n",
       "       'duration', 'country', 'region', 'language', 'pivot'],\n",
       "      dtype='object')"
      ]
     },
     "execution_count": 5,
     "metadata": {},
     "output_type": "execute_result"
    }
   ],
   "source": [
    "spotify_df.columns"
   ]
  },
  {
   "cell_type": "markdown",
   "metadata": {},
   "source": [
    "## Thông tin của một dòng"
   ]
  },
  {
   "cell_type": "markdown",
   "metadata": {},
   "source": [
    "Mỗi một dòng dữ liệu là thông tin của một bài hát thịnh hành trong TOP 200 của một tuần bất kì."
   ]
  },
  {
   "cell_type": "markdown",
   "metadata": {},
   "source": [
    "## Thông tin của một cột"
   ]
  },
  {
   "cell_type": "code",
   "execution_count": 6,
   "metadata": {
    "scrolled": true
   },
   "outputs": [
    {
     "data": {
      "text/html": [
       "<div>\n",
       "<style scoped>\n",
       "    .dataframe tbody tr th:only-of-type {\n",
       "        vertical-align: middle;\n",
       "    }\n",
       "\n",
       "    .dataframe tbody tr th {\n",
       "        vertical-align: top;\n",
       "    }\n",
       "\n",
       "    .dataframe thead th {\n",
       "        text-align: right;\n",
       "    }\n",
       "</style>\n",
       "<table border=\"1\" class=\"dataframe\">\n",
       "  <thead>\n",
       "    <tr style=\"text-align: right;\">\n",
       "      <th></th>\n",
       "      <th>Tên cột</th>\n",
       "      <th>Mô tả</th>\n",
       "    </tr>\n",
       "  </thead>\n",
       "  <tbody>\n",
       "    <tr>\n",
       "      <th>0</th>\n",
       "      <td>uri</td>\n",
       "      <td>URI của bản nhạc trên spotify</td>\n",
       "    </tr>\n",
       "    <tr>\n",
       "      <th>1</th>\n",
       "      <td>rank</td>\n",
       "      <td>Xếp hạng của bản nhạc trong tuần</td>\n",
       "    </tr>\n",
       "    <tr>\n",
       "      <th>2</th>\n",
       "      <td>artist names</td>\n",
       "      <td>Tên tất cả người thực hiện ca khúc</td>\n",
       "    </tr>\n",
       "    <tr>\n",
       "      <th>3</th>\n",
       "      <td>artists num</td>\n",
       "      <td>Số người thực hiện bài hát</td>\n",
       "    </tr>\n",
       "    <tr>\n",
       "      <th>4</th>\n",
       "      <td>artist individual</td>\n",
       "      <td>Bài hát của cá nhân nghệ sĩ</td>\n",
       "    </tr>\n",
       "    <tr>\n",
       "      <th>5</th>\n",
       "      <td>artist id</td>\n",
       "      <td>URI của nghệ sĩ độc quyền bài hát</td>\n",
       "    </tr>\n",
       "    <tr>\n",
       "      <th>6</th>\n",
       "      <td>artist genre</td>\n",
       "      <td>Thể loại mà nghệ sĩ trình diễn</td>\n",
       "    </tr>\n",
       "    <tr>\n",
       "      <th>7</th>\n",
       "      <td>artist img</td>\n",
       "      <td>Đường dẫn hình ảnh của nghệ sĩ</td>\n",
       "    </tr>\n",
       "    <tr>\n",
       "      <th>8</th>\n",
       "      <td>collab</td>\n",
       "      <td>0 nếu nghệ sĩ trình diễn một mình và 1 nếu ngược lại</td>\n",
       "    </tr>\n",
       "    <tr>\n",
       "      <th>9</th>\n",
       "      <td>track name</td>\n",
       "      <td>tên của bản nhạc</td>\n",
       "    </tr>\n",
       "    <tr>\n",
       "      <th>10</th>\n",
       "      <td>release date</td>\n",
       "      <td>ngày phát hành album</td>\n",
       "    </tr>\n",
       "    <tr>\n",
       "      <th>11</th>\n",
       "      <td>album num tracks</td>\n",
       "      <td>Số bản nhạc trong album</td>\n",
       "    </tr>\n",
       "    <tr>\n",
       "      <th>12</th>\n",
       "      <td>album cover</td>\n",
       "      <td>Bìa của album</td>\n",
       "    </tr>\n",
       "    <tr>\n",
       "      <th>13</th>\n",
       "      <td>source</td>\n",
       "      <td>Hãng thu âm bài hát</td>\n",
       "    </tr>\n",
       "    <tr>\n",
       "      <th>14</th>\n",
       "      <td>peak rank</td>\n",
       "      <td>Xếp hạng cao nhất của bài hát đã nhận trên Spotify</td>\n",
       "    </tr>\n",
       "    <tr>\n",
       "      <th>15</th>\n",
       "      <td>previous rank</td>\n",
       "      <td>Xếp hạng của bài hát trong tuần trước</td>\n",
       "    </tr>\n",
       "    <tr>\n",
       "      <th>16</th>\n",
       "      <td>weeks on chart</td>\n",
       "      <td>Số tuần mà bài hát được xếp hạng</td>\n",
       "    </tr>\n",
       "    <tr>\n",
       "      <th>17</th>\n",
       "      <td>streams</td>\n",
       "      <td>số lượt phát trong tuần</td>\n",
       "    </tr>\n",
       "    <tr>\n",
       "      <th>18</th>\n",
       "      <td>danceability, energy, key, mode, loudness, speechiness, acousticness, instrumentalness, liveness, valence, tempo, duration</td>\n",
       "      <td>Là các cột đánh giá mức độ, tiết tấu của bài hát</td>\n",
       "    </tr>\n",
       "    <tr>\n",
       "      <th>19</th>\n",
       "      <td>country</td>\n",
       "      <td>Quốc gia mà bài hát được xếp hạng</td>\n",
       "    </tr>\n",
       "    <tr>\n",
       "      <th>20</th>\n",
       "      <td>region</td>\n",
       "      <td>Vùng, lãnh thổ của Quốc gia</td>\n",
       "    </tr>\n",
       "    <tr>\n",
       "      <th>21</th>\n",
       "      <td>language</td>\n",
       "      <td>Ngôn ngữ mà bài hát này trình bày</td>\n",
       "    </tr>\n",
       "    <tr>\n",
       "      <th>22</th>\n",
       "      <td>pivot</td>\n",
       "      <td>Khi có nhiều nghệ sĩ trình diễn, 0 nếu nghệ sĩ đầu tiên là nghệ sĩ của bản nhạc và 1 nếu ngược lại</td>\n",
       "    </tr>\n",
       "  </tbody>\n",
       "</table>\n",
       "</div>"
      ],
      "text/plain": [
       "                                                                                                                       Tên cột                                                                                               Mô tả\n",
       "0                                                                                                                          uri                                                                       URI của bản nhạc trên spotify\n",
       "1                                                                                                                         rank                                                                    Xếp hạng của bản nhạc trong tuần\n",
       "2                                                                                                                 artist names                                                                  Tên tất cả người thực hiện ca khúc\n",
       "3                                                                                                                  artists num                                                                          Số người thực hiện bài hát\n",
       "4                                                                                                            artist individual                                                                        Bài hát của cá nhân nghệ sĩ \n",
       "5                                                                                                                    artist id                                                                   URI của nghệ sĩ độc quyền bài hát\n",
       "6                                                                                                                 artist genre                                                                      Thể loại mà nghệ sĩ trình diễn\n",
       "7                                                                                                                   artist img                                                                      Đường dẫn hình ảnh của nghệ sĩ\n",
       "8                                                                                                                       collab                                                0 nếu nghệ sĩ trình diễn một mình và 1 nếu ngược lại\n",
       "9                                                                                                                   track name                                                                                    tên của bản nhạc\n",
       "10                                                                                                                release date                                                                                ngày phát hành album\n",
       "11                                                                                                            album num tracks                                                                             Số bản nhạc trong album\n",
       "12                                                                                                                 album cover                                                                                       Bìa của album\n",
       "13                                                                                                                      source                                                                                 Hãng thu âm bài hát\n",
       "14                                                                                                                   peak rank                                                  Xếp hạng cao nhất của bài hát đã nhận trên Spotify\n",
       "15                                                                                                               previous rank                                                               Xếp hạng của bài hát trong tuần trước\n",
       "16                                                                                                              weeks on chart                                                                    Số tuần mà bài hát được xếp hạng\n",
       "17                                                                                                                     streams                                                                             số lượt phát trong tuần\n",
       "18  danceability, energy, key, mode, loudness, speechiness, acousticness, instrumentalness, liveness, valence, tempo, duration                                                    Là các cột đánh giá mức độ, tiết tấu của bài hát\n",
       "19                                                                                                                     country                                                                   Quốc gia mà bài hát được xếp hạng\n",
       "20                                                                                                                      region                                                                         Vùng, lãnh thổ của Quốc gia\n",
       "21                                                                                                                    language                                                                   Ngôn ngữ mà bài hát này trình bày\n",
       "22                                                                                                                       pivot  Khi có nhiều nghệ sĩ trình diễn, 0 nếu nghệ sĩ đầu tiên là nghệ sĩ của bản nhạc và 1 nếu ngược lại"
      ]
     },
     "execution_count": 6,
     "metadata": {},
     "output_type": "execute_result"
    }
   ],
   "source": [
    "# pd.set_option('display.max_rows', None)\n",
    "# pd.set_option('display.max_columns', None)\n",
    "# pd.set_option('display.width', None)\n",
    "# pd.set_option('display.expand_frame_repr', False)\n",
    "pd.set_option('display.max_columns', None)\n",
    "pd.set_option('display.expand_frame_repr', False)\n",
    "pd.set_option('max_colwidth', None)\n",
    "columns_describe_df = pd.read_csv(\"csv/columns.csv\")\n",
    "columns_describe_df"
   ]
  },
  {
   "cell_type": "markdown",
   "metadata": {},
   "source": [
    "Để thuẩn tiện cho việc xử lí dữ liệu, nên chọn ra những cột thể hiện được đặc trưng của dữ liệu, một phần giúp giảm lượng dữ liệu cần giải quyết"
   ]
  },
  {
   "cell_type": "markdown",
   "metadata": {},
   "source": [
    "Các cột cần thiết như: <br>\n",
    "**Về bản nhạc**: uri, rank, artists_name, artists_num, artist_individual, collab, track_name, release_date, source, peak_rank, previous_rank, weeks_on_rank, streams, country, region, language<br>\n",
    "**Về nghệ sĩ độc quyền của bản nhạc**: artist_id, artist_genre<br>"
   ]
  },
  {
   "cell_type": "code",
   "execution_count": 7,
   "metadata": {},
   "outputs": [],
   "source": [
    "cols = [\"uri\", \"rank\", 'artist_names', 'artists_num', 'artist_individual', 'collab', 'track_name', 'release_date', 'source', 'peak_rank', 'previous_rank', 'weeks_on_chart', 'streams', 'country', 'region', 'language', 'artist_id', 'artist_genre']\n",
    "spotify_df = spotify_df[cols]"
   ]
  },
  {
   "cell_type": "markdown",
   "metadata": {},
   "source": [
    "**Xảy ra một số vấn đề về kiểu dữ liệu. Là do có nhiều kiểu dữ liệu bên trong cột.**"
   ]
  },
  {
   "cell_type": "code",
   "execution_count": 8,
   "metadata": {},
   "outputs": [],
   "source": [
    "def open_oject_dtype(column):\n",
    "    dtypes = set(column.apply(lambda x: type(x)))\n",
    "    \n",
    "    return dtypes"
   ]
  },
  {
   "cell_type": "code",
   "execution_count": 9,
   "metadata": {},
   "outputs": [
    {
     "data": {
      "text/plain": [
       "uri                                   {<class 'str'>}\n",
       "rank                   {<class 'int'>, <class 'str'>}\n",
       "artist_names                          {<class 'str'>}\n",
       "artists_num          {<class 'float'>, <class 'str'>}\n",
       "artist_individual                     {<class 'str'>}\n",
       "collab                 {<class 'int'>, <class 'str'>}\n",
       "track_name                            {<class 'str'>}\n",
       "release_date                          {<class 'str'>}\n",
       "source                                {<class 'str'>}\n",
       "peak_rank              {<class 'int'>, <class 'str'>}\n",
       "previous_rank          {<class 'int'>, <class 'str'>}\n",
       "weeks_on_chart         {<class 'int'>, <class 'str'>}\n",
       "streams                {<class 'int'>, <class 'str'>}\n",
       "country                               {<class 'str'>}\n",
       "region                                {<class 'str'>}\n",
       "language                              {<class 'str'>}\n",
       "artist_id                             {<class 'str'>}\n",
       "artist_genre                          {<class 'str'>}\n",
       "dtype: object"
      ]
     },
     "execution_count": 9,
     "metadata": {},
     "output_type": "execute_result"
    }
   ],
   "source": [
    "columns = spotify_df.columns\n",
    "# open_oject_dtype(spotify_df[\"uri\"])\n",
    "spotify_df[columns].apply(open_oject_dtype)"
   ]
  },
  {
   "cell_type": "code",
   "execution_count": 10,
   "metadata": {},
   "outputs": [],
   "source": [
    "# spotify_df[\"rank\"].unique()\n",
    "\n",
    "# spotify_df[\"artists_num\"].unique()\n",
    "\n",
    "# spotify_df[\"collab\"].unique()\n",
    "\n",
    "# spotify_df[\"peak_rank\"].unique()\n",
    "\n",
    "# spotify_df[\"previous_rank\"].unique()\n",
    "\n",
    "# spotify_df[\"weeks_on_chart\"].unique()\n",
    "\n",
    "# spotify_df[\"streams\"].unique()\n",
    "\n",
    "# spotify_df[spotify_df[\"uri\"] == \"uri\"]"
   ]
  },
  {
   "cell_type": "markdown",
   "metadata": {},
   "source": [
    "Cột `rank`, `artists_num`, `collab`, `peak_rank`, `previous_rank`, `weeks_on_chart`, `streams`: một phần số với kiểu dữ liệu **int**, một phần số với kiểu dữ liệu là **str**<br>\n",
    "Và có vài dòng trùng với tên cột. Và có 73 dòng như vậy."
   ]
  },
  {
   "cell_type": "markdown",
   "metadata": {},
   "source": [
    "## **Kiểm tra xem các trường dữ liệu có vấn đề gì không**"
   ]
  },
  {
   "cell_type": "markdown",
   "metadata": {},
   "source": [
    "**Dữ liệu bị thiếu, rỗng**"
   ]
  },
  {
   "cell_type": "code",
   "execution_count": 11,
   "metadata": {},
   "outputs": [
    {
     "name": "stdout",
     "output_type": "stream",
     "text": [
      "<class 'pandas.core.series.Series'>\n",
      "Int64Index: 1787999 entries, 0 to 1787998\n",
      "Series name: uri\n",
      "Non-Null Count    Dtype \n",
      "--------------    ----- \n",
      "1787999 non-null  object\n",
      "dtypes: object(1)\n",
      "memory usage: 27.3+ MB\n",
      "None\n",
      "\n",
      "\n",
      "<class 'pandas.core.series.Series'>\n",
      "Int64Index: 1787999 entries, 0 to 1787998\n",
      "Series name: rank\n",
      "Non-Null Count    Dtype \n",
      "--------------    ----- \n",
      "1787999 non-null  object\n",
      "dtypes: object(1)\n",
      "memory usage: 27.3+ MB\n",
      "None\n",
      "\n",
      "\n",
      "<class 'pandas.core.series.Series'>\n",
      "Int64Index: 1787999 entries, 0 to 1787998\n",
      "Series name: artist_names\n",
      "Non-Null Count    Dtype \n",
      "--------------    ----- \n",
      "1787999 non-null  object\n",
      "dtypes: object(1)\n",
      "memory usage: 27.3+ MB\n",
      "None\n",
      "\n",
      "\n",
      "<class 'pandas.core.series.Series'>\n",
      "Int64Index: 1787999 entries, 0 to 1787998\n",
      "Series name: artists_num\n",
      "Non-Null Count    Dtype \n",
      "--------------    ----- \n",
      "1787999 non-null  object\n",
      "dtypes: object(1)\n",
      "memory usage: 27.3+ MB\n",
      "None\n",
      "\n",
      "\n",
      "<class 'pandas.core.series.Series'>\n",
      "Int64Index: 1787999 entries, 0 to 1787998\n",
      "Series name: artist_individual\n",
      "Non-Null Count    Dtype \n",
      "--------------    ----- \n",
      "1787999 non-null  object\n",
      "dtypes: object(1)\n",
      "memory usage: 27.3+ MB\n",
      "None\n",
      "\n",
      "\n",
      "<class 'pandas.core.series.Series'>\n",
      "Int64Index: 1787999 entries, 0 to 1787998\n",
      "Series name: collab\n",
      "Non-Null Count    Dtype \n",
      "--------------    ----- \n",
      "1787999 non-null  object\n",
      "dtypes: object(1)\n",
      "memory usage: 27.3+ MB\n",
      "None\n",
      "\n",
      "\n",
      "<class 'pandas.core.series.Series'>\n",
      "Int64Index: 1787999 entries, 0 to 1787998\n",
      "Series name: track_name\n",
      "Non-Null Count    Dtype \n",
      "--------------    ----- \n",
      "1787999 non-null  object\n",
      "dtypes: object(1)\n",
      "memory usage: 27.3+ MB\n",
      "None\n",
      "\n",
      "\n",
      "<class 'pandas.core.series.Series'>\n",
      "Int64Index: 1787999 entries, 0 to 1787998\n",
      "Series name: release_date\n",
      "Non-Null Count    Dtype \n",
      "--------------    ----- \n",
      "1787999 non-null  object\n",
      "dtypes: object(1)\n",
      "memory usage: 27.3+ MB\n",
      "None\n",
      "\n",
      "\n",
      "<class 'pandas.core.series.Series'>\n",
      "Int64Index: 1787999 entries, 0 to 1787998\n",
      "Series name: source\n",
      "Non-Null Count    Dtype \n",
      "--------------    ----- \n",
      "1787999 non-null  object\n",
      "dtypes: object(1)\n",
      "memory usage: 27.3+ MB\n",
      "None\n",
      "\n",
      "\n",
      "<class 'pandas.core.series.Series'>\n",
      "Int64Index: 1787999 entries, 0 to 1787998\n",
      "Series name: peak_rank\n",
      "Non-Null Count    Dtype \n",
      "--------------    ----- \n",
      "1787999 non-null  object\n",
      "dtypes: object(1)\n",
      "memory usage: 27.3+ MB\n",
      "None\n",
      "\n",
      "\n",
      "<class 'pandas.core.series.Series'>\n",
      "Int64Index: 1787999 entries, 0 to 1787998\n",
      "Series name: previous_rank\n",
      "Non-Null Count    Dtype \n",
      "--------------    ----- \n",
      "1787999 non-null  object\n",
      "dtypes: object(1)\n",
      "memory usage: 27.3+ MB\n",
      "None\n",
      "\n",
      "\n",
      "<class 'pandas.core.series.Series'>\n",
      "Int64Index: 1787999 entries, 0 to 1787998\n",
      "Series name: weeks_on_chart\n",
      "Non-Null Count    Dtype \n",
      "--------------    ----- \n",
      "1787999 non-null  object\n",
      "dtypes: object(1)\n",
      "memory usage: 27.3+ MB\n",
      "None\n",
      "\n",
      "\n",
      "<class 'pandas.core.series.Series'>\n",
      "Int64Index: 1787999 entries, 0 to 1787998\n",
      "Series name: streams\n",
      "Non-Null Count    Dtype \n",
      "--------------    ----- \n",
      "1787999 non-null  object\n",
      "dtypes: object(1)\n",
      "memory usage: 27.3+ MB\n",
      "None\n",
      "\n",
      "\n",
      "<class 'pandas.core.series.Series'>\n",
      "Int64Index: 1787999 entries, 0 to 1787998\n",
      "Series name: country\n",
      "Non-Null Count    Dtype \n",
      "--------------    ----- \n",
      "1787999 non-null  object\n",
      "dtypes: object(1)\n",
      "memory usage: 27.3+ MB\n",
      "None\n",
      "\n",
      "\n",
      "<class 'pandas.core.series.Series'>\n",
      "Int64Index: 1787999 entries, 0 to 1787998\n",
      "Series name: region\n",
      "Non-Null Count    Dtype \n",
      "--------------    ----- \n",
      "1787999 non-null  object\n",
      "dtypes: object(1)\n",
      "memory usage: 27.3+ MB\n",
      "None\n",
      "\n",
      "\n",
      "<class 'pandas.core.series.Series'>\n",
      "Int64Index: 1787999 entries, 0 to 1787998\n",
      "Series name: language\n",
      "Non-Null Count    Dtype \n",
      "--------------    ----- \n",
      "1787999 non-null  object\n",
      "dtypes: object(1)\n",
      "memory usage: 27.3+ MB\n",
      "None\n",
      "\n",
      "\n",
      "<class 'pandas.core.series.Series'>\n",
      "Int64Index: 1787999 entries, 0 to 1787998\n",
      "Series name: artist_id\n",
      "Non-Null Count    Dtype \n",
      "--------------    ----- \n",
      "1787999 non-null  object\n",
      "dtypes: object(1)\n",
      "memory usage: 27.3+ MB\n",
      "None\n",
      "\n",
      "\n",
      "<class 'pandas.core.series.Series'>\n",
      "Int64Index: 1787999 entries, 0 to 1787998\n",
      "Series name: artist_genre\n",
      "Non-Null Count    Dtype \n",
      "--------------    ----- \n",
      "1787999 non-null  object\n",
      "dtypes: object(1)\n",
      "memory usage: 27.3+ MB\n",
      "None\n",
      "\n",
      "\n"
     ]
    }
   ],
   "source": [
    "# spotify_df[spotify_df.isna().any(axis=1)]\n",
    "# spotify_df[spotify_df.isnull().any(axis=1)]\n",
    "\n",
    "for col in columns:\n",
    "    print(spotify_df[col].info())\n",
    "    print(\"\\n\")"
   ]
  },
  {
   "cell_type": "markdown",
   "metadata": {},
   "source": [
    "Như vậy tất cả các dòng không thiếu dữ liệu."
   ]
  },
  {
   "cell_type": "markdown",
   "metadata": {},
   "source": [
    "**Dữ liệu có bị trùng hay không**"
   ]
  },
  {
   "cell_type": "code",
   "execution_count": 12,
   "metadata": {},
   "outputs": [
    {
     "data": {
      "text/plain": [
       "False    1787927\n",
       "True          72\n",
       "dtype: int64"
      ]
     },
     "execution_count": 12,
     "metadata": {},
     "output_type": "execute_result"
    }
   ],
   "source": [
    "spotify_df.duplicated().value_counts()"
   ]
  },
  {
   "cell_type": "markdown",
   "metadata": {},
   "source": [
    "Như vậy có đến 73 giá trị trùng nhau (72 + 1 giá trị gốc), và bằng với số lượng dòng có giá trị giống tên cột. Như vậy dữ liệu hầu như không có giá trị nào bị trùng cả."
   ]
  },
  {
   "cell_type": "markdown",
   "metadata": {},
   "source": [
    "# **Tiền xử lý dữ liệu**"
   ]
  },
  {
   "cell_type": "markdown",
   "metadata": {},
   "source": [
    "**Xóa các hàng trùng với tên cột**"
   ]
  },
  {
   "cell_type": "code",
   "execution_count": 13,
   "metadata": {},
   "outputs": [],
   "source": [
    "#YOUR CODE HERE "
   ]
  },
  {
   "cell_type": "markdown",
   "metadata": {},
   "source": [
    "**Thay đổi kiểu dữ liệu**<br>\n",
    "Đổi kiểu dữ liệu của các cột: `rank`, `artists_num`, `collab`, `peak_rank`, `previous_rank`, `weeks_on_chart`, `streams` sang kiểu dữ liệu `np.int64` hoặc `np.int32`"
   ]
  },
  {
   "cell_type": "code",
   "execution_count": null,
   "metadata": {},
   "outputs": [],
   "source": [
    "#YOUR CODE HERE"
   ]
  },
  {
   "cell_type": "code",
   "execution_count": null,
   "metadata": {},
   "outputs": [],
   "source": []
  }
 ],
 "metadata": {
  "kernelspec": {
   "display_name": "Python 3 (ipykernel)",
   "language": "python",
   "name": "python3"
  },
  "language_info": {
   "codemirror_mode": {
    "name": "ipython",
    "version": 3
   },
   "file_extension": ".py",
   "mimetype": "text/x-python",
   "name": "python",
   "nbconvert_exporter": "python",
   "pygments_lexer": "ipython3",
   "version": "3.11.0"
  },
  "vscode": {
   "interpreter": {
    "hash": "5f80c455da1dc101d9f66a16923589bd6dbb3429340af280f1efed2f72025e97"
   }
  }
 },
 "nbformat": 4,
 "nbformat_minor": 2
}
