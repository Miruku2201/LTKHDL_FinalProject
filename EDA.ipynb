{
 "cells": [
  {
   "attachments": {},
   "cell_type": "markdown",
   "metadata": {},
   "source": [
    "# **<p style = \"text-align: center\">LẬP TRÌNH KHOA HỌC DỮ LIỆU</p>**\n",
    "## **<p style = \"text-align: center\">Đồ án Cuối kì</p>**\n",
    "## **<p style = \"text-align: center\">KHÁM PHÁ VÀ TIỀN XỬ LÝ DỮ LIỆU</p>**\n",
    "### <p style = \"text-align: center\"> <b>Đề tài:</b> KHÁM PHÁ, THỐNG KÊ CỦA TOP CÁC CA KHÚC TRÊN SPOTIFY</p>\n",
    "<p style = \"text-align: center\"> Sinh viên thực hiện </p>\n",
    "\n",
    "| Mã số sinh viên | Họ và tên |\n",
    "| --- | --- |\n",
    "| 20120040 | Nguyễn Quang Gia Bảo |\n",
    "| 20120127 | Trần Minh Tuấn Kiệt |\n",
    "| 20120136 | Huỳnh Tuấn Nam |\n",
    "| 20120158 | Trần Hoàng Anh Phi |"
   ]
  },
  {
   "cell_type": "markdown",
   "metadata": {},
   "source": [
    "---"
   ]
  },
  {
   "cell_type": "markdown",
   "metadata": {},
   "source": [
    "# **Import các thư viện**"
   ]
  },
  {
   "cell_type": "code",
   "execution_count": 88,
   "metadata": {},
   "outputs": [
    {
     "name": "stdout",
     "output_type": "stream",
     "text": [
      "Requirement already satisfied: squarify in c:\\users\\admin\\appdata\\local\\programs\\python\\python311\\lib\\site-packages (0.4.3)\n"
     ]
    }
   ],
   "source": [
    "!pip install squarify"
   ]
  },
  {
   "cell_type": "code",
   "execution_count": 89,
   "metadata": {},
   "outputs": [],
   "source": [
    "import pandas as pd\n",
    "import numpy as np\n",
    "from matplotlib import pyplot as plt\n",
    "import seaborn as sns\n",
    "import squarify \n",
    "from wordcloud import WordCloud, STOPWORDS"
   ]
  },
  {
   "cell_type": "markdown",
   "metadata": {},
   "source": [
    "# **1. Thông tin về dữ liệu**<br>\n",
    "Dữ liệu được sử dụng trong bài được lấy từ trang: <a href = \"https://www.kaggle.com/datasets/yelexa/spotify200?select=final.csv\"> https://www.kaggle.com/datasets/yelexa/spotify200?select=final.csv</a><br>\n",
    "Dataset chứa các ca khúc nằm trong TOP 200 ca khúc hay nhất trong 1 tuần của mỗi quốc gia từ 2021/02/04 ~ 2022/07/14\n",
    "\n",
    "Theo như file \"README.md\":\n",
    "> This directory contains codes that I used to create the dataset: https://www.kaggle.com/datasets/yelexa/spotify200<br><br>To create the dataset, I downloaded the csv files from the 'Weekly Top Songs' charts on Spotify Charts for each country from the week of 2021/02/04 ~ 2022/07/14. For the 'Global' charts, there is data from the week of 2016/12/29 ~ 2022/07/14. I used concat.py to create one combined file for each country, then used data.py to collect additional data for each song from the Spotify API.<br><br>The dataset was aggregated into an interactive dashboard, where you can explore artists and music trends around the world: https://public.tableau.com/app/profile/yejielee/viz/TheModernARExperienceWhichGlobalArtistWillYouSign/ar_dashboard?publish=yes"
   ]
  },
  {
   "attachments": {},
   "cell_type": "markdown",
   "metadata": {},
   "source": [
    "## **2. Khám phá dữ liệu và Tiền xử lý dữ liệu**"
   ]
  },
  {
   "cell_type": "markdown",
   "metadata": {},
   "source": [
    "Đọc dữ liệu từ file csv"
   ]
  },
  {
   "cell_type": "code",
   "execution_count": 90,
   "metadata": {},
   "outputs": [
    {
     "name": "stderr",
     "output_type": "stream",
     "text": [
      "C:\\Users\\ADMIN\\AppData\\Local\\Temp\\ipykernel_23116\\2503757291.py:1: DtypeWarning:\n",
      "\n",
      "Columns (2,4,9,12,15,16,17,18,20,21,22,23,24,25,26,27,28,29,30,31,35) have mixed types. Specify dtype option on import or set low_memory=False.\n",
      "\n"
     ]
    }
   ],
   "source": [
    "spotify_df = pd.read_csv(\"csv/final.csv\", index_col= 0)"
   ]
  },
  {
   "cell_type": "markdown",
   "metadata": {},
   "source": [
    "## Một số thông tin cơ bản của Data Frame"
   ]
  },
  {
   "cell_type": "markdown",
   "metadata": {},
   "source": [
    "Xem vài dòng dữ liệu"
   ]
  },
  {
   "cell_type": "code",
   "execution_count": 91,
   "metadata": {},
   "outputs": [
    {
     "data": {
      "text/html": [
       "<div>\n",
       "<style scoped>\n",
       "    .dataframe tbody tr th:only-of-type {\n",
       "        vertical-align: middle;\n",
       "    }\n",
       "\n",
       "    .dataframe tbody tr th {\n",
       "        vertical-align: top;\n",
       "    }\n",
       "\n",
       "    .dataframe thead th {\n",
       "        text-align: right;\n",
       "    }\n",
       "</style>\n",
       "<table border=\"1\" class=\"dataframe\">\n",
       "  <thead>\n",
       "    <tr style=\"text-align: right;\">\n",
       "      <th></th>\n",
       "      <th>uri</th>\n",
       "      <th>rank</th>\n",
       "      <th>artist_names</th>\n",
       "      <th>artists_num</th>\n",
       "      <th>artist_individual</th>\n",
       "      <th>artist_id</th>\n",
       "      <th>artist_genre</th>\n",
       "      <th>artist_img</th>\n",
       "      <th>collab</th>\n",
       "      <th>track_name</th>\n",
       "      <th>...</th>\n",
       "      <th>acousticness</th>\n",
       "      <th>instrumentalness</th>\n",
       "      <th>liveness</th>\n",
       "      <th>valence</th>\n",
       "      <th>tempo</th>\n",
       "      <th>duration</th>\n",
       "      <th>country</th>\n",
       "      <th>region</th>\n",
       "      <th>language</th>\n",
       "      <th>pivot</th>\n",
       "    </tr>\n",
       "  </thead>\n",
       "  <tbody>\n",
       "    <tr>\n",
       "      <th>0</th>\n",
       "      <td>spotify:track:2gpQi3hbcUAcEG8m2dlgfB</td>\n",
       "      <td>1</td>\n",
       "      <td>Paulo Londra</td>\n",
       "      <td>1.0</td>\n",
       "      <td>Paulo Londra</td>\n",
       "      <td>spotify:artist:3vQ0GE3mI0dAaxIMYe5g7z</td>\n",
       "      <td>argentine hip hop</td>\n",
       "      <td>https://i.scdn.co/image/ab6761610000e5ebf796a9...</td>\n",
       "      <td>0</td>\n",
       "      <td>Plan A</td>\n",
       "      <td>...</td>\n",
       "      <td>0.0495</td>\n",
       "      <td>0.0</td>\n",
       "      <td>0.0658</td>\n",
       "      <td>0.557</td>\n",
       "      <td>173.935</td>\n",
       "      <td>178203.0</td>\n",
       "      <td>Argentina</td>\n",
       "      <td>South America</td>\n",
       "      <td>Spanish</td>\n",
       "      <td>0</td>\n",
       "    </tr>\n",
       "    <tr>\n",
       "      <th>1</th>\n",
       "      <td>spotify:track:2x8oBuYaObjqHqgGuIUZ0b</td>\n",
       "      <td>2</td>\n",
       "      <td>WOS</td>\n",
       "      <td>1.0</td>\n",
       "      <td>WOS</td>\n",
       "      <td>spotify:artist:5YCc6xS5Gpj3EkaYGdjyNK</td>\n",
       "      <td>argentine indie</td>\n",
       "      <td>https://i.scdn.co/image/ab6761610000e5eb75e151...</td>\n",
       "      <td>0</td>\n",
       "      <td>ARRANCARMELO</td>\n",
       "      <td>...</td>\n",
       "      <td>0.724</td>\n",
       "      <td>0.0</td>\n",
       "      <td>0.134</td>\n",
       "      <td>0.262</td>\n",
       "      <td>81.956</td>\n",
       "      <td>183547.0</td>\n",
       "      <td>Argentina</td>\n",
       "      <td>South America</td>\n",
       "      <td>Spanish</td>\n",
       "      <td>0</td>\n",
       "    </tr>\n",
       "    <tr>\n",
       "      <th>2</th>\n",
       "      <td>spotify:track:2SJZdZ5DLtlRosJ2xHJJJa</td>\n",
       "      <td>3</td>\n",
       "      <td>Paulo Londra</td>\n",
       "      <td>1.0</td>\n",
       "      <td>Paulo Londra</td>\n",
       "      <td>spotify:artist:3vQ0GE3mI0dAaxIMYe5g7z</td>\n",
       "      <td>argentine hip hop</td>\n",
       "      <td>https://i.scdn.co/image/ab6761610000e5ebf796a9...</td>\n",
       "      <td>0</td>\n",
       "      <td>Chance</td>\n",
       "      <td>...</td>\n",
       "      <td>0.241</td>\n",
       "      <td>0.0</td>\n",
       "      <td>0.0929</td>\n",
       "      <td>0.216</td>\n",
       "      <td>137.915</td>\n",
       "      <td>204003.0</td>\n",
       "      <td>Argentina</td>\n",
       "      <td>South America</td>\n",
       "      <td>Spanish</td>\n",
       "      <td>0</td>\n",
       "    </tr>\n",
       "    <tr>\n",
       "      <th>3</th>\n",
       "      <td>spotify:track:1O2pcBJGej0pmH2Y9XZMs6</td>\n",
       "      <td>5</td>\n",
       "      <td>Cris Mj</td>\n",
       "      <td>1.0</td>\n",
       "      <td>Cris Mj</td>\n",
       "      <td>spotify:artist:1Yj5Xey7kTwvZla8sqdsdE</td>\n",
       "      <td>urbano chileno</td>\n",
       "      <td>https://i.scdn.co/image/ab6761610000e5eb8f4ebc...</td>\n",
       "      <td>0</td>\n",
       "      <td>Una Noche en Medellín</td>\n",
       "      <td>...</td>\n",
       "      <td>0.0924</td>\n",
       "      <td>0.000046</td>\n",
       "      <td>0.0534</td>\n",
       "      <td>0.832</td>\n",
       "      <td>96.018</td>\n",
       "      <td>153750.0</td>\n",
       "      <td>Argentina</td>\n",
       "      <td>South America</td>\n",
       "      <td>Spanish</td>\n",
       "      <td>0</td>\n",
       "    </tr>\n",
       "    <tr>\n",
       "      <th>4</th>\n",
       "      <td>spotify:track:1TpZKxGnHp37ohJRszTSiq</td>\n",
       "      <td>6</td>\n",
       "      <td>Emilia</td>\n",
       "      <td>1.0</td>\n",
       "      <td>Emilia</td>\n",
       "      <td>spotify:artist:0AqlFI0tz2DsEoJlKSIiT9</td>\n",
       "      <td>pop argentino</td>\n",
       "      <td>https://i.scdn.co/image/ab6761610000e5ebaf96d1...</td>\n",
       "      <td>0</td>\n",
       "      <td>cuatro veinte</td>\n",
       "      <td>...</td>\n",
       "      <td>0.0811</td>\n",
       "      <td>0.000063</td>\n",
       "      <td>0.101</td>\n",
       "      <td>0.501</td>\n",
       "      <td>95.066</td>\n",
       "      <td>133895.0</td>\n",
       "      <td>Argentina</td>\n",
       "      <td>South America</td>\n",
       "      <td>Spanish</td>\n",
       "      <td>0</td>\n",
       "    </tr>\n",
       "  </tbody>\n",
       "</table>\n",
       "<p>5 rows × 35 columns</p>\n",
       "</div>"
      ],
      "text/plain": [
       "                                    uri rank  artist_names artists_num  \\\n",
       "0  spotify:track:2gpQi3hbcUAcEG8m2dlgfB    1  Paulo Londra         1.0   \n",
       "1  spotify:track:2x8oBuYaObjqHqgGuIUZ0b    2           WOS         1.0   \n",
       "2  spotify:track:2SJZdZ5DLtlRosJ2xHJJJa    3  Paulo Londra         1.0   \n",
       "3  spotify:track:1O2pcBJGej0pmH2Y9XZMs6    5       Cris Mj         1.0   \n",
       "4  spotify:track:1TpZKxGnHp37ohJRszTSiq    6        Emilia         1.0   \n",
       "\n",
       "  artist_individual                              artist_id       artist_genre  \\\n",
       "0      Paulo Londra  spotify:artist:3vQ0GE3mI0dAaxIMYe5g7z  argentine hip hop   \n",
       "1               WOS  spotify:artist:5YCc6xS5Gpj3EkaYGdjyNK    argentine indie   \n",
       "2      Paulo Londra  spotify:artist:3vQ0GE3mI0dAaxIMYe5g7z  argentine hip hop   \n",
       "3           Cris Mj  spotify:artist:1Yj5Xey7kTwvZla8sqdsdE     urbano chileno   \n",
       "4            Emilia  spotify:artist:0AqlFI0tz2DsEoJlKSIiT9      pop argentino   \n",
       "\n",
       "                                          artist_img collab  \\\n",
       "0  https://i.scdn.co/image/ab6761610000e5ebf796a9...      0   \n",
       "1  https://i.scdn.co/image/ab6761610000e5eb75e151...      0   \n",
       "2  https://i.scdn.co/image/ab6761610000e5ebf796a9...      0   \n",
       "3  https://i.scdn.co/image/ab6761610000e5eb8f4ebc...      0   \n",
       "4  https://i.scdn.co/image/ab6761610000e5ebaf96d1...      0   \n",
       "\n",
       "              track_name  ... acousticness instrumentalness liveness valence  \\\n",
       "0                 Plan A  ...       0.0495              0.0   0.0658   0.557   \n",
       "1           ARRANCARMELO  ...        0.724              0.0    0.134   0.262   \n",
       "2                 Chance  ...        0.241              0.0   0.0929   0.216   \n",
       "3  Una Noche en Medellín  ...       0.0924         0.000046   0.0534   0.832   \n",
       "4          cuatro veinte  ...       0.0811         0.000063    0.101   0.501   \n",
       "\n",
       "     tempo  duration    country         region language pivot  \n",
       "0  173.935  178203.0  Argentina  South America  Spanish     0  \n",
       "1   81.956  183547.0  Argentina  South America  Spanish     0  \n",
       "2  137.915  204003.0  Argentina  South America  Spanish     0  \n",
       "3   96.018  153750.0  Argentina  South America  Spanish     0  \n",
       "4   95.066  133895.0  Argentina  South America  Spanish     0  \n",
       "\n",
       "[5 rows x 35 columns]"
      ]
     },
     "execution_count": 91,
     "metadata": {},
     "output_type": "execute_result"
    }
   ],
   "source": [
    "spotify_df.head()"
   ]
  },
  {
   "cell_type": "markdown",
   "metadata": {},
   "source": [
    "Số chiều của Data Frame"
   ]
  },
  {
   "cell_type": "code",
   "execution_count": 92,
   "metadata": {},
   "outputs": [
    {
     "data": {
      "text/plain": [
       "(1787999, 35)"
      ]
     },
     "execution_count": 92,
     "metadata": {},
     "output_type": "execute_result"
    }
   ],
   "source": [
    "spotify_df.shape"
   ]
  },
  {
   "cell_type": "markdown",
   "metadata": {},
   "source": [
    "Tên của các cột"
   ]
  },
  {
   "cell_type": "code",
   "execution_count": 93,
   "metadata": {},
   "outputs": [
    {
     "data": {
      "text/plain": [
       "Index(['uri', 'rank', 'artist_names', 'artists_num', 'artist_individual',\n",
       "       'artist_id', 'artist_genre', 'artist_img', 'collab', 'track_name',\n",
       "       'release_date', 'album_num_tracks', 'album_cover', 'source',\n",
       "       'peak_rank', 'previous_rank', 'weeks_on_chart', 'streams', 'week',\n",
       "       'danceability', 'energy', 'key', 'mode', 'loudness', 'speechiness',\n",
       "       'acousticness', 'instrumentalness', 'liveness', 'valence', 'tempo',\n",
       "       'duration', 'country', 'region', 'language', 'pivot'],\n",
       "      dtype='object')"
      ]
     },
     "execution_count": 93,
     "metadata": {},
     "output_type": "execute_result"
    }
   ],
   "source": [
    "spotify_df.columns"
   ]
  },
  {
   "cell_type": "markdown",
   "metadata": {},
   "source": [
    "## Thông tin của một dòng"
   ]
  },
  {
   "attachments": {},
   "cell_type": "markdown",
   "metadata": {},
   "source": [
    "Một dòng dữ liệu mô tả: Thông tin cơ bản của bài hát đó trên spotify như là: id, tên bài hát, ca sĩ hát ca khúc đó, tuần xếp hạng, bao nhiêu lần xếp hàng, cường độ âm thanh của bài hát, đất nước đánh giá, ngôn ngữ của bài hát, …"
   ]
  },
  {
   "cell_type": "markdown",
   "metadata": {},
   "source": [
    "## Thông tin của một cột"
   ]
  },
  {
   "cell_type": "code",
   "execution_count": 94,
   "metadata": {
    "scrolled": true
   },
   "outputs": [
    {
     "data": {
      "text/html": [
       "<div>\n",
       "<style scoped>\n",
       "    .dataframe tbody tr th:only-of-type {\n",
       "        vertical-align: middle;\n",
       "    }\n",
       "\n",
       "    .dataframe tbody tr th {\n",
       "        vertical-align: top;\n",
       "    }\n",
       "\n",
       "    .dataframe thead th {\n",
       "        text-align: right;\n",
       "    }\n",
       "</style>\n",
       "<table border=\"1\" class=\"dataframe\">\n",
       "  <thead>\n",
       "    <tr style=\"text-align: right;\">\n",
       "      <th></th>\n",
       "      <th>Tên cột</th>\n",
       "      <th>Mô tả</th>\n",
       "    </tr>\n",
       "  </thead>\n",
       "  <tbody>\n",
       "    <tr>\n",
       "      <th>0</th>\n",
       "      <td>uri</td>\n",
       "      <td>URI của bản nhạc trên spotify</td>\n",
       "    </tr>\n",
       "    <tr>\n",
       "      <th>1</th>\n",
       "      <td>rank</td>\n",
       "      <td>Xếp hạng của bản nhạc trong tuần</td>\n",
       "    </tr>\n",
       "    <tr>\n",
       "      <th>2</th>\n",
       "      <td>artist names</td>\n",
       "      <td>Tên tất cả người thực hiện ca khúc</td>\n",
       "    </tr>\n",
       "    <tr>\n",
       "      <th>3</th>\n",
       "      <td>artists num</td>\n",
       "      <td>Số người thực hiện bài hát</td>\n",
       "    </tr>\n",
       "    <tr>\n",
       "      <th>4</th>\n",
       "      <td>artist individual</td>\n",
       "      <td>Bài hát của cá nhân nghệ sĩ</td>\n",
       "    </tr>\n",
       "    <tr>\n",
       "      <th>5</th>\n",
       "      <td>artist id</td>\n",
       "      <td>URI của nghệ sĩ độc quyền bài hát</td>\n",
       "    </tr>\n",
       "    <tr>\n",
       "      <th>6</th>\n",
       "      <td>artist genre</td>\n",
       "      <td>Thể loại mà nghệ sĩ trình diễn</td>\n",
       "    </tr>\n",
       "    <tr>\n",
       "      <th>7</th>\n",
       "      <td>artist img</td>\n",
       "      <td>Đường dẫn hình ảnh của nghệ sĩ</td>\n",
       "    </tr>\n",
       "    <tr>\n",
       "      <th>8</th>\n",
       "      <td>collab</td>\n",
       "      <td>0 nếu nghệ sĩ trình diễn một mình và 1 nếu ngư...</td>\n",
       "    </tr>\n",
       "    <tr>\n",
       "      <th>9</th>\n",
       "      <td>track name</td>\n",
       "      <td>tên của bản nhạc</td>\n",
       "    </tr>\n",
       "    <tr>\n",
       "      <th>10</th>\n",
       "      <td>release date</td>\n",
       "      <td>ngày phát hành album</td>\n",
       "    </tr>\n",
       "    <tr>\n",
       "      <th>11</th>\n",
       "      <td>album num tracks</td>\n",
       "      <td>Số bản nhạc trong album</td>\n",
       "    </tr>\n",
       "    <tr>\n",
       "      <th>12</th>\n",
       "      <td>album cover</td>\n",
       "      <td>Bìa của album</td>\n",
       "    </tr>\n",
       "    <tr>\n",
       "      <th>13</th>\n",
       "      <td>source</td>\n",
       "      <td>Hãng thu âm bài hát</td>\n",
       "    </tr>\n",
       "    <tr>\n",
       "      <th>14</th>\n",
       "      <td>peak rank</td>\n",
       "      <td>Xếp hạng cao nhất của bài hát đã nhận trên Spo...</td>\n",
       "    </tr>\n",
       "    <tr>\n",
       "      <th>15</th>\n",
       "      <td>previous rank</td>\n",
       "      <td>Xếp hạng của bài hát trong tuần trước</td>\n",
       "    </tr>\n",
       "    <tr>\n",
       "      <th>16</th>\n",
       "      <td>weeks on chart</td>\n",
       "      <td>Số tuần mà bài hát được xếp hạng</td>\n",
       "    </tr>\n",
       "    <tr>\n",
       "      <th>17</th>\n",
       "      <td>streams</td>\n",
       "      <td>số lượt phát trong tuần</td>\n",
       "    </tr>\n",
       "    <tr>\n",
       "      <th>18</th>\n",
       "      <td>danceability, energy, key, mode, loudness, spe...</td>\n",
       "      <td>Là các cột đánh giá mức độ, tiết tấu của bài hát</td>\n",
       "    </tr>\n",
       "    <tr>\n",
       "      <th>19</th>\n",
       "      <td>country</td>\n",
       "      <td>Quốc gia mà bài hát được xếp hạng</td>\n",
       "    </tr>\n",
       "    <tr>\n",
       "      <th>20</th>\n",
       "      <td>region</td>\n",
       "      <td>Vùng, lãnh thổ của Quốc gia</td>\n",
       "    </tr>\n",
       "    <tr>\n",
       "      <th>21</th>\n",
       "      <td>language</td>\n",
       "      <td>Ngôn ngữ mà bài hát này trình bày</td>\n",
       "    </tr>\n",
       "    <tr>\n",
       "      <th>22</th>\n",
       "      <td>pivot</td>\n",
       "      <td>Khi có nhiều nghệ sĩ trình diễn, 0 nếu nghệ sĩ...</td>\n",
       "    </tr>\n",
       "  </tbody>\n",
       "</table>\n",
       "</div>"
      ],
      "text/plain": [
       "                                              Tên cột  \\\n",
       "0                                                 uri   \n",
       "1                                                rank   \n",
       "2                                        artist names   \n",
       "3                                         artists num   \n",
       "4                                   artist individual   \n",
       "5                                           artist id   \n",
       "6                                        artist genre   \n",
       "7                                          artist img   \n",
       "8                                              collab   \n",
       "9                                          track name   \n",
       "10                                       release date   \n",
       "11                                   album num tracks   \n",
       "12                                        album cover   \n",
       "13                                             source   \n",
       "14                                          peak rank   \n",
       "15                                      previous rank   \n",
       "16                                     weeks on chart   \n",
       "17                                            streams   \n",
       "18  danceability, energy, key, mode, loudness, spe...   \n",
       "19                                            country   \n",
       "20                                             region   \n",
       "21                                           language   \n",
       "22                                              pivot   \n",
       "\n",
       "                                                Mô tả  \n",
       "0                       URI của bản nhạc trên spotify  \n",
       "1                    Xếp hạng của bản nhạc trong tuần  \n",
       "2                  Tên tất cả người thực hiện ca khúc  \n",
       "3                          Số người thực hiện bài hát  \n",
       "4                        Bài hát của cá nhân nghệ sĩ   \n",
       "5                   URI của nghệ sĩ độc quyền bài hát  \n",
       "6                      Thể loại mà nghệ sĩ trình diễn  \n",
       "7                      Đường dẫn hình ảnh của nghệ sĩ  \n",
       "8   0 nếu nghệ sĩ trình diễn một mình và 1 nếu ngư...  \n",
       "9                                    tên của bản nhạc  \n",
       "10                               ngày phát hành album  \n",
       "11                            Số bản nhạc trong album  \n",
       "12                                      Bìa của album  \n",
       "13                                Hãng thu âm bài hát  \n",
       "14  Xếp hạng cao nhất của bài hát đã nhận trên Spo...  \n",
       "15              Xếp hạng của bài hát trong tuần trước  \n",
       "16                   Số tuần mà bài hát được xếp hạng  \n",
       "17                            số lượt phát trong tuần  \n",
       "18   Là các cột đánh giá mức độ, tiết tấu của bài hát  \n",
       "19                  Quốc gia mà bài hát được xếp hạng  \n",
       "20                        Vùng, lãnh thổ của Quốc gia  \n",
       "21                  Ngôn ngữ mà bài hát này trình bày  \n",
       "22  Khi có nhiều nghệ sĩ trình diễn, 0 nếu nghệ sĩ...  "
      ]
     },
     "execution_count": 94,
     "metadata": {},
     "output_type": "execute_result"
    }
   ],
   "source": [
    "# pd.set_option('display.max_rows', None)\n",
    "# pd.set_option('display.max_columns', None)\n",
    "# pd.set_option('display.width', None)\n",
    "# pd.set_option('display.expand_frame_repr', False)\n",
    "# pd.set_option('display.max_columns', None)\n",
    "# pd.set_option('display.expand_frame_repr', False)\n",
    "# pd.set_option('max_colwidth', None)\n",
    "columns_describe_df = pd.read_csv(\"csv/columns.csv\")\n",
    "columns_describe_df"
   ]
  },
  {
   "cell_type": "markdown",
   "metadata": {},
   "source": [
    "## Kiểm tra xem các trường dữ liệu có vấn đề gì không"
   ]
  },
  {
   "cell_type": "markdown",
   "metadata": {},
   "source": [
    "**Dữ liệu có bị trùng hay không?**"
   ]
  },
  {
   "cell_type": "code",
   "execution_count": 95,
   "metadata": {},
   "outputs": [
    {
     "data": {
      "text/plain": [
       "72"
      ]
     },
     "execution_count": 95,
     "metadata": {},
     "output_type": "execute_result"
    }
   ],
   "source": [
    "spotify_df.duplicated().sum()"
   ]
  },
  {
   "cell_type": "markdown",
   "metadata": {},
   "source": [
    "Có 73 giá trị trùng "
   ]
  },
  {
   "cell_type": "code",
   "execution_count": 96,
   "metadata": {},
   "outputs": [
    {
     "data": {
      "text/html": [
       "<div>\n",
       "<style scoped>\n",
       "    .dataframe tbody tr th:only-of-type {\n",
       "        vertical-align: middle;\n",
       "    }\n",
       "\n",
       "    .dataframe tbody tr th {\n",
       "        vertical-align: top;\n",
       "    }\n",
       "\n",
       "    .dataframe thead th {\n",
       "        text-align: right;\n",
       "    }\n",
       "</style>\n",
       "<table border=\"1\" class=\"dataframe\">\n",
       "  <thead>\n",
       "    <tr style=\"text-align: right;\">\n",
       "      <th></th>\n",
       "      <th>uri</th>\n",
       "      <th>rank</th>\n",
       "      <th>artist_names</th>\n",
       "      <th>artists_num</th>\n",
       "      <th>artist_individual</th>\n",
       "      <th>artist_id</th>\n",
       "      <th>artist_genre</th>\n",
       "      <th>artist_img</th>\n",
       "      <th>collab</th>\n",
       "      <th>track_name</th>\n",
       "      <th>...</th>\n",
       "      <th>acousticness</th>\n",
       "      <th>instrumentalness</th>\n",
       "      <th>liveness</th>\n",
       "      <th>valence</th>\n",
       "      <th>tempo</th>\n",
       "      <th>duration</th>\n",
       "      <th>country</th>\n",
       "      <th>region</th>\n",
       "      <th>language</th>\n",
       "      <th>pivot</th>\n",
       "    </tr>\n",
       "  </thead>\n",
       "  <tbody>\n",
       "    <tr>\n",
       "      <th>51224</th>\n",
       "      <td>uri</td>\n",
       "      <td>rank</td>\n",
       "      <td>artist_names</td>\n",
       "      <td>artists_num</td>\n",
       "      <td>artist_individual</td>\n",
       "      <td>artist_id</td>\n",
       "      <td>artist_genre</td>\n",
       "      <td>artist_img</td>\n",
       "      <td>collab</td>\n",
       "      <td>track_name</td>\n",
       "      <td>...</td>\n",
       "      <td>acousticness</td>\n",
       "      <td>instrumentalness</td>\n",
       "      <td>liveness</td>\n",
       "      <td>valence</td>\n",
       "      <td>tempo</td>\n",
       "      <td>duration</td>\n",
       "      <td>country</td>\n",
       "      <td>region</td>\n",
       "      <td>language</td>\n",
       "      <td>pivot</td>\n",
       "    </tr>\n",
       "    <tr>\n",
       "      <th>75474</th>\n",
       "      <td>uri</td>\n",
       "      <td>rank</td>\n",
       "      <td>artist_names</td>\n",
       "      <td>artists_num</td>\n",
       "      <td>artist_individual</td>\n",
       "      <td>artist_id</td>\n",
       "      <td>artist_genre</td>\n",
       "      <td>artist_img</td>\n",
       "      <td>collab</td>\n",
       "      <td>track_name</td>\n",
       "      <td>...</td>\n",
       "      <td>acousticness</td>\n",
       "      <td>instrumentalness</td>\n",
       "      <td>liveness</td>\n",
       "      <td>valence</td>\n",
       "      <td>tempo</td>\n",
       "      <td>duration</td>\n",
       "      <td>country</td>\n",
       "      <td>region</td>\n",
       "      <td>language</td>\n",
       "      <td>pivot</td>\n",
       "    </tr>\n",
       "    <tr>\n",
       "      <th>81333</th>\n",
       "      <td>uri</td>\n",
       "      <td>rank</td>\n",
       "      <td>artist_names</td>\n",
       "      <td>artists_num</td>\n",
       "      <td>artist_individual</td>\n",
       "      <td>artist_id</td>\n",
       "      <td>artist_genre</td>\n",
       "      <td>artist_img</td>\n",
       "      <td>collab</td>\n",
       "      <td>track_name</td>\n",
       "      <td>...</td>\n",
       "      <td>acousticness</td>\n",
       "      <td>instrumentalness</td>\n",
       "      <td>liveness</td>\n",
       "      <td>valence</td>\n",
       "      <td>tempo</td>\n",
       "      <td>duration</td>\n",
       "      <td>country</td>\n",
       "      <td>region</td>\n",
       "      <td>language</td>\n",
       "      <td>pivot</td>\n",
       "    </tr>\n",
       "    <tr>\n",
       "      <th>104818</th>\n",
       "      <td>uri</td>\n",
       "      <td>rank</td>\n",
       "      <td>artist_names</td>\n",
       "      <td>artists_num</td>\n",
       "      <td>artist_individual</td>\n",
       "      <td>artist_id</td>\n",
       "      <td>artist_genre</td>\n",
       "      <td>artist_img</td>\n",
       "      <td>collab</td>\n",
       "      <td>track_name</td>\n",
       "      <td>...</td>\n",
       "      <td>acousticness</td>\n",
       "      <td>instrumentalness</td>\n",
       "      <td>liveness</td>\n",
       "      <td>valence</td>\n",
       "      <td>tempo</td>\n",
       "      <td>duration</td>\n",
       "      <td>country</td>\n",
       "      <td>region</td>\n",
       "      <td>language</td>\n",
       "      <td>pivot</td>\n",
       "    </tr>\n",
       "    <tr>\n",
       "      <th>133873</th>\n",
       "      <td>uri</td>\n",
       "      <td>rank</td>\n",
       "      <td>artist_names</td>\n",
       "      <td>artists_num</td>\n",
       "      <td>artist_individual</td>\n",
       "      <td>artist_id</td>\n",
       "      <td>artist_genre</td>\n",
       "      <td>artist_img</td>\n",
       "      <td>collab</td>\n",
       "      <td>track_name</td>\n",
       "      <td>...</td>\n",
       "      <td>acousticness</td>\n",
       "      <td>instrumentalness</td>\n",
       "      <td>liveness</td>\n",
       "      <td>valence</td>\n",
       "      <td>tempo</td>\n",
       "      <td>duration</td>\n",
       "      <td>country</td>\n",
       "      <td>region</td>\n",
       "      <td>language</td>\n",
       "      <td>pivot</td>\n",
       "    </tr>\n",
       "    <tr>\n",
       "      <th>...</th>\n",
       "      <td>...</td>\n",
       "      <td>...</td>\n",
       "      <td>...</td>\n",
       "      <td>...</td>\n",
       "      <td>...</td>\n",
       "      <td>...</td>\n",
       "      <td>...</td>\n",
       "      <td>...</td>\n",
       "      <td>...</td>\n",
       "      <td>...</td>\n",
       "      <td>...</td>\n",
       "      <td>...</td>\n",
       "      <td>...</td>\n",
       "      <td>...</td>\n",
       "      <td>...</td>\n",
       "      <td>...</td>\n",
       "      <td>...</td>\n",
       "      <td>...</td>\n",
       "      <td>...</td>\n",
       "      <td>...</td>\n",
       "      <td>...</td>\n",
       "    </tr>\n",
       "    <tr>\n",
       "      <th>1684645</th>\n",
       "      <td>uri</td>\n",
       "      <td>rank</td>\n",
       "      <td>artist_names</td>\n",
       "      <td>artists_num</td>\n",
       "      <td>artist_individual</td>\n",
       "      <td>artist_id</td>\n",
       "      <td>artist_genre</td>\n",
       "      <td>artist_img</td>\n",
       "      <td>collab</td>\n",
       "      <td>track_name</td>\n",
       "      <td>...</td>\n",
       "      <td>acousticness</td>\n",
       "      <td>instrumentalness</td>\n",
       "      <td>liveness</td>\n",
       "      <td>valence</td>\n",
       "      <td>tempo</td>\n",
       "      <td>duration</td>\n",
       "      <td>country</td>\n",
       "      <td>region</td>\n",
       "      <td>language</td>\n",
       "      <td>pivot</td>\n",
       "    </tr>\n",
       "    <tr>\n",
       "      <th>1705705</th>\n",
       "      <td>uri</td>\n",
       "      <td>rank</td>\n",
       "      <td>artist_names</td>\n",
       "      <td>artists_num</td>\n",
       "      <td>artist_individual</td>\n",
       "      <td>artist_id</td>\n",
       "      <td>artist_genre</td>\n",
       "      <td>artist_img</td>\n",
       "      <td>collab</td>\n",
       "      <td>track_name</td>\n",
       "      <td>...</td>\n",
       "      <td>acousticness</td>\n",
       "      <td>instrumentalness</td>\n",
       "      <td>liveness</td>\n",
       "      <td>valence</td>\n",
       "      <td>tempo</td>\n",
       "      <td>duration</td>\n",
       "      <td>country</td>\n",
       "      <td>region</td>\n",
       "      <td>language</td>\n",
       "      <td>pivot</td>\n",
       "    </tr>\n",
       "    <tr>\n",
       "      <th>1736824</th>\n",
       "      <td>uri</td>\n",
       "      <td>rank</td>\n",
       "      <td>artist_names</td>\n",
       "      <td>artists_num</td>\n",
       "      <td>artist_individual</td>\n",
       "      <td>artist_id</td>\n",
       "      <td>artist_genre</td>\n",
       "      <td>artist_img</td>\n",
       "      <td>collab</td>\n",
       "      <td>track_name</td>\n",
       "      <td>...</td>\n",
       "      <td>acousticness</td>\n",
       "      <td>instrumentalness</td>\n",
       "      <td>liveness</td>\n",
       "      <td>valence</td>\n",
       "      <td>tempo</td>\n",
       "      <td>duration</td>\n",
       "      <td>country</td>\n",
       "      <td>region</td>\n",
       "      <td>language</td>\n",
       "      <td>pivot</td>\n",
       "    </tr>\n",
       "    <tr>\n",
       "      <th>1758970</th>\n",
       "      <td>uri</td>\n",
       "      <td>rank</td>\n",
       "      <td>artist_names</td>\n",
       "      <td>artists_num</td>\n",
       "      <td>artist_individual</td>\n",
       "      <td>artist_id</td>\n",
       "      <td>artist_genre</td>\n",
       "      <td>artist_img</td>\n",
       "      <td>collab</td>\n",
       "      <td>track_name</td>\n",
       "      <td>...</td>\n",
       "      <td>acousticness</td>\n",
       "      <td>instrumentalness</td>\n",
       "      <td>liveness</td>\n",
       "      <td>valence</td>\n",
       "      <td>tempo</td>\n",
       "      <td>duration</td>\n",
       "      <td>country</td>\n",
       "      <td>region</td>\n",
       "      <td>language</td>\n",
       "      <td>pivot</td>\n",
       "    </tr>\n",
       "    <tr>\n",
       "      <th>1765031</th>\n",
       "      <td>uri</td>\n",
       "      <td>rank</td>\n",
       "      <td>artist_names</td>\n",
       "      <td>artists_num</td>\n",
       "      <td>artist_individual</td>\n",
       "      <td>artist_id</td>\n",
       "      <td>artist_genre</td>\n",
       "      <td>artist_img</td>\n",
       "      <td>collab</td>\n",
       "      <td>track_name</td>\n",
       "      <td>...</td>\n",
       "      <td>acousticness</td>\n",
       "      <td>instrumentalness</td>\n",
       "      <td>liveness</td>\n",
       "      <td>valence</td>\n",
       "      <td>tempo</td>\n",
       "      <td>duration</td>\n",
       "      <td>country</td>\n",
       "      <td>region</td>\n",
       "      <td>language</td>\n",
       "      <td>pivot</td>\n",
       "    </tr>\n",
       "  </tbody>\n",
       "</table>\n",
       "<p>72 rows × 35 columns</p>\n",
       "</div>"
      ],
      "text/plain": [
       "         uri  rank  artist_names  artists_num  artist_individual  artist_id  \\\n",
       "51224    uri  rank  artist_names  artists_num  artist_individual  artist_id   \n",
       "75474    uri  rank  artist_names  artists_num  artist_individual  artist_id   \n",
       "81333    uri  rank  artist_names  artists_num  artist_individual  artist_id   \n",
       "104818   uri  rank  artist_names  artists_num  artist_individual  artist_id   \n",
       "133873   uri  rank  artist_names  artists_num  artist_individual  artist_id   \n",
       "...      ...   ...           ...          ...                ...        ...   \n",
       "1684645  uri  rank  artist_names  artists_num  artist_individual  artist_id   \n",
       "1705705  uri  rank  artist_names  artists_num  artist_individual  artist_id   \n",
       "1736824  uri  rank  artist_names  artists_num  artist_individual  artist_id   \n",
       "1758970  uri  rank  artist_names  artists_num  artist_individual  artist_id   \n",
       "1765031  uri  rank  artist_names  artists_num  artist_individual  artist_id   \n",
       "\n",
       "         artist_genre  artist_img  collab  track_name  ...  acousticness  \\\n",
       "51224    artist_genre  artist_img  collab  track_name  ...  acousticness   \n",
       "75474    artist_genre  artist_img  collab  track_name  ...  acousticness   \n",
       "81333    artist_genre  artist_img  collab  track_name  ...  acousticness   \n",
       "104818   artist_genre  artist_img  collab  track_name  ...  acousticness   \n",
       "133873   artist_genre  artist_img  collab  track_name  ...  acousticness   \n",
       "...               ...         ...     ...         ...  ...           ...   \n",
       "1684645  artist_genre  artist_img  collab  track_name  ...  acousticness   \n",
       "1705705  artist_genre  artist_img  collab  track_name  ...  acousticness   \n",
       "1736824  artist_genre  artist_img  collab  track_name  ...  acousticness   \n",
       "1758970  artist_genre  artist_img  collab  track_name  ...  acousticness   \n",
       "1765031  artist_genre  artist_img  collab  track_name  ...  acousticness   \n",
       "\n",
       "         instrumentalness  liveness  valence  tempo  duration  country  \\\n",
       "51224    instrumentalness  liveness  valence  tempo  duration  country   \n",
       "75474    instrumentalness  liveness  valence  tempo  duration  country   \n",
       "81333    instrumentalness  liveness  valence  tempo  duration  country   \n",
       "104818   instrumentalness  liveness  valence  tempo  duration  country   \n",
       "133873   instrumentalness  liveness  valence  tempo  duration  country   \n",
       "...                   ...       ...      ...    ...       ...      ...   \n",
       "1684645  instrumentalness  liveness  valence  tempo  duration  country   \n",
       "1705705  instrumentalness  liveness  valence  tempo  duration  country   \n",
       "1736824  instrumentalness  liveness  valence  tempo  duration  country   \n",
       "1758970  instrumentalness  liveness  valence  tempo  duration  country   \n",
       "1765031  instrumentalness  liveness  valence  tempo  duration  country   \n",
       "\n",
       "         region  language  pivot  \n",
       "51224    region  language  pivot  \n",
       "75474    region  language  pivot  \n",
       "81333    region  language  pivot  \n",
       "104818   region  language  pivot  \n",
       "133873   region  language  pivot  \n",
       "...         ...       ...    ...  \n",
       "1684645  region  language  pivot  \n",
       "1705705  region  language  pivot  \n",
       "1736824  region  language  pivot  \n",
       "1758970  region  language  pivot  \n",
       "1765031  region  language  pivot  \n",
       "\n",
       "[72 rows x 35 columns]"
      ]
     },
     "execution_count": 96,
     "metadata": {},
     "output_type": "execute_result"
    }
   ],
   "source": [
    "spotify_df[spotify_df.duplicated()]"
   ]
  },
  {
   "cell_type": "markdown",
   "metadata": {},
   "source": [
    "Như vậy có 73 giá trị trùng nhau (72 + 1 giá trị gốc), và bằng với số lượng dòng có giá trị giống tên cột. "
   ]
  },
  {
   "cell_type": "markdown",
   "metadata": {},
   "source": [
    "Ta sẽ loại bỏ các dòng này và loại bỏ luôn dòng gốc "
   ]
  },
  {
   "cell_type": "code",
   "execution_count": 97,
   "metadata": {},
   "outputs": [
    {
     "data": {
      "text/plain": [
       "0"
      ]
     },
     "execution_count": 97,
     "metadata": {},
     "output_type": "execute_result"
    }
   ],
   "source": [
    "spotify_df.drop_duplicates(keep=False, inplace=True)\n",
    "spotify_df.duplicated().sum()"
   ]
  },
  {
   "cell_type": "markdown",
   "metadata": {},
   "source": [
    "Theo như tác giả, nếu một bài hát có nhiều ca sĩ thể hiện, bài hát sẽ được chia thành các hàng riêng cho từng nghệ sĩ. Tuy nhiên, ở đây ta bỏ qua thông tin của từng người thể hiện và chỉ xét đến thông tin của bài hát, do đó ta sẽ bỏ đi các cột trùng nhau này (chỉ khác nhau ở thông tin các nghệ sĩ thành viên). \n",
    "\n",
    "Thông tin của mỗi bài hát được phân biệt với nhau bằng <font color=red>uri, country, week</font>, vì vậy ta sẽ drop các hàng trùng nhau dựa trên cột này."
   ]
  },
  {
   "cell_type": "code",
   "execution_count": 98,
   "metadata": {},
   "outputs": [
    {
     "data": {
      "text/html": [
       "<div>\n",
       "<style scoped>\n",
       "    .dataframe tbody tr th:only-of-type {\n",
       "        vertical-align: middle;\n",
       "    }\n",
       "\n",
       "    .dataframe tbody tr th {\n",
       "        vertical-align: top;\n",
       "    }\n",
       "\n",
       "    .dataframe thead th {\n",
       "        text-align: right;\n",
       "    }\n",
       "</style>\n",
       "<table border=\"1\" class=\"dataframe\">\n",
       "  <thead>\n",
       "    <tr style=\"text-align: right;\">\n",
       "      <th></th>\n",
       "      <th>uri</th>\n",
       "      <th>rank</th>\n",
       "      <th>artist_names</th>\n",
       "      <th>artists_num</th>\n",
       "      <th>artist_individual</th>\n",
       "      <th>artist_id</th>\n",
       "      <th>artist_genre</th>\n",
       "      <th>artist_img</th>\n",
       "      <th>collab</th>\n",
       "      <th>track_name</th>\n",
       "      <th>...</th>\n",
       "      <th>acousticness</th>\n",
       "      <th>instrumentalness</th>\n",
       "      <th>liveness</th>\n",
       "      <th>valence</th>\n",
       "      <th>tempo</th>\n",
       "      <th>duration</th>\n",
       "      <th>country</th>\n",
       "      <th>region</th>\n",
       "      <th>language</th>\n",
       "      <th>pivot</th>\n",
       "    </tr>\n",
       "  </thead>\n",
       "  <tbody>\n",
       "    <tr>\n",
       "      <th>1774373</th>\n",
       "      <td>spotify:track:46HNZY1i7O6jwTA7Slo2PI</td>\n",
       "      <td>5</td>\n",
       "      <td>Coldplay, BTS</td>\n",
       "      <td>2.0</td>\n",
       "      <td>Coldplay</td>\n",
       "      <td>spotify:artist:4gzpq5DPGxSnKTe4SA8HAU</td>\n",
       "      <td>pop</td>\n",
       "      <td>https://i.scdn.co/image/ab6761610000e5eb865a33...</td>\n",
       "      <td>1</td>\n",
       "      <td>My Universe</td>\n",
       "      <td>...</td>\n",
       "      <td>0.0114</td>\n",
       "      <td>0.0</td>\n",
       "      <td>0.328</td>\n",
       "      <td>0.47</td>\n",
       "      <td>105.006</td>\n",
       "      <td>226198</td>\n",
       "      <td>Vietnam</td>\n",
       "      <td>Asia</td>\n",
       "      <td>Vietnamese</td>\n",
       "      <td>0</td>\n",
       "    </tr>\n",
       "    <tr>\n",
       "      <th>1774374</th>\n",
       "      <td>spotify:track:46HNZY1i7O6jwTA7Slo2PI</td>\n",
       "      <td>5</td>\n",
       "      <td>Coldplay, BTS</td>\n",
       "      <td>2.0</td>\n",
       "      <td>BTS</td>\n",
       "      <td>spotify:artist:3Nrfpe0tUJi4K4DXYWgMUX</td>\n",
       "      <td>k-pop boy group</td>\n",
       "      <td>https://i.scdn.co/image/ab6761610000e5eb5704a6...</td>\n",
       "      <td>1</td>\n",
       "      <td>My Universe</td>\n",
       "      <td>...</td>\n",
       "      <td>0.0114</td>\n",
       "      <td>0.0</td>\n",
       "      <td>0.328</td>\n",
       "      <td>0.47</td>\n",
       "      <td>105.006</td>\n",
       "      <td>226198</td>\n",
       "      <td>Vietnam</td>\n",
       "      <td>Asia</td>\n",
       "      <td>Vietnamese</td>\n",
       "      <td>1</td>\n",
       "    </tr>\n",
       "    <tr>\n",
       "      <th>1774375</th>\n",
       "      <td>spotify:track:5PjdY0CKGZdEuoNab3yDmX</td>\n",
       "      <td>8</td>\n",
       "      <td>The Kid LAROI, Justin Bieber</td>\n",
       "      <td>2.0</td>\n",
       "      <td>The Kid LAROI</td>\n",
       "      <td>spotify:artist:2tIP7SsRs7vjIcLrU85W8J</td>\n",
       "      <td>australian hip hop</td>\n",
       "      <td>https://i.scdn.co/image/ab6761610000e5eb152a7e...</td>\n",
       "      <td>1</td>\n",
       "      <td>STAY (with Justin Bieber)</td>\n",
       "      <td>...</td>\n",
       "      <td>0.0383</td>\n",
       "      <td>0.0</td>\n",
       "      <td>0.103</td>\n",
       "      <td>0.478</td>\n",
       "      <td>169.928</td>\n",
       "      <td>141806</td>\n",
       "      <td>Vietnam</td>\n",
       "      <td>Asia</td>\n",
       "      <td>Vietnamese</td>\n",
       "      <td>0</td>\n",
       "    </tr>\n",
       "    <tr>\n",
       "      <th>1774376</th>\n",
       "      <td>spotify:track:5PjdY0CKGZdEuoNab3yDmX</td>\n",
       "      <td>8</td>\n",
       "      <td>The Kid LAROI, Justin Bieber</td>\n",
       "      <td>2.0</td>\n",
       "      <td>Justin Bieber</td>\n",
       "      <td>spotify:artist:1uNFoZAHBGtllmzznpCI3s</td>\n",
       "      <td>canadian pop</td>\n",
       "      <td>https://i.scdn.co/image/ab6761610000e5eb8ae7f2...</td>\n",
       "      <td>1</td>\n",
       "      <td>STAY (with Justin Bieber)</td>\n",
       "      <td>...</td>\n",
       "      <td>0.0383</td>\n",
       "      <td>0.0</td>\n",
       "      <td>0.103</td>\n",
       "      <td>0.478</td>\n",
       "      <td>169.928</td>\n",
       "      <td>141806</td>\n",
       "      <td>Vietnam</td>\n",
       "      <td>Asia</td>\n",
       "      <td>Vietnamese</td>\n",
       "      <td>1</td>\n",
       "    </tr>\n",
       "    <tr>\n",
       "      <th>1774384</th>\n",
       "      <td>spotify:track:5T6j0rfpCDBzAxC8Fpd0N7</td>\n",
       "      <td>18</td>\n",
       "      <td>Low G, Thắng</td>\n",
       "      <td>2.0</td>\n",
       "      <td>Low G</td>\n",
       "      <td>spotify:artist:6TITnFVRcl0AcZ4syE7Toe</td>\n",
       "      <td>vietnamese hip hop</td>\n",
       "      <td>https://i.scdn.co/image/ab6761610000e5eb00ece5...</td>\n",
       "      <td>1</td>\n",
       "      <td>An Thần</td>\n",
       "      <td>...</td>\n",
       "      <td>0.631</td>\n",
       "      <td>0.000002</td>\n",
       "      <td>0.114</td>\n",
       "      <td>0.907</td>\n",
       "      <td>169.996</td>\n",
       "      <td>174286</td>\n",
       "      <td>Vietnam</td>\n",
       "      <td>Asia</td>\n",
       "      <td>Vietnamese</td>\n",
       "      <td>0</td>\n",
       "    </tr>\n",
       "    <tr>\n",
       "      <th>...</th>\n",
       "      <td>...</td>\n",
       "      <td>...</td>\n",
       "      <td>...</td>\n",
       "      <td>...</td>\n",
       "      <td>...</td>\n",
       "      <td>...</td>\n",
       "      <td>...</td>\n",
       "      <td>...</td>\n",
       "      <td>...</td>\n",
       "      <td>...</td>\n",
       "      <td>...</td>\n",
       "      <td>...</td>\n",
       "      <td>...</td>\n",
       "      <td>...</td>\n",
       "      <td>...</td>\n",
       "      <td>...</td>\n",
       "      <td>...</td>\n",
       "      <td>...</td>\n",
       "      <td>...</td>\n",
       "      <td>...</td>\n",
       "      <td>...</td>\n",
       "    </tr>\n",
       "    <tr>\n",
       "      <th>1787991</th>\n",
       "      <td>spotify:track:51bYFYWODfYOZU0rwvjiCc</td>\n",
       "      <td>195</td>\n",
       "      <td>Binz, Đen</td>\n",
       "      <td>2.0</td>\n",
       "      <td>Đen</td>\n",
       "      <td>spotify:artist:1LEtM3AleYg1xabW6CRkpi</td>\n",
       "      <td>v-pop</td>\n",
       "      <td>https://i.scdn.co/image/ab6761610000e5eb37206c...</td>\n",
       "      <td>1</td>\n",
       "      <td>Cho Mình Em</td>\n",
       "      <td>...</td>\n",
       "      <td>0.891</td>\n",
       "      <td>0.0212</td>\n",
       "      <td>0.115</td>\n",
       "      <td>0.371</td>\n",
       "      <td>99.886</td>\n",
       "      <td>206400</td>\n",
       "      <td>Vietnam</td>\n",
       "      <td>Asia</td>\n",
       "      <td>Vietnamese</td>\n",
       "      <td>1</td>\n",
       "    </tr>\n",
       "    <tr>\n",
       "      <th>1787992</th>\n",
       "      <td>spotify:track:0vLXpeE2Z7iVvcba8PAwwI</td>\n",
       "      <td>196</td>\n",
       "      <td>Kai Đinh, SIVAN</td>\n",
       "      <td>2.0</td>\n",
       "      <td>Kai Đinh</td>\n",
       "      <td>spotify:artist:3E6LGptA8lBEXPHAQCE3vr</td>\n",
       "      <td>v-pop</td>\n",
       "      <td>https://i.scdn.co/image/ab6761610000e5eb8c1162...</td>\n",
       "      <td>1</td>\n",
       "      <td>Thế Hệ Tan Vỡ (feat. SIVAN)</td>\n",
       "      <td>...</td>\n",
       "      <td>0.671</td>\n",
       "      <td>0.000367</td>\n",
       "      <td>0.0938</td>\n",
       "      <td>0.335</td>\n",
       "      <td>140.112</td>\n",
       "      <td>288000</td>\n",
       "      <td>Vietnam</td>\n",
       "      <td>Asia</td>\n",
       "      <td>Vietnamese</td>\n",
       "      <td>0</td>\n",
       "    </tr>\n",
       "    <tr>\n",
       "      <th>1787993</th>\n",
       "      <td>spotify:track:0vLXpeE2Z7iVvcba8PAwwI</td>\n",
       "      <td>196</td>\n",
       "      <td>Kai Đinh, SIVAN</td>\n",
       "      <td>2.0</td>\n",
       "      <td>SIVAN</td>\n",
       "      <td>spotify:artist:0wJWawRvX8K9joiK9QqkX5</td>\n",
       "      <td>0</td>\n",
       "      <td>https://i.scdn.co/image/ab6761610000e5eb0cd580...</td>\n",
       "      <td>1</td>\n",
       "      <td>Thế Hệ Tan Vỡ (feat. SIVAN)</td>\n",
       "      <td>...</td>\n",
       "      <td>0.671</td>\n",
       "      <td>0.000367</td>\n",
       "      <td>0.0938</td>\n",
       "      <td>0.335</td>\n",
       "      <td>140.112</td>\n",
       "      <td>288000</td>\n",
       "      <td>Vietnam</td>\n",
       "      <td>Asia</td>\n",
       "      <td>Vietnamese</td>\n",
       "      <td>1</td>\n",
       "    </tr>\n",
       "    <tr>\n",
       "      <th>1787994</th>\n",
       "      <td>spotify:track:1XGmzt0PVuFgQYYnV2It7A</td>\n",
       "      <td>197</td>\n",
       "      <td>Maroon 5, Wiz Khalifa</td>\n",
       "      <td>2.0</td>\n",
       "      <td>Maroon 5</td>\n",
       "      <td>spotify:artist:04gDigrS5kc9YWfZHwBETP</td>\n",
       "      <td>pop</td>\n",
       "      <td>https://i.scdn.co/image/ab6761610000e5eb288ac0...</td>\n",
       "      <td>1</td>\n",
       "      <td>Payphone</td>\n",
       "      <td>...</td>\n",
       "      <td>0.0188</td>\n",
       "      <td>0.0</td>\n",
       "      <td>0.287</td>\n",
       "      <td>0.545</td>\n",
       "      <td>110.015</td>\n",
       "      <td>231173</td>\n",
       "      <td>Vietnam</td>\n",
       "      <td>Asia</td>\n",
       "      <td>Vietnamese</td>\n",
       "      <td>0</td>\n",
       "    </tr>\n",
       "    <tr>\n",
       "      <th>1787995</th>\n",
       "      <td>spotify:track:1XGmzt0PVuFgQYYnV2It7A</td>\n",
       "      <td>197</td>\n",
       "      <td>Maroon 5, Wiz Khalifa</td>\n",
       "      <td>2.0</td>\n",
       "      <td>Wiz Khalifa</td>\n",
       "      <td>spotify:artist:137W8MRPWKqSmrBGDBFSop</td>\n",
       "      <td>hip hop</td>\n",
       "      <td>https://i.scdn.co/image/ab6761610000e5eb4bdf6d...</td>\n",
       "      <td>1</td>\n",
       "      <td>Payphone</td>\n",
       "      <td>...</td>\n",
       "      <td>0.0188</td>\n",
       "      <td>0.0</td>\n",
       "      <td>0.287</td>\n",
       "      <td>0.545</td>\n",
       "      <td>110.015</td>\n",
       "      <td>231173</td>\n",
       "      <td>Vietnam</td>\n",
       "      <td>Asia</td>\n",
       "      <td>Vietnamese</td>\n",
       "      <td>1</td>\n",
       "    </tr>\n",
       "  </tbody>\n",
       "</table>\n",
       "<p>8704 rows × 35 columns</p>\n",
       "</div>"
      ],
      "text/plain": [
       "                                          uri rank  \\\n",
       "1774373  spotify:track:46HNZY1i7O6jwTA7Slo2PI    5   \n",
       "1774374  spotify:track:46HNZY1i7O6jwTA7Slo2PI    5   \n",
       "1774375  spotify:track:5PjdY0CKGZdEuoNab3yDmX    8   \n",
       "1774376  spotify:track:5PjdY0CKGZdEuoNab3yDmX    8   \n",
       "1774384  spotify:track:5T6j0rfpCDBzAxC8Fpd0N7   18   \n",
       "...                                       ...  ...   \n",
       "1787991  spotify:track:51bYFYWODfYOZU0rwvjiCc  195   \n",
       "1787992  spotify:track:0vLXpeE2Z7iVvcba8PAwwI  196   \n",
       "1787993  spotify:track:0vLXpeE2Z7iVvcba8PAwwI  196   \n",
       "1787994  spotify:track:1XGmzt0PVuFgQYYnV2It7A  197   \n",
       "1787995  spotify:track:1XGmzt0PVuFgQYYnV2It7A  197   \n",
       "\n",
       "                         artist_names artists_num artist_individual  \\\n",
       "1774373                 Coldplay, BTS         2.0          Coldplay   \n",
       "1774374                 Coldplay, BTS         2.0               BTS   \n",
       "1774375  The Kid LAROI, Justin Bieber         2.0     The Kid LAROI   \n",
       "1774376  The Kid LAROI, Justin Bieber         2.0     Justin Bieber   \n",
       "1774384                  Low G, Thắng         2.0             Low G   \n",
       "...                               ...         ...               ...   \n",
       "1787991                     Binz, Đen         2.0               Đen   \n",
       "1787992               Kai Đinh, SIVAN         2.0          Kai Đinh   \n",
       "1787993               Kai Đinh, SIVAN         2.0             SIVAN   \n",
       "1787994         Maroon 5, Wiz Khalifa         2.0          Maroon 5   \n",
       "1787995         Maroon 5, Wiz Khalifa         2.0       Wiz Khalifa   \n",
       "\n",
       "                                     artist_id        artist_genre  \\\n",
       "1774373  spotify:artist:4gzpq5DPGxSnKTe4SA8HAU                 pop   \n",
       "1774374  spotify:artist:3Nrfpe0tUJi4K4DXYWgMUX     k-pop boy group   \n",
       "1774375  spotify:artist:2tIP7SsRs7vjIcLrU85W8J  australian hip hop   \n",
       "1774376  spotify:artist:1uNFoZAHBGtllmzznpCI3s        canadian pop   \n",
       "1774384  spotify:artist:6TITnFVRcl0AcZ4syE7Toe  vietnamese hip hop   \n",
       "...                                        ...                 ...   \n",
       "1787991  spotify:artist:1LEtM3AleYg1xabW6CRkpi               v-pop   \n",
       "1787992  spotify:artist:3E6LGptA8lBEXPHAQCE3vr               v-pop   \n",
       "1787993  spotify:artist:0wJWawRvX8K9joiK9QqkX5                   0   \n",
       "1787994  spotify:artist:04gDigrS5kc9YWfZHwBETP                 pop   \n",
       "1787995  spotify:artist:137W8MRPWKqSmrBGDBFSop             hip hop   \n",
       "\n",
       "                                                artist_img collab  \\\n",
       "1774373  https://i.scdn.co/image/ab6761610000e5eb865a33...      1   \n",
       "1774374  https://i.scdn.co/image/ab6761610000e5eb5704a6...      1   \n",
       "1774375  https://i.scdn.co/image/ab6761610000e5eb152a7e...      1   \n",
       "1774376  https://i.scdn.co/image/ab6761610000e5eb8ae7f2...      1   \n",
       "1774384  https://i.scdn.co/image/ab6761610000e5eb00ece5...      1   \n",
       "...                                                    ...    ...   \n",
       "1787991  https://i.scdn.co/image/ab6761610000e5eb37206c...      1   \n",
       "1787992  https://i.scdn.co/image/ab6761610000e5eb8c1162...      1   \n",
       "1787993  https://i.scdn.co/image/ab6761610000e5eb0cd580...      1   \n",
       "1787994  https://i.scdn.co/image/ab6761610000e5eb288ac0...      1   \n",
       "1787995  https://i.scdn.co/image/ab6761610000e5eb4bdf6d...      1   \n",
       "\n",
       "                          track_name  ... acousticness instrumentalness  \\\n",
       "1774373                  My Universe  ...       0.0114              0.0   \n",
       "1774374                  My Universe  ...       0.0114              0.0   \n",
       "1774375    STAY (with Justin Bieber)  ...       0.0383              0.0   \n",
       "1774376    STAY (with Justin Bieber)  ...       0.0383              0.0   \n",
       "1774384                      An Thần  ...        0.631         0.000002   \n",
       "...                              ...  ...          ...              ...   \n",
       "1787991                  Cho Mình Em  ...        0.891           0.0212   \n",
       "1787992  Thế Hệ Tan Vỡ (feat. SIVAN)  ...        0.671         0.000367   \n",
       "1787993  Thế Hệ Tan Vỡ (feat. SIVAN)  ...        0.671         0.000367   \n",
       "1787994                     Payphone  ...       0.0188              0.0   \n",
       "1787995                     Payphone  ...       0.0188              0.0   \n",
       "\n",
       "        liveness valence    tempo duration  country region    language pivot  \n",
       "1774373    0.328    0.47  105.006   226198  Vietnam   Asia  Vietnamese     0  \n",
       "1774374    0.328    0.47  105.006   226198  Vietnam   Asia  Vietnamese     1  \n",
       "1774375    0.103   0.478  169.928   141806  Vietnam   Asia  Vietnamese     0  \n",
       "1774376    0.103   0.478  169.928   141806  Vietnam   Asia  Vietnamese     1  \n",
       "1774384    0.114   0.907  169.996   174286  Vietnam   Asia  Vietnamese     0  \n",
       "...          ...     ...      ...      ...      ...    ...         ...   ...  \n",
       "1787991    0.115   0.371   99.886   206400  Vietnam   Asia  Vietnamese     1  \n",
       "1787992   0.0938   0.335  140.112   288000  Vietnam   Asia  Vietnamese     0  \n",
       "1787993   0.0938   0.335  140.112   288000  Vietnam   Asia  Vietnamese     1  \n",
       "1787994    0.287   0.545  110.015   231173  Vietnam   Asia  Vietnamese     0  \n",
       "1787995    0.287   0.545  110.015   231173  Vietnam   Asia  Vietnamese     1  \n",
       "\n",
       "[8704 rows x 35 columns]"
      ]
     },
     "execution_count": 98,
     "metadata": {},
     "output_type": "execute_result"
    }
   ],
   "source": [
    "spotify_df[(spotify_df.country == \"Vietnam\") & (spotify_df.artists_num == 2)]"
   ]
  },
  {
   "cell_type": "code",
   "execution_count": 99,
   "metadata": {},
   "outputs": [],
   "source": [
    "spotify_df = spotify_df.drop_duplicates(subset=['uri','country','week'] , keep='first', ignore_index=True)"
   ]
  },
  {
   "cell_type": "markdown",
   "metadata": {},
   "source": [
    "**Dữ liệu bị thiếu, rỗng**"
   ]
  },
  {
   "cell_type": "code",
   "execution_count": 100,
   "metadata": {},
   "outputs": [
    {
     "data": {
      "text/plain": [
       "uri                    0\n",
       "rank                   0\n",
       "artist_names           0\n",
       "artists_num            0\n",
       "artist_individual      0\n",
       "artist_id              0\n",
       "artist_genre           0\n",
       "artist_img           816\n",
       "collab                 0\n",
       "track_name             0\n",
       "release_date           0\n",
       "album_num_tracks       0\n",
       "album_cover           15\n",
       "source                 0\n",
       "peak_rank              0\n",
       "previous_rank          0\n",
       "weeks_on_chart         0\n",
       "streams                0\n",
       "week                   0\n",
       "danceability         145\n",
       "energy               145\n",
       "key                  145\n",
       "mode                 145\n",
       "loudness             145\n",
       "speechiness          145\n",
       "acousticness         145\n",
       "instrumentalness     145\n",
       "liveness             145\n",
       "valence              145\n",
       "tempo                145\n",
       "duration             145\n",
       "country                0\n",
       "region                 0\n",
       "language               0\n",
       "pivot                  0\n",
       "dtype: int64"
      ]
     },
     "execution_count": 100,
     "metadata": {},
     "output_type": "execute_result"
    }
   ],
   "source": [
    "# spotify_df[spotify_df.isna().any(axis=1)]\n",
    "# spotify_df[spotify_df.isnull().any(axis=1)]\n",
    "\n",
    "spotify_df.isna().sum()"
   ]
  },
  {
   "attachments": {},
   "cell_type": "markdown",
   "metadata": {},
   "source": [
    "Có một vài giá trị thiếu.<br>\n",
    "Đối với `artist_img` và `album_cover` việc thiếu này ảnh hưởng không đáng kể, vì hai trường này là các cột hình ảnh."
   ]
  },
  {
   "attachments": {},
   "cell_type": "markdown",
   "metadata": {},
   "source": [
    "Kiểm tra các cột cường độ"
   ]
  },
  {
   "cell_type": "code",
   "execution_count": 101,
   "metadata": {},
   "outputs": [
    {
     "data": {
      "text/plain": [
       "danceability        145\n",
       "energy              145\n",
       "key                 145\n",
       "mode                145\n",
       "loudness            145\n",
       "speechiness         145\n",
       "acousticness        145\n",
       "instrumentalness    145\n",
       "liveness            145\n",
       "valence             145\n",
       "tempo               145\n",
       "duration            145\n",
       "dtype: int64"
      ]
     },
     "execution_count": 101,
     "metadata": {},
     "output_type": "execute_result"
    }
   ],
   "source": [
    "audio_cols = ['danceability', 'energy', 'key', 'mode', 'loudness', 'speechiness', \n",
    "              'acousticness', 'instrumentalness', 'liveness', 'valence', 'tempo', 'duration']\n",
    "\n",
    "spotify_df[audio_cols].isnull().sum()"
   ]
  },
  {
   "attachments": {},
   "cell_type": "markdown",
   "metadata": {},
   "source": [
    "Quả thật các cột cường độ, mỗi cột thiếu đi 145 dòng."
   ]
  },
  {
   "attachments": {},
   "cell_type": "markdown",
   "metadata": {},
   "source": [
    "Ta kiểm tra qua từng cột xem dòng nào là dòng thiếu"
   ]
  },
  {
   "cell_type": "code",
   "execution_count": 102,
   "metadata": {},
   "outputs": [
    {
     "name": "stdout",
     "output_type": "stream",
     "text": [
      "<class 'pandas.core.frame.DataFrame'>\n",
      "Int64Index: 145 entries, 6776 to 1075045\n",
      "Data columns (total 12 columns):\n",
      " #   Column            Non-Null Count  Dtype \n",
      "---  ------            --------------  ----- \n",
      " 0   danceability      0 non-null      object\n",
      " 1   energy            0 non-null      object\n",
      " 2   key               0 non-null      object\n",
      " 3   mode              0 non-null      object\n",
      " 4   loudness          0 non-null      object\n",
      " 5   speechiness       0 non-null      object\n",
      " 6   acousticness      0 non-null      object\n",
      " 7   instrumentalness  0 non-null      object\n",
      " 8   liveness          0 non-null      object\n",
      " 9   valence           0 non-null      object\n",
      " 10  tempo             0 non-null      object\n",
      " 11  duration          0 non-null      object\n",
      "dtypes: object(12)\n",
      "memory usage: 14.7+ KB\n"
     ]
    }
   ],
   "source": [
    "spotify_df[spotify_df[\"danceability\"].isna()][audio_cols].info()#.groupby(\"uri\")[\"track_name\"].unique()"
   ]
  },
  {
   "attachments": {},
   "cell_type": "markdown",
   "metadata": {},
   "source": [
    "May mắn khi truy xuất kiểm tra sự thiếu sót của cột `danceability`, phát hiện ra rằng các cột cường độ còn lại đều thiếu cùng hàng với cột đang xét."
   ]
  },
  {
   "cell_type": "markdown",
   "metadata": {},
   "source": [
    "**Xảy ra một số vấn đề về kiểu dữ liệu. Là do có nhiều kiểu dữ liệu bên trong cột.**"
   ]
  },
  {
   "cell_type": "code",
   "execution_count": 103,
   "metadata": {},
   "outputs": [],
   "source": [
    "def open_oject_dtype(column):\n",
    "    dtypes = set(column.apply(lambda x: type(x)))\n",
    "    \n",
    "    return dtypes"
   ]
  },
  {
   "cell_type": "code",
   "execution_count": 104,
   "metadata": {},
   "outputs": [],
   "source": [
    "# spotify_df[\"rank\"].unique()\n",
    "\n",
    "# spotify_df[\"artists_num\"].unique()\n",
    "\n",
    "# spotify_df[\"collab\"].unique()\n",
    "\n",
    "# spotify_df[\"peak_rank\"].unique()\n",
    "\n",
    "# spotify_df[\"previous_rank\"].unique()\n",
    "\n",
    "# spotify_df[\"weeks_on_chart\"].unique()\n",
    "\n",
    "# spotify_df[\"streams\"].unique()\n",
    "\n",
    "# spotify_df[spotify_df[\"uri\"] == \"uri\"]"
   ]
  },
  {
   "cell_type": "code",
   "execution_count": 105,
   "metadata": {},
   "outputs": [
    {
     "data": {
      "text/plain": [
       "uri                                                  {<class 'str'>}\n",
       "rank                                  {<class 'int'>, <class 'str'>}\n",
       "artist_names                                         {<class 'str'>}\n",
       "artists_num                         {<class 'float'>, <class 'str'>}\n",
       "artist_individual                                    {<class 'str'>}\n",
       "artist_id                                            {<class 'str'>}\n",
       "artist_genre                                         {<class 'str'>}\n",
       "artist_img                          {<class 'float'>, <class 'str'>}\n",
       "collab                                {<class 'int'>, <class 'str'>}\n",
       "track_name                                           {<class 'str'>}\n",
       "release_date                                         {<class 'str'>}\n",
       "album_num_tracks                    {<class 'float'>, <class 'str'>}\n",
       "album_cover                         {<class 'float'>, <class 'str'>}\n",
       "source                                               {<class 'str'>}\n",
       "peak_rank                             {<class 'int'>, <class 'str'>}\n",
       "previous_rank                         {<class 'int'>, <class 'str'>}\n",
       "weeks_on_chart                        {<class 'int'>, <class 'str'>}\n",
       "streams                               {<class 'int'>, <class 'str'>}\n",
       "week                                                 {<class 'str'>}\n",
       "danceability                        {<class 'float'>, <class 'str'>}\n",
       "energy                              {<class 'float'>, <class 'str'>}\n",
       "key                  {<class 'float'>, <class 'int'>, <class 'str'>}\n",
       "mode                 {<class 'float'>, <class 'int'>, <class 'str'>}\n",
       "loudness                            {<class 'float'>, <class 'str'>}\n",
       "speechiness                         {<class 'float'>, <class 'str'>}\n",
       "acousticness                        {<class 'float'>, <class 'str'>}\n",
       "instrumentalness                    {<class 'float'>, <class 'str'>}\n",
       "liveness                            {<class 'float'>, <class 'str'>}\n",
       "valence                             {<class 'float'>, <class 'str'>}\n",
       "tempo                               {<class 'float'>, <class 'str'>}\n",
       "duration             {<class 'float'>, <class 'int'>, <class 'str'>}\n",
       "country                                              {<class 'str'>}\n",
       "region                                               {<class 'str'>}\n",
       "language                                             {<class 'str'>}\n",
       "pivot                                 {<class 'int'>, <class 'str'>}\n",
       "dtype: object"
      ]
     },
     "execution_count": 105,
     "metadata": {},
     "output_type": "execute_result"
    }
   ],
   "source": [
    "columns = spotify_df.columns\n",
    "# open_oject_dtype(spotify_df[\"uri\"])\n",
    "spotify_df[columns].apply(open_oject_dtype)"
   ]
  },
  {
   "cell_type": "markdown",
   "metadata": {},
   "source": [
    "Cột `rank`, `artists_num`, `collab`, `peak_rank`, `previous_rank`, `weeks_on_chart`, `streams` và một số cột `cường độ`: một phần số với kiểu dữ liệu **int**, một phần số với kiểu dữ liệu là **str**<br>"
   ]
  },
  {
   "cell_type": "markdown",
   "metadata": {},
   "source": [
    "**Ta thấy các cột `rank`, `artist_num`, `collab`, `peak_rank`, `previous_rank`, `weeks_on_chart`, `streams` lẽ ra phải có kiểu dữ liệu là numeric.** \n",
    "- Do đó ta sẽ tiến hành chuyển các cột này về đúng kiểu dữ liệu.<br>\n",
    "- Ta sẽ viết hàm để thuận tiện cho việc chuyển.<br>\n",
    "- Riêng cột `artists_num` có thêm hậu tố .0 phía sau nên sẽ xử lý riêng."
   ]
  },
  {
   "cell_type": "code",
   "execution_count": 106,
   "metadata": {},
   "outputs": [],
   "source": [
    "def to_numeric(column, data_type):\n",
    "    spotify_df[column] = spotify_df[column].astype(data_type)\n",
    "    #return spotify_df[column]\n",
    "# print(spotify_df)"
   ]
  },
  {
   "cell_type": "code",
   "execution_count": 107,
   "metadata": {},
   "outputs": [],
   "source": [
    "to_numeric('rank', int)"
   ]
  },
  {
   "cell_type": "code",
   "execution_count": 108,
   "metadata": {},
   "outputs": [],
   "source": [
    "to_numeric('streams', int)"
   ]
  },
  {
   "cell_type": "code",
   "execution_count": 109,
   "metadata": {},
   "outputs": [],
   "source": [
    "to_numeric('peak_rank', int)"
   ]
  },
  {
   "cell_type": "code",
   "execution_count": 110,
   "metadata": {},
   "outputs": [],
   "source": [
    "to_numeric('previous_rank', int)"
   ]
  },
  {
   "cell_type": "code",
   "execution_count": 111,
   "metadata": {},
   "outputs": [
    {
     "name": "stdout",
     "output_type": "stream",
     "text": [
      "<class 'pandas.core.series.Series'>\n",
      "RangeIndex: 1109520 entries, 0 to 1109519\n",
      "Series name: artists_num\n",
      "Non-Null Count    Dtype \n",
      "--------------    ----- \n",
      "1109520 non-null  object\n",
      "dtypes: object(1)\n",
      "memory usage: 8.5+ MB\n"
     ]
    }
   ],
   "source": [
    "spotify_df['artists_num'].info()"
   ]
  },
  {
   "cell_type": "markdown",
   "metadata": {},
   "source": [
    "Cột `artists_num` có mixtypes"
   ]
  },
  {
   "cell_type": "code",
   "execution_count": 112,
   "metadata": {},
   "outputs": [
    {
     "data": {
      "text/plain": [
       "515719"
      ]
     },
     "execution_count": 112,
     "metadata": {},
     "output_type": "execute_result"
    }
   ],
   "source": [
    "count = spotify_df['artists_num'].value_counts()\n",
    "# count\n",
    "count[count.index=='1.0'].sum()"
   ]
  },
  {
   "cell_type": "code",
   "execution_count": 113,
   "metadata": {},
   "outputs": [
    {
     "data": {
      "text/plain": [
       "Text(0.5, 1.0, 'Số lượng ca sĩ thể hiện bài hát')"
      ]
     },
     "execution_count": 113,
     "metadata": {},
     "output_type": "execute_result"
    },
    {
     "data": {
      "image/png": "[encoded data removed]",
      "text/plain": [
       "<Figure size 640x480 with 1 Axes>"
      ]
     },
     "metadata": {},
     "output_type": "display_data"
    }
   ],
   "source": [
    "spotify_df['artists_num'] = spotify_df['artists_num'].apply(lambda x: str(x).replace('.0', '')).astype('Int64')\n",
    "spotify_df['artists_num'].value_counts().plot.bar(rot = 0)\n",
    "plt.title('Số lượng ca sĩ thể hiện bài hát')"
   ]
  },
  {
   "cell_type": "code",
   "execution_count": 114,
   "metadata": {},
   "outputs": [
    {
     "data": {
      "text/plain": [
       "Text(0.5, 1.0, 'Số bài hát được collab')"
      ]
     },
     "execution_count": 114,
     "metadata": {},
     "output_type": "execute_result"
    },
    {
     "data": {
      "image/png": "[encoded data removed]",
      "text/plain": [
       "<Figure size 640x480 with 1 Axes>"
      ]
     },
     "metadata": {},
     "output_type": "display_data"
    }
   ],
   "source": [
    "to_numeric('collab', int)\n",
    "spotify_df['collab'].value_counts().plot.bar(rot = 0)\n",
    "plt.title('Số bài hát được collab')"
   ]
  },
  {
   "cell_type": "markdown",
   "metadata": {},
   "source": [
    "**Số lượng giá trị 0 ở cột collab và giá trị 1 ở cột artists_num phải bằng nhau (số lượng nghệ sĩ biểu diễn là 1 người thì có nghĩa là không collab với ai)**"
   ]
  },
  {
   "cell_type": "code",
   "execution_count": 115,
   "metadata": {},
   "outputs": [
    {
     "data": {
      "text/plain": [
       "665596"
      ]
     },
     "execution_count": 115,
     "metadata": {},
     "output_type": "execute_result"
    }
   ],
   "source": [
    "test = spotify_df[spotify_df['artists_num'] == 1].index == spotify_df[spotify_df['collab'] == 0].index\n",
    "test.sum()"
   ]
  },
  {
   "cell_type": "markdown",
   "metadata": {},
   "source": [
    "Vậy ta có thể loại cột `collab` để giảm chiều dữ liệu? (vì từ cột `artists_num` có thể suy ra được cột `collab`)  "
   ]
  },
  {
   "cell_type": "code",
   "execution_count": 116,
   "metadata": {},
   "outputs": [],
   "source": [
    "spotify_df.drop('collab', axis=1, inplace=True)"
   ]
  },
  {
   "cell_type": "markdown",
   "metadata": {},
   "source": [
    "Ngoài ra, ta cũng cần chuyển kiểu dữ liệu của `release_date`, `week` về thành datetime"
   ]
  },
  {
   "cell_type": "code",
   "execution_count": 117,
   "metadata": {},
   "outputs": [],
   "source": [
    "pattern = '%Y-%m-%d'\n",
    "spotify_df['release_date'] = pd.to_datetime(spotify_df['release_date'], format=pattern)\n",
    "spotify_df['week'] = pd.to_datetime(spotify_df['week'], format=pattern)"
   ]
  },
  {
   "cell_type": "markdown",
   "metadata": {},
   "source": [
    "**Chuyển các cột `đặc trưng` (biên độ, âm lượng, tiết tấu..) của âm thanh thành kiểu dữ liệu numeric**"
   ]
  },
  {
   "cell_type": "code",
   "execution_count": 118,
   "metadata": {},
   "outputs": [
    {
     "data": {
      "text/html": [
       "<div>\n",
       "<style scoped>\n",
       "    .dataframe tbody tr th:only-of-type {\n",
       "        vertical-align: middle;\n",
       "    }\n",
       "\n",
       "    .dataframe tbody tr th {\n",
       "        vertical-align: top;\n",
       "    }\n",
       "\n",
       "    .dataframe thead th {\n",
       "        text-align: right;\n",
       "    }\n",
       "</style>\n",
       "<table border=\"1\" class=\"dataframe\">\n",
       "  <thead>\n",
       "    <tr style=\"text-align: right;\">\n",
       "      <th></th>\n",
       "      <th>danceability</th>\n",
       "      <th>energy</th>\n",
       "      <th>key</th>\n",
       "      <th>mode</th>\n",
       "      <th>loudness</th>\n",
       "      <th>speechiness</th>\n",
       "      <th>acousticness</th>\n",
       "      <th>instrumentalness</th>\n",
       "      <th>liveness</th>\n",
       "      <th>valence</th>\n",
       "      <th>tempo</th>\n",
       "      <th>duration</th>\n",
       "    </tr>\n",
       "  </thead>\n",
       "  <tbody>\n",
       "    <tr>\n",
       "      <th>0</th>\n",
       "      <td>0.583</td>\n",
       "      <td>0.834</td>\n",
       "      <td>0.0</td>\n",
       "      <td>1.0</td>\n",
       "      <td>-4.875</td>\n",
       "      <td>0.0444</td>\n",
       "      <td>0.0495</td>\n",
       "      <td>0.0</td>\n",
       "      <td>0.0658</td>\n",
       "      <td>0.557</td>\n",
       "      <td>173.935</td>\n",
       "      <td>178203.0</td>\n",
       "    </tr>\n",
       "    <tr>\n",
       "      <th>1</th>\n",
       "      <td>0.654</td>\n",
       "      <td>0.354</td>\n",
       "      <td>5.0</td>\n",
       "      <td>1.0</td>\n",
       "      <td>-7.358</td>\n",
       "      <td>0.0738</td>\n",
       "      <td>0.724</td>\n",
       "      <td>0.0</td>\n",
       "      <td>0.134</td>\n",
       "      <td>0.262</td>\n",
       "      <td>81.956</td>\n",
       "      <td>183547.0</td>\n",
       "    </tr>\n",
       "    <tr>\n",
       "      <th>2</th>\n",
       "      <td>0.721</td>\n",
       "      <td>0.463</td>\n",
       "      <td>1.0</td>\n",
       "      <td>0.0</td>\n",
       "      <td>-9.483</td>\n",
       "      <td>0.0646</td>\n",
       "      <td>0.241</td>\n",
       "      <td>0.0</td>\n",
       "      <td>0.0929</td>\n",
       "      <td>0.216</td>\n",
       "      <td>137.915</td>\n",
       "      <td>204003.0</td>\n",
       "    </tr>\n",
       "    <tr>\n",
       "      <th>3</th>\n",
       "      <td>0.87</td>\n",
       "      <td>0.548</td>\n",
       "      <td>10.0</td>\n",
       "      <td>0.0</td>\n",
       "      <td>-5.253</td>\n",
       "      <td>0.077</td>\n",
       "      <td>0.0924</td>\n",
       "      <td>0.000046</td>\n",
       "      <td>0.0534</td>\n",
       "      <td>0.832</td>\n",
       "      <td>96.018</td>\n",
       "      <td>153750.0</td>\n",
       "    </tr>\n",
       "    <tr>\n",
       "      <th>4</th>\n",
       "      <td>0.761</td>\n",
       "      <td>0.696</td>\n",
       "      <td>7.0</td>\n",
       "      <td>0.0</td>\n",
       "      <td>-3.817</td>\n",
       "      <td>0.0505</td>\n",
       "      <td>0.0811</td>\n",
       "      <td>0.000063</td>\n",
       "      <td>0.101</td>\n",
       "      <td>0.501</td>\n",
       "      <td>95.066</td>\n",
       "      <td>133895.0</td>\n",
       "    </tr>\n",
       "  </tbody>\n",
       "</table>\n",
       "</div>"
      ],
      "text/plain": [
       "  danceability energy   key mode loudness speechiness acousticness  \\\n",
       "0        0.583  0.834   0.0  1.0   -4.875      0.0444       0.0495   \n",
       "1        0.654  0.354   5.0  1.0   -7.358      0.0738        0.724   \n",
       "2        0.721  0.463   1.0  0.0   -9.483      0.0646        0.241   \n",
       "3         0.87  0.548  10.0  0.0   -5.253       0.077       0.0924   \n",
       "4        0.761  0.696   7.0  0.0   -3.817      0.0505       0.0811   \n",
       "\n",
       "  instrumentalness liveness valence    tempo  duration  \n",
       "0              0.0   0.0658   0.557  173.935  178203.0  \n",
       "1              0.0    0.134   0.262   81.956  183547.0  \n",
       "2              0.0   0.0929   0.216  137.915  204003.0  \n",
       "3         0.000046   0.0534   0.832   96.018  153750.0  \n",
       "4         0.000063    0.101   0.501   95.066  133895.0  "
      ]
     },
     "execution_count": 118,
     "metadata": {},
     "output_type": "execute_result"
    }
   ],
   "source": [
    "audio_cols = ['danceability', 'energy', 'key', 'mode', 'loudness', 'speechiness', \n",
    "              'acousticness', 'instrumentalness', 'liveness', 'valence', 'tempo', 'duration']\n",
    "\n",
    "spotify_df[audio_cols].head()"
   ]
  },
  {
   "cell_type": "code",
   "execution_count": 119,
   "metadata": {},
   "outputs": [],
   "source": [
    "spotify_df[audio_cols] = spotify_df[audio_cols].astype(float)"
   ]
  },
  {
   "cell_type": "markdown",
   "metadata": {},
   "source": [
    "**Xem qua một vài thống kê của dữ liệu**"
   ]
  },
  {
   "cell_type": "code",
   "execution_count": 120,
   "metadata": {},
   "outputs": [
    {
     "data": {
      "text/html": [
       "<div>\n",
       "<style scoped>\n",
       "    .dataframe tbody tr th:only-of-type {\n",
       "        vertical-align: middle;\n",
       "    }\n",
       "\n",
       "    .dataframe tbody tr th {\n",
       "        vertical-align: top;\n",
       "    }\n",
       "\n",
       "    .dataframe thead th {\n",
       "        text-align: right;\n",
       "    }\n",
       "</style>\n",
       "<table border=\"1\" class=\"dataframe\">\n",
       "  <thead>\n",
       "    <tr style=\"text-align: right;\">\n",
       "      <th></th>\n",
       "      <th>rank</th>\n",
       "      <th>artists_num</th>\n",
       "      <th>peak_rank</th>\n",
       "      <th>previous_rank</th>\n",
       "      <th>streams</th>\n",
       "      <th>danceability</th>\n",
       "      <th>energy</th>\n",
       "      <th>key</th>\n",
       "      <th>mode</th>\n",
       "      <th>loudness</th>\n",
       "      <th>speechiness</th>\n",
       "      <th>acousticness</th>\n",
       "      <th>instrumentalness</th>\n",
       "      <th>liveness</th>\n",
       "      <th>valence</th>\n",
       "      <th>tempo</th>\n",
       "      <th>duration</th>\n",
       "    </tr>\n",
       "  </thead>\n",
       "  <tbody>\n",
       "    <tr>\n",
       "      <th>count</th>\n",
       "      <td>1.109520e+06</td>\n",
       "      <td>1109520.0</td>\n",
       "      <td>1.109520e+06</td>\n",
       "      <td>1.109520e+06</td>\n",
       "      <td>1.109520e+06</td>\n",
       "      <td>1.109375e+06</td>\n",
       "      <td>1.109375e+06</td>\n",
       "      <td>1.109375e+06</td>\n",
       "      <td>1.109375e+06</td>\n",
       "      <td>1.109375e+06</td>\n",
       "      <td>1.109375e+06</td>\n",
       "      <td>1.109375e+06</td>\n",
       "      <td>1.109375e+06</td>\n",
       "      <td>1.109375e+06</td>\n",
       "      <td>1.109375e+06</td>\n",
       "      <td>1.109375e+06</td>\n",
       "      <td>1.109375e+06</td>\n",
       "    </tr>\n",
       "    <tr>\n",
       "      <th>mean</th>\n",
       "      <td>1.005018e+02</td>\n",
       "      <td>1.611443</td>\n",
       "      <td>4.191652e+01</td>\n",
       "      <td>8.435407e+01</td>\n",
       "      <td>6.821519e+05</td>\n",
       "      <td>6.817758e-01</td>\n",
       "      <td>6.418535e-01</td>\n",
       "      <td>5.325786e+00</td>\n",
       "      <td>5.742693e-01</td>\n",
       "      <td>-6.350350e+00</td>\n",
       "      <td>1.059117e-01</td>\n",
       "      <td>2.697053e-01</td>\n",
       "      <td>1.148840e-02</td>\n",
       "      <td>1.682632e-01</td>\n",
       "      <td>5.346420e-01</td>\n",
       "      <td>1.219060e+02</td>\n",
       "      <td>2.050580e+05</td>\n",
       "    </tr>\n",
       "    <tr>\n",
       "      <th>std</th>\n",
       "      <td>5.773315e+01</td>\n",
       "      <td>1.010256</td>\n",
       "      <td>4.659037e+01</td>\n",
       "      <td>5.949596e+01</td>\n",
       "      <td>2.377175e+06</td>\n",
       "      <td>1.381223e-01</td>\n",
       "      <td>1.638659e-01</td>\n",
       "      <td>3.629385e+00</td>\n",
       "      <td>4.944535e-01</td>\n",
       "      <td>2.461208e+00</td>\n",
       "      <td>9.691305e-02</td>\n",
       "      <td>2.528607e-01</td>\n",
       "      <td>7.584283e-02</td>\n",
       "      <td>1.249962e-01</td>\n",
       "      <td>2.263884e-01</td>\n",
       "      <td>2.981120e+01</td>\n",
       "      <td>5.015941e+04</td>\n",
       "    </tr>\n",
       "    <tr>\n",
       "      <th>min</th>\n",
       "      <td>1.000000e+00</td>\n",
       "      <td>1.0</td>\n",
       "      <td>1.000000e+00</td>\n",
       "      <td>-1.000000e+00</td>\n",
       "      <td>2.067000e+03</td>\n",
       "      <td>8.590000e-02</td>\n",
       "      <td>3.160000e-03</td>\n",
       "      <td>0.000000e+00</td>\n",
       "      <td>0.000000e+00</td>\n",
       "      <td>-4.141000e+01</td>\n",
       "      <td>2.230000e-02</td>\n",
       "      <td>1.770000e-06</td>\n",
       "      <td>0.000000e+00</td>\n",
       "      <td>1.340000e-02</td>\n",
       "      <td>1.000000e-05</td>\n",
       "      <td>3.126200e+01</td>\n",
       "      <td>3.013300e+04</td>\n",
       "    </tr>\n",
       "    <tr>\n",
       "      <th>25%</th>\n",
       "      <td>5.100000e+01</td>\n",
       "      <td>1.0</td>\n",
       "      <td>6.000000e+00</td>\n",
       "      <td>3.100000e+01</td>\n",
       "      <td>2.470400e+04</td>\n",
       "      <td>5.910000e-01</td>\n",
       "      <td>5.350000e-01</td>\n",
       "      <td>2.000000e+00</td>\n",
       "      <td>0.000000e+00</td>\n",
       "      <td>-7.671000e+00</td>\n",
       "      <td>4.100000e-02</td>\n",
       "      <td>5.470000e-02</td>\n",
       "      <td>0.000000e+00</td>\n",
       "      <td>9.270000e-02</td>\n",
       "      <td>3.640000e-01</td>\n",
       "      <td>9.698300e+01</td>\n",
       "      <td>1.726270e+05</td>\n",
       "    </tr>\n",
       "    <tr>\n",
       "      <th>50%</th>\n",
       "      <td>1.010000e+02</td>\n",
       "      <td>1.0</td>\n",
       "      <td>2.200000e+01</td>\n",
       "      <td>8.200000e+01</td>\n",
       "      <td>6.335900e+04</td>\n",
       "      <td>7.010000e-01</td>\n",
       "      <td>6.600000e-01</td>\n",
       "      <td>6.000000e+00</td>\n",
       "      <td>1.000000e+00</td>\n",
       "      <td>-6.008000e+00</td>\n",
       "      <td>6.290000e-02</td>\n",
       "      <td>1.860000e-01</td>\n",
       "      <td>0.000000e+00</td>\n",
       "      <td>1.180000e-01</td>\n",
       "      <td>5.370000e-01</td>\n",
       "      <td>1.199840e+02</td>\n",
       "      <td>1.997100e+05</td>\n",
       "    </tr>\n",
       "    <tr>\n",
       "      <th>75%</th>\n",
       "      <td>1.502500e+02</td>\n",
       "      <td>2.0</td>\n",
       "      <td>6.500000e+01</td>\n",
       "      <td>1.350000e+02</td>\n",
       "      <td>3.026252e+05</td>\n",
       "      <td>7.870000e-01</td>\n",
       "      <td>7.660000e-01</td>\n",
       "      <td>8.000000e+00</td>\n",
       "      <td>1.000000e+00</td>\n",
       "      <td>-4.598000e+00</td>\n",
       "      <td>1.330000e-01</td>\n",
       "      <td>4.180000e-01</td>\n",
       "      <td>5.220000e-05</td>\n",
       "      <td>2.030000e-01</td>\n",
       "      <td>7.100000e-01</td>\n",
       "      <td>1.410200e+02</td>\n",
       "      <td>2.295650e+05</td>\n",
       "    </tr>\n",
       "    <tr>\n",
       "      <th>max</th>\n",
       "      <td>2.000000e+02</td>\n",
       "      <td>20.0</td>\n",
       "      <td>2.000000e+02</td>\n",
       "      <td>2.000000e+02</td>\n",
       "      <td>8.495293e+07</td>\n",
       "      <td>9.860000e-01</td>\n",
       "      <td>1.000000e+00</td>\n",
       "      <td>1.100000e+01</td>\n",
       "      <td>1.000000e+00</td>\n",
       "      <td>1.906000e+00</td>\n",
       "      <td>9.660000e-01</td>\n",
       "      <td>9.950000e-01</td>\n",
       "      <td>9.900000e-01</td>\n",
       "      <td>9.900000e-01</td>\n",
       "      <td>9.920000e-01</td>\n",
       "      <td>2.320180e+02</td>\n",
       "      <td>1.787030e+06</td>\n",
       "    </tr>\n",
       "  </tbody>\n",
       "</table>\n",
       "</div>"
      ],
      "text/plain": [
       "               rank  artists_num     peak_rank  previous_rank       streams  \\\n",
       "count  1.109520e+06    1109520.0  1.109520e+06   1.109520e+06  1.109520e+06   \n",
       "mean   1.005018e+02     1.611443  4.191652e+01   8.435407e+01  6.821519e+05   \n",
       "std    5.773315e+01     1.010256  4.659037e+01   5.949596e+01  2.377175e+06   \n",
       "min    1.000000e+00          1.0  1.000000e+00  -1.000000e+00  2.067000e+03   \n",
       "25%    5.100000e+01          1.0  6.000000e+00   3.100000e+01  2.470400e+04   \n",
       "50%    1.010000e+02          1.0  2.200000e+01   8.200000e+01  6.335900e+04   \n",
       "75%    1.502500e+02          2.0  6.500000e+01   1.350000e+02  3.026252e+05   \n",
       "max    2.000000e+02         20.0  2.000000e+02   2.000000e+02  8.495293e+07   \n",
       "\n",
       "       danceability        energy           key          mode      loudness  \\\n",
       "count  1.109375e+06  1.109375e+06  1.109375e+06  1.109375e+06  1.109375e+06   \n",
       "mean   6.817758e-01  6.418535e-01  5.325786e+00  5.742693e-01 -6.350350e+00   \n",
       "std    1.381223e-01  1.638659e-01  3.629385e+00  4.944535e-01  2.461208e+00   \n",
       "min    8.590000e-02  3.160000e-03  0.000000e+00  0.000000e+00 -4.141000e+01   \n",
       "25%    5.910000e-01  5.350000e-01  2.000000e+00  0.000000e+00 -7.671000e+00   \n",
       "50%    7.010000e-01  6.600000e-01  6.000000e+00  1.000000e+00 -6.008000e+00   \n",
       "75%    7.870000e-01  7.660000e-01  8.000000e+00  1.000000e+00 -4.598000e+00   \n",
       "max    9.860000e-01  1.000000e+00  1.100000e+01  1.000000e+00  1.906000e+00   \n",
       "\n",
       "        speechiness  acousticness  instrumentalness      liveness  \\\n",
       "count  1.109375e+06  1.109375e+06      1.109375e+06  1.109375e+06   \n",
       "mean   1.059117e-01  2.697053e-01      1.148840e-02  1.682632e-01   \n",
       "std    9.691305e-02  2.528607e-01      7.584283e-02  1.249962e-01   \n",
       "min    2.230000e-02  1.770000e-06      0.000000e+00  1.340000e-02   \n",
       "25%    4.100000e-02  5.470000e-02      0.000000e+00  9.270000e-02   \n",
       "50%    6.290000e-02  1.860000e-01      0.000000e+00  1.180000e-01   \n",
       "75%    1.330000e-01  4.180000e-01      5.220000e-05  2.030000e-01   \n",
       "max    9.660000e-01  9.950000e-01      9.900000e-01  9.900000e-01   \n",
       "\n",
       "            valence         tempo      duration  \n",
       "count  1.109375e+06  1.109375e+06  1.109375e+06  \n",
       "mean   5.346420e-01  1.219060e+02  2.050580e+05  \n",
       "std    2.263884e-01  2.981120e+01  5.015941e+04  \n",
       "min    1.000000e-05  3.126200e+01  3.013300e+04  \n",
       "25%    3.640000e-01  9.698300e+01  1.726270e+05  \n",
       "50%    5.370000e-01  1.199840e+02  1.997100e+05  \n",
       "75%    7.100000e-01  1.410200e+02  2.295650e+05  \n",
       "max    9.920000e-01  2.320180e+02  1.787030e+06  "
      ]
     },
     "execution_count": 120,
     "metadata": {},
     "output_type": "execute_result"
    }
   ],
   "source": [
    "spotify_df.describe()"
   ]
  },
  {
   "attachments": {},
   "cell_type": "markdown",
   "metadata": {},
   "source": [
    "**Các thể loại nhạc mà dataset đề cập**"
   ]
  },
  {
   "cell_type": "code",
   "execution_count": 121,
   "metadata": {},
   "outputs": [
    {
     "data": {
      "text/plain": [
       "['argentine hip hop',\n",
       " 'argentine indie',\n",
       " 'urbano chileno',\n",
       " 'pop argentino',\n",
       " 'pop',\n",
       " 'cuarteto',\n",
       " 'funk pop',\n",
       " 'latin',\n",
       " 'urbano espanol',\n",
       " '0',\n",
       " 'trap argentino',\n",
       " 'trap colombiano',\n",
       " 'trap latino',\n",
       " 'rap latina',\n",
       " 'cumbia 420',\n",
       " 'concurso de talentos argentino',\n",
       " 'r&b en espanol',\n",
       " 'latin pop',\n",
       " 'cumbia',\n",
       " 'argentine rock',\n",
       " 'rock en espanol',\n",
       " 'reggaeton',\n",
       " 'cumbia pop',\n",
       " 'dance pop',\n",
       " 'folklore argentino',\n",
       " 'gauze pop',\n",
       " 'trap triste',\n",
       " 'reggaeton colombiano',\n",
       " 'puerto rican pop',\n",
       " 'latin rock',\n",
       " 'rock uruguayo',\n",
       " 'latin alternative',\n",
       " 'permanent wave',\n",
       " 'canadian contemporary r&b',\n",
       " 'boy band',\n",
       " 'k-pop',\n",
       " 'australian hip hop',\n",
       " 'dutch pop',\n",
       " 'rock nacional',\n",
       " 'cumbia villera',\n",
       " 'rkt',\n",
       " 'glam rock',\n",
       " 'lgbtq+ hip hop',\n",
       " 'indie rock italiano',\n",
       " 'colombian pop',\n",
       " 'panamanian pop',\n",
       " 'k-pop boy group',\n",
       " 'modern alternative pop',\n",
       " 'uk pop',\n",
       " 'folclore salteno',\n",
       " 'argentine telepop',\n",
       " 'norwegian pop',\n",
       " 'trap venezolano',\n",
       " 'dominican pop',\n",
       " 'album rock',\n",
       " 'classic rock',\n",
       " 'latin hip hop',\n",
       " 'art rock',\n",
       " 'pop soul',\n",
       " 'folclore santiagueno',\n",
       " 'escape room',\n",
       " 'art pop',\n",
       " 'post-punk argentina',\n",
       " 'spanish pop',\n",
       " 'ska argentino',\n",
       " 'italian pop',\n",
       " 'alternative hip hop',\n",
       " 'canadian pop',\n",
       " 'bases de freestyle',\n",
       " 'veracruz indie',\n",
       " 'cantautor',\n",
       " 'pop venezolano',\n",
       " 'pop dance',\n",
       " 'australian pop',\n",
       " 'modern alternative rock',\n",
       " 'cumbia santafesina',\n",
       " 'edm',\n",
       " 'mexican pop',\n",
       " 'indietronica',\n",
       " 'electropop',\n",
       " 'latin metal',\n",
       " 'soft rock',\n",
       " 'post-teen pop',\n",
       " 'afro r&b',\n",
       " 'british soul',\n",
       " 'pop nacional',\n",
       " 'cumbia chilena',\n",
       " 'dutch edm',\n",
       " 'bolero',\n",
       " 'r&b argentino',\n",
       " 'mambo chileno',\n",
       " 'pagode baiano',\n",
       " 'argentine heavy metal',\n",
       " 'rock',\n",
       " 'trance',\n",
       " 'r&b',\n",
       " 'viral pop',\n",
       " 'electronica argentina',\n",
       " 'cubaton',\n",
       " 'latin arena pop',\n",
       " 'reggaeton flow',\n",
       " 'trap boricua',\n",
       " 'guaracha',\n",
       " 'modern rock',\n",
       " 'shimmer pop',\n",
       " 'new wave',\n",
       " 'funk carioca',\n",
       " 'tropical house',\n",
       " 'tropical',\n",
       " 'rap canario',\n",
       " 'bachata',\n",
       " 'big room',\n",
       " 'pop rap',\n",
       " 'rap conciencia',\n",
       " 'mellow gold',\n",
       " 'perreo',\n",
       " 'latin talent show',\n",
       " 'champeta',\n",
       " 'rap uruguayo',\n",
       " 'pop reggaeton',\n",
       " 'musica mexicana',\n",
       " 'piano rock',\n",
       " 'gruperas inmortales',\n",
       " 'dembow',\n",
       " 'cumbia paraguaya',\n",
       " 'slap house',\n",
       " 'rap dominicano',\n",
       " 'brostep',\n",
       " 'house',\n",
       " 'nu-cumbia',\n",
       " 'latin viral pop',\n",
       " 'trap dominicano',\n",
       " 'cali rap',\n",
       " 'francoton',\n",
       " 'vallenato',\n",
       " 'bachata dominicana',\n",
       " 'rap underground argentino',\n",
       " 'nueva musica mexicana',\n",
       " 'mexican hip hop',\n",
       " 'trap chileno',\n",
       " 'chicago rap',\n",
       " 'hip hop',\n",
       " 'brooklyn drill',\n",
       " 'dfw rap',\n",
       " 'folk-pop',\n",
       " 'australian indie rock',\n",
       " 'nyc rap',\n",
       " 'indie surf',\n",
       " 'emo rap',\n",
       " 'pop rock',\n",
       " 'melodic rap',\n",
       " 'country',\n",
       " 'australian psych',\n",
       " 'aussie drill',\n",
       " 'detroit hip hop',\n",
       " 'indie folk',\n",
       " 'drill brasileiro',\n",
       " 'indie pop',\n",
       " 'dance rock',\n",
       " 'uk hip hop',\n",
       " 'conscious hip hop',\n",
       " 'urban contemporary',\n",
       " 'australian rock',\n",
       " 'comic',\n",
       " 'deep tropical house',\n",
       " 'rap',\n",
       " 'surf punk',\n",
       " 'russian plugg',\n",
       " 'grunge',\n",
       " 'indie poptimism',\n",
       " 'neo soul',\n",
       " 'britpop',\n",
       " 'neo mellow',\n",
       " 'toronto rap',\n",
       " 'canadian hip hop',\n",
       " 'trap queen',\n",
       " 'north carolina hip hop',\n",
       " 'gen z singer-songwriter',\n",
       " 'uk reggae',\n",
       " 'j-division',\n",
       " 'yacht rock',\n",
       " 'hard rock',\n",
       " 'miami hip hop',\n",
       " 'alt z',\n",
       " 'oklahoma country',\n",
       " 'british alternative rock',\n",
       " 'shiver pop',\n",
       " 'fremantle indie',\n",
       " 'beatlesque',\n",
       " 'neo-psychedelic',\n",
       " 'australian alternative rock',\n",
       " 'modern indie pop',\n",
       " 'chill drill',\n",
       " 'country road',\n",
       " 'chicago indie',\n",
       " 'trap',\n",
       " 'queens hip hop',\n",
       " 'la indie',\n",
       " 'high vibe',\n",
       " 'hyperpop',\n",
       " 'australian reggae fusion',\n",
       " 'garage rock',\n",
       " 'talent show',\n",
       " 'bedroom pop',\n",
       " 'alternative rock',\n",
       " 'roots rock',\n",
       " 'deep underground hip hop',\n",
       " 'chill pop',\n",
       " 'classic canadian rock',\n",
       " 'irish singer-songwriter',\n",
       " 'gangster rap',\n",
       " 'afrofuturism',\n",
       " 'australian house',\n",
       " 'australian electropop',\n",
       " 'modern country rock',\n",
       " 'perth indie',\n",
       " 'australian trap',\n",
       " 'hardcore hip hop',\n",
       " 'canadian singer-songwriter',\n",
       " 'contemporary country',\n",
       " 'electro house',\n",
       " 'acoustic pop',\n",
       " 'neo-singer-songwriter',\n",
       " 'pittsburgh rap',\n",
       " 'folk',\n",
       " 'alternative pop rock',\n",
       " 'minnesota hip hop',\n",
       " 'east coast hip hop',\n",
       " 'dreamo',\n",
       " 'bubblegum pop',\n",
       " 'madchester',\n",
       " 'aussietronica',\n",
       " 'atl hip hop',\n",
       " 'australian alternative pop',\n",
       " 'kentucky hip hop',\n",
       " 'underground hip hop',\n",
       " 'singer-songwriter',\n",
       " 'funk rock',\n",
       " 'florida rap',\n",
       " 'southern hip hop',\n",
       " 'korean ost',\n",
       " 'neo-synthpop',\n",
       " 'houston rap',\n",
       " 'australian talent show',\n",
       " 'old school thrash',\n",
       " 'glam metal',\n",
       " 'heartland rock',\n",
       " 'stomp and holler',\n",
       " 'quiet storm',\n",
       " 'vapor trap',\n",
       " 'rhode island rap',\n",
       " 'australian indie',\n",
       " 'adult standards',\n",
       " 'north east england indie',\n",
       " 'classic girl group',\n",
       " 'australian dance',\n",
       " 'folk rock',\n",
       " 'rockabilly',\n",
       " 'jazz pop',\n",
       " 'brill building pop',\n",
       " 'musical advocacy',\n",
       " 'orlando indie',\n",
       " 'soul',\n",
       " 'lounge',\n",
       " 'blues rock',\n",
       " 'boston indie',\n",
       " 'alternative dance',\n",
       " 'emo',\n",
       " 'social media pop',\n",
       " 'dream smp',\n",
       " 'disco',\n",
       " 'sophisti-pop',\n",
       " 'west coast rap',\n",
       " 'new wave pop',\n",
       " 'funk metal',\n",
       " 'girl group',\n",
       " 'pluggnb',\n",
       " 'dark trap',\n",
       " 'chill r&b',\n",
       " 'pop r&b',\n",
       " 'pop punk',\n",
       " 'swedish pop',\n",
       " 'europop',\n",
       " 'sheffield indie',\n",
       " 'vegas indie',\n",
       " 'rap conscient',\n",
       " 'viral rap',\n",
       " 'etherpop',\n",
       " \"australian children's music\",\n",
       " 'rock-and-roll',\n",
       " 'vocal jazz',\n",
       " 'uk drill',\n",
       " 'synthpop',\n",
       " 'classic uk pop',\n",
       " 'motown',\n",
       " 'easy listening',\n",
       " 'christian alternative rock',\n",
       " 'outlaw country',\n",
       " 'irish rock',\n",
       " 'nz pop',\n",
       " 'indie r&b',\n",
       " 'post-grunge',\n",
       " 'new york drill',\n",
       " 'ohio hip hop',\n",
       " 'bubblegrunge',\n",
       " 'country rock',\n",
       " 'k-pop girl group',\n",
       " 'london rap',\n",
       " 'plugg',\n",
       " 'sad rap',\n",
       " 'german techno',\n",
       " 'uk dance',\n",
       " 'canadian latin',\n",
       " 'seattle hip hop',\n",
       " 'pop house',\n",
       " 'scandipop',\n",
       " 'destroy techno',\n",
       " 'dark clubbing',\n",
       " 'g funk',\n",
       " 'australian country',\n",
       " 'german dance',\n",
       " 'german singer-songwriter',\n",
       " 'hip pop',\n",
       " 'downtempo',\n",
       " 'pop edm',\n",
       " 'german trance',\n",
       " 'uk house',\n",
       " 'contemporary r&b',\n",
       " 'uk melodic rap',\n",
       " 'manchester hip hop',\n",
       " 'belgian edm',\n",
       " 'chicago drill',\n",
       " 'ghanaian pop',\n",
       " 'progressive electro house',\n",
       " 'australian indigenous',\n",
       " 'deep groove house',\n",
       " 'dirty south rap',\n",
       " 'hawaiian hip hop',\n",
       " 'show tunes',\n",
       " 'cologne indie',\n",
       " 'south carolina hip hop',\n",
       " 'hollywood',\n",
       " 'celtic rock',\n",
       " 'electro',\n",
       " 'nigerian hip hop',\n",
       " 'ghanaian alternative',\n",
       " 'atl trap',\n",
       " 'drill',\n",
       " 'new romantic',\n",
       " 'german hip hop',\n",
       " 'a cappella',\n",
       " 'christian music',\n",
       " \"children's music\",\n",
       " 'austrian pop',\n",
       " 'german pop',\n",
       " 'volkspop',\n",
       " 'german trap',\n",
       " 'classic schlager',\n",
       " 'german cloud rap',\n",
       " 'antideutsche',\n",
       " 'reggae fusion',\n",
       " 'electronic trap',\n",
       " 'turbo folk',\n",
       " 'lithuanian electronic',\n",
       " 'nu metal',\n",
       " 'german drill',\n",
       " 'ukrainian pop',\n",
       " 'industrial rock',\n",
       " 'industrial metal',\n",
       " 'german metal',\n",
       " 'graz indie',\n",
       " 'french hip hop',\n",
       " 'partyschlager',\n",
       " 'german indie folk',\n",
       " 'drift phonk',\n",
       " 'neue deutsche harte',\n",
       " 'austropop',\n",
       " 'german alternative rap',\n",
       " 'frauenrap',\n",
       " 'pop urbaine',\n",
       " 'deep disco',\n",
       " 'alternative metal',\n",
       " 'eurovision',\n",
       " 'albanian hip hop',\n",
       " 'deep german hip hop',\n",
       " 'german viral rap',\n",
       " 'hamburg hip hop',\n",
       " 'israeli pop',\n",
       " 'german underground rap',\n",
       " 'covertronica',\n",
       " 'rap metal',\n",
       " 'industrial',\n",
       " 'eurodance',\n",
       " 'metropopolis',\n",
       " 'american folk revival',\n",
       " 'kindermusik',\n",
       " 'hi-nrg',\n",
       " 'deep house',\n",
       " 'albanian pop',\n",
       " 'corridos tumbados',\n",
       " 'melbourne bounce international',\n",
       " 'turkish trap',\n",
       " 'german r&b',\n",
       " 'slovenian pop',\n",
       " 'balkan hip hop',\n",
       " 'christlicher rap',\n",
       " 'psychedelic hip hop',\n",
       " 'irish pop',\n",
       " 'belgian pop',\n",
       " 'scottish singer-songwriter',\n",
       " 'reggae rock',\n",
       " 'weirdcore',\n",
       " 'german indie',\n",
       " 'indie hip hop',\n",
       " 'world',\n",
       " 'cincinnati rap',\n",
       " 'british singer-songwriter',\n",
       " 'vienna indie',\n",
       " 'russian dance',\n",
       " 'german rock',\n",
       " 'hands up',\n",
       " 'afghan rap',\n",
       " 'indie anthem-folk',\n",
       " 'uk alternative pop',\n",
       " 'modern reggae',\n",
       " 'progressive house',\n",
       " 'rap rock',\n",
       " 'swedish hip hop',\n",
       " 'oulu metal',\n",
       " 'icelandic pop',\n",
       " 'junior eurovision',\n",
       " 'melodic metalcore',\n",
       " 'metalcore',\n",
       " 'punk',\n",
       " 'post-romantic era',\n",
       " 'tekk',\n",
       " 'melanesian pop',\n",
       " 'south african house',\n",
       " 'brazilian edm',\n",
       " 'sad lo-fi',\n",
       " 'afroswing',\n",
       " 'filter house',\n",
       " 'png pop',\n",
       " 'kosovan pop',\n",
       " 'lo-fi product',\n",
       " 'romanian pop',\n",
       " 'swedish trap pop',\n",
       " 'kurdish hip hop',\n",
       " 'deep euro house',\n",
       " 'afro dancehall',\n",
       " 'detske pisnicky',\n",
       " 'italo dance',\n",
       " 'pacific islands pop',\n",
       " 'aesthetic rap',\n",
       " 'bass house',\n",
       " 'schlager',\n",
       " 'melbourne bounce',\n",
       " 'turkish trap pop',\n",
       " 'german reggae',\n",
       " 'balkan trap',\n",
       " 'bayerischer rap',\n",
       " 'turkish hip hop',\n",
       " 'bolobedu house',\n",
       " 'trancecore',\n",
       " 'german hyperpop',\n",
       " 'rap marseille',\n",
       " 'german pop rock',\n",
       " 'irish folk',\n",
       " 'basshall',\n",
       " 'dancehall',\n",
       " 'indie pop rap',\n",
       " 'russian trap',\n",
       " 'russian hyperpop',\n",
       " 'russian hip hop',\n",
       " 'k-rap',\n",
       " 'baroque pop',\n",
       " 'russian drain',\n",
       " 'ukrainian viral pop',\n",
       " 'russian emo rap',\n",
       " 'russian folk rock',\n",
       " 'russian pop',\n",
       " 'russian alt pop',\n",
       " 'ukrainian rock',\n",
       " 'russian post-punk',\n",
       " 'russian punk rock',\n",
       " 'belarusian hip hop',\n",
       " 'kazakh hip hop',\n",
       " 'russian indie',\n",
       " 'zxc',\n",
       " 'russian rock',\n",
       " 'russian electronic',\n",
       " 'russian drill',\n",
       " 'classic russian rock',\n",
       " 'kavkaz',\n",
       " 'russian gangster rap',\n",
       " 'zhenskiy rep',\n",
       " 'tatar pop',\n",
       " 'russian indie rock',\n",
       " 'horror punk',\n",
       " 'russian pop punk',\n",
       " 'ukrainian hip hop',\n",
       " 'russian viral pop',\n",
       " 'russian dance pop',\n",
       " 'central asian hip hop',\n",
       " 'russian punk',\n",
       " 'brisbane indie',\n",
       " 'russian grime',\n",
       " 'otacore',\n",
       " 'polish viral rap',\n",
       " 'russian viral rap',\n",
       " 'russian underground rap',\n",
       " 'fnaf',\n",
       " 'russian metal',\n",
       " 'kazakh pop',\n",
       " 'russian ska',\n",
       " 'ukrainian folk rock',\n",
       " 'belarusian pop',\n",
       " 'estonian hip hop',\n",
       " 'uzbek pop',\n",
       " 'new school turkce rap',\n",
       " 'korean old school hip hop',\n",
       " 'kleinkunst',\n",
       " 'nederlandse hardstyle',\n",
       " 'drill francais',\n",
       " 'dutch hip hop',\n",
       " 'g-house',\n",
       " 'old school rap francais',\n",
       " 'dutch rap pop',\n",
       " 'belgian hip hop',\n",
       " 'rap francais',\n",
       " 'variete francaise',\n",
       " 'vlaamse kinderliedje',\n",
       " 'dutch rock',\n",
       " 'musica portuguesa contemporanea',\n",
       " 'nigerian pop',\n",
       " 'rap belge',\n",
       " 'french pop',\n",
       " 'nouvelle chanson francaise',\n",
       " 'hip house',\n",
       " 'norwegian hip hop',\n",
       " 'electro-pop francais',\n",
       " 'belgian indie',\n",
       " 'dutch musical',\n",
       " 'trip hop',\n",
       " 'french indie pop',\n",
       " 'rap algerien',\n",
       " 'ghent indie',\n",
       " 'belgian rock',\n",
       " 'electronica',\n",
       " 'greek pop',\n",
       " 'sunnlensk tonlist',\n",
       " 'new french touch',\n",
       " 'thrash metal',\n",
       " 'classic belgian pop',\n",
       " 'metal',\n",
       " 'russian synthpop',\n",
       " 'belgian dance',\n",
       " 'vlaamse rap',\n",
       " 'dutch house',\n",
       " 'dutch r&b',\n",
       " 'dutch cabaret',\n",
       " 'smooth jazz',\n",
       " 'neo-classical',\n",
       " 'chanson',\n",
       " 'barbadian pop',\n",
       " 'canadian old school hip hop',\n",
       " 'liquid funk',\n",
       " 'rap calme',\n",
       " 'afropop',\n",
       " 'dancefloor dnb',\n",
       " 'moombahton',\n",
       " 'french rock',\n",
       " 'dutch trance',\n",
       " 'drum and bass',\n",
       " 'mariachi',\n",
       " 'indie triste',\n",
       " 'mexican indie',\n",
       " 'ranchera',\n",
       " 'cumbia boliviana',\n",
       " 'chihuahua indie',\n",
       " 'venezuelan hip hop',\n",
       " 'spanish hip hop',\n",
       " 'trap peruano',\n",
       " 'monterrey indie',\n",
       " 'austindie',\n",
       " 'pop electronico',\n",
       " 'electro latino',\n",
       " 'piseiro',\n",
       " 'salsa',\n",
       " 'batidao romantico',\n",
       " 'sierreno',\n",
       " 'arrocha',\n",
       " 'corrido',\n",
       " 'disney',\n",
       " 'brega romantico',\n",
       " 'alternative r&b',\n",
       " 'reggaeton mexicano',\n",
       " 'gypsy jazz',\n",
       " 'pop teen brasileiro',\n",
       " 'musica popular colombiana',\n",
       " 'forro',\n",
       " 'sertanejo pop',\n",
       " 'sertanejo',\n",
       " 'funk paulista',\n",
       " 'sertanejo universitario',\n",
       " 'rap df',\n",
       " 'forro de favela',\n",
       " 'trap brasileiro',\n",
       " 'pagode novo',\n",
       " 'pagode',\n",
       " 'rave funk',\n",
       " 'funk mtg',\n",
       " 'r&b brasileiro',\n",
       " 'brazilian rock',\n",
       " 'rap cearense',\n",
       " 'trap baiano',\n",
       " 'brazilian gospel',\n",
       " 'arrochadeira',\n",
       " 'pop rap brasileiro',\n",
       " 'pop lgbtq+ brasileira',\n",
       " 'funk viral',\n",
       " 'funk bh',\n",
       " 'funk ostentacao',\n",
       " 'nerdcore brasileiro',\n",
       " 'nova mpb',\n",
       " 'indie curitibano',\n",
       " 'trap funk',\n",
       " 'rap baiano',\n",
       " 'funk consciente',\n",
       " 'mpb',\n",
       " 'funk 150 bpm',\n",
       " 'brazilian hip hop',\n",
       " 'musica triste brasileira',\n",
       " 'funk mandelao',\n",
       " 'afrofuturismo brasileiro',\n",
       " 'musica paraibana',\n",
       " 'rock brasiliense',\n",
       " 'trap carioca',\n",
       " 'rap baixada fluminense',\n",
       " 'brega funk',\n",
       " 'rap mineiro',\n",
       " 'funk capixaba',\n",
       " 'trap pesado',\n",
       " 'funk das antigas',\n",
       " 'indie soul',\n",
       " 'adoracao',\n",
       " 'axe',\n",
       " 'rap feminino nacional',\n",
       " 'belo horizonte indie',\n",
       " 'irish hip hop',\n",
       " 'folk brasileiro',\n",
       " 'bulgarian pop',\n",
       " 'macedonian folk',\n",
       " 'bulgarian trap',\n",
       " 'chalga',\n",
       " 'bulgarian hip hop',\n",
       " 'glitchcore',\n",
       " 'vancouver indie',\n",
       " 'japanese screamo',\n",
       " 'memphis hip hop',\n",
       " 'trap soul',\n",
       " 'indie garage rock',\n",
       " 'bulgarian r&b',\n",
       " 'sped up',\n",
       " 'brooklyn indie',\n",
       " 'japanese metalcore',\n",
       " 'swedish metal',\n",
       " 'uk metalcore',\n",
       " 'philly rap',\n",
       " 'laiko',\n",
       " 'dream pop',\n",
       " 'new orleans rap',\n",
       " 'turkish deep house',\n",
       " 'bulgarian rock',\n",
       " 'dancehall queen',\n",
       " 'canadian trap',\n",
       " 'power metal',\n",
       " 'kansas city hip hop',\n",
       " 'baton rouge rap',\n",
       " 'macedonian hip hop',\n",
       " 'turkish edm',\n",
       " 'instrumental grime',\n",
       " 'jamaican dancehall',\n",
       " 'croatian pop',\n",
       " 'visual kei',\n",
       " 'boston hip hop',\n",
       " 'speedrun',\n",
       " 'southern rock',\n",
       " 'rap montrealais',\n",
       " 'pop quebecois',\n",
       " 'indie quebecois',\n",
       " 'psychedelic rock',\n",
       " 'jazz trio',\n",
       " 'swing',\n",
       " 'traditional country',\n",
       " 'novelty',\n",
       " 'black americana',\n",
       " 'torch song',\n",
       " 'cowboy western',\n",
       " 'classic soul',\n",
       " 'desi hip hop',\n",
       " 'country pop',\n",
       " 'virginia hip hop',\n",
       " 'alabama rap',\n",
       " 'bedroom soul',\n",
       " 'swamp rock',\n",
       " 'desi pop',\n",
       " 'modern dream pop',\n",
       " 'texas country',\n",
       " 'chicago bop',\n",
       " 'chicago soul',\n",
       " 'candy pop',\n",
       " 'jazz funk',\n",
       " 'modern blues rock',\n",
       " 'tennessee hip hop',\n",
       " 'ukrainian classical',\n",
       " 'celtic punk',\n",
       " 'st louis rap',\n",
       " 'hip hop quebecois',\n",
       " 'dmv rap',\n",
       " 'azonto',\n",
       " 'bronx drill',\n",
       " 'detroit trap',\n",
       " 'eau claire indie',\n",
       " 'punjabi hip hop',\n",
       " 'reggaeton chileno',\n",
       " 'emo trap en espanol',\n",
       " 'rap chileno',\n",
       " 'cueca chilena',\n",
       " 'folklore chileno',\n",
       " 'nueva cancion',\n",
       " 'cumbia ranchera',\n",
       " 'chilean rock',\n",
       " 'drill chileno',\n",
       " 'rap boricua',\n",
       " 'pop chileno',\n",
       " 'neoperreo',\n",
       " 'chilean hardcore',\n",
       " 'flamenco urbano',\n",
       " 'reggae en espanol',\n",
       " 'salsa colombiana',\n",
       " 'salsa venezolana',\n",
       " 'salsa international',\n",
       " 'vallenato moderno',\n",
       " 'spanish rock',\n",
       " 'salsa puertorriquena',\n",
       " 'banda',\n",
       " 'modern salsa',\n",
       " 'colombian rock',\n",
       " 'colombian hip hop',\n",
       " 'classic colombian pop',\n",
       " 'musica llanera',\n",
       " 'pop costarricense',\n",
       " 'azontobeats',\n",
       " 'argentine reggae',\n",
       " 'roots reggae',\n",
       " 'shatta',\n",
       " 'reggae tico',\n",
       " 'mexican rock',\n",
       " 'ritmo kombina',\n",
       " 'turkce kadin rap',\n",
       " 'greek drill',\n",
       " 'turkce drill',\n",
       " 'greek trap',\n",
       " 'turkish singer-songwriter',\n",
       " 'turkish alt pop',\n",
       " 'turkce slow sarkilar',\n",
       " 'greek hip hop',\n",
       " 'turkish pop',\n",
       " 'turkish alternative rock',\n",
       " 'turkish rock',\n",
       " 'arabesk',\n",
       " 'anadolu rock',\n",
       " 'classic greek pop',\n",
       " 'cypriot pop',\n",
       " 'lithuanian rock',\n",
       " 'turkish alternative',\n",
       " 'turkish modern jazz',\n",
       " 'oyun havasi',\n",
       " 'karadeniz turkuleri',\n",
       " 'parody',\n",
       " 'persian hip hop',\n",
       " 'greek underground rap',\n",
       " 'karadeniz pop',\n",
       " 'czech hip hop',\n",
       " 'czech metal',\n",
       " 'czech pop',\n",
       " 'czsk hip hop',\n",
       " 'czech pop rock',\n",
       " 'czech rock',\n",
       " 'czech folk',\n",
       " 'classic czech pop',\n",
       " 'czsk viral pop',\n",
       " 'slovak pop',\n",
       " 'slovak rock',\n",
       " 'czsk emo rap',\n",
       " 'czech punk',\n",
       " 'czsk reggae',\n",
       " 'slovak punk',\n",
       " 'slovak hip hop',\n",
       " 'polish pop',\n",
       " 'grime',\n",
       " 'comedy rap',\n",
       " 'british indie rock',\n",
       " 'mississippi hip hop',\n",
       " 'slovak trap',\n",
       " 'soundtrack',\n",
       " 'uk funky',\n",
       " 'danish hip hop',\n",
       " 'danish pop',\n",
       " 'danish rock',\n",
       " 'danish pop rock',\n",
       " 'classic danish pop',\n",
       " 'danish post-punk',\n",
       " 'scandinavian r&b',\n",
       " 'dakke dak',\n",
       " 'danish alternative rock',\n",
       " 'dansktop',\n",
       " 'danish electropop',\n",
       " 'danish indie pop',\n",
       " 'swedish idol pop',\n",
       " 'danish singer-songwriter',\n",
       " 'mgp',\n",
       " 'danish electronic',\n",
       " 'classic danish rock',\n",
       " 'norwegian pop rap',\n",
       " 'norwegian trap',\n",
       " 'bornesange',\n",
       " 'psychedelic trance',\n",
       " 'bubblegum dance',\n",
       " 'greenlandic pop',\n",
       " 'complextro',\n",
       " 'swedish trap',\n",
       " 'danish metal',\n",
       " 'swedish drill',\n",
       " 'russelater',\n",
       " 'merengue',\n",
       " 'drill espanol',\n",
       " 'ecuadorian pop',\n",
       " 'egyptian alternative',\n",
       " 'egyptian trap',\n",
       " 'egyptian hip hop',\n",
       " 'persian pop',\n",
       " 'egyptian pop',\n",
       " 'mahraganat',\n",
       " 'arab pop',\n",
       " 'jordanian pop',\n",
       " 'shaabi',\n",
       " 'rif',\n",
       " 'belly dance',\n",
       " 'indonesian viral pop',\n",
       " 'khaliji',\n",
       " 'arab alternative',\n",
       " 'palestinian pop',\n",
       " 'arabic hip hop',\n",
       " 'middle east hip hop',\n",
       " 'ambient pop',\n",
       " 'moroccan pop',\n",
       " 'iraqi hip hop',\n",
       " 'el paso indie',\n",
       " 'classic arab pop',\n",
       " 'libyan pop',\n",
       " 'syrian pop',\n",
       " 'lebanese pop',\n",
       " 'palestinian hip hop',\n",
       " 'sudanese hip hop',\n",
       " 'khaleeji iraqi',\n",
       " 'dark pop',\n",
       " 'video game music',\n",
       " 'indie electropop',\n",
       " 'tamaulipas rap',\n",
       " 'norteno',\n",
       " 'cumbia sonidera',\n",
       " 'narco rap',\n",
       " 'cumbia salvadorena',\n",
       " 'chicha',\n",
       " 'estonian pop',\n",
       " 'estonian rock',\n",
       " 'noise pop',\n",
       " 'lastelaulud',\n",
       " 'dark synthpop',\n",
       " 'nottingham hip hop',\n",
       " 'hyperpop en espanol',\n",
       " 'lithuanian indie',\n",
       " 'finnish alternative rock',\n",
       " 'swiss singer-songwriter',\n",
       " 'latvian pop',\n",
       " 'sigilkore',\n",
       " 'estonian indie',\n",
       " 'transpop',\n",
       " 'lithuanian pop',\n",
       " 'baltimore indie',\n",
       " 'chamber pop',\n",
       " 'indie rock',\n",
       " 'estonian electronic',\n",
       " 'shoegaze',\n",
       " 'russian rave',\n",
       " 'ambient house',\n",
       " 'pink noise',\n",
       " 'portuguese rock',\n",
       " 'gaming edm',\n",
       " 'uk dnb',\n",
       " 'ninja',\n",
       " 'estonian folk',\n",
       " 'hard bass',\n",
       " 'baltic folk',\n",
       " 'finnish pop',\n",
       " 'finnish dance pop',\n",
       " 'finnish hip hop',\n",
       " 'iskelma',\n",
       " 'suomi rock',\n",
       " 'finnish drill',\n",
       " 'suomirap',\n",
       " 'finnish trap',\n",
       " 'finnish indie',\n",
       " 'classic finnish rock',\n",
       " 'classic iskelma',\n",
       " 'finnish metal',\n",
       " 'finnish progressive metal',\n",
       " 'finnish punk',\n",
       " 'finnish heavy metal',\n",
       " 'finnish reggae',\n",
       " 'finnish power metal',\n",
       " 'laulaja-lauluntekija',\n",
       " 'melodic metal',\n",
       " 'finnish idol pop',\n",
       " 'classic finnish pop',\n",
       " 'finnish soul',\n",
       " 'musiikkia lapsille',\n",
       " 'finnish new wave',\n",
       " 'finnish pop punk',\n",
       " 'melodic death metal',\n",
       " 'finnish melodeath',\n",
       " 'progressive doom',\n",
       " 'moldovan pop',\n",
       " 'nwobhm',\n",
       " 'groove metal',\n",
       " 'finnish hard rock',\n",
       " 'romanian house',\n",
       " 'impressionism',\n",
       " 'hengelliset laulut',\n",
       " 'finnish post-punk',\n",
       " 'french indietronica',\n",
       " 'rap lyonnais',\n",
       " 'dark disco',\n",
       " 'rap antillais',\n",
       " 'chanson virale',\n",
       " 'zouk riddim',\n",
       " 'french synthpop',\n",
       " 'trap antillais',\n",
       " 'vocal house',\n",
       " 'rap tunisien',\n",
       " 'uk contemporary r&b',\n",
       " 'deep rai',\n",
       " 'rap maroc',\n",
       " 'nordic house',\n",
       " 'lithuanian edm',\n",
       " 'rap francais nouvelle vague',\n",
       " 'hoerspiel',\n",
       " 'kolsche karneval',\n",
       " 'oktoberfest',\n",
       " 'comic metal',\n",
       " 'tvog',\n",
       " 'kleine hoerspiel',\n",
       " 'lo-fi chill',\n",
       " 'german metalcore',\n",
       " 'swedish electropop',\n",
       " 'folk punk',\n",
       " 'oakland hip hop',\n",
       " 'indonesian pop',\n",
       " 'la pop',\n",
       " 'nyc pop',\n",
       " 'indonesian r&b',\n",
       " 'indie rockism',\n",
       " 'indonesian singer-songwriter',\n",
       " 'portland hip hop',\n",
       " 'indonesian jazz',\n",
       " 'yodeling',\n",
       " 'country rap',\n",
       " 'movie tunes',\n",
       " 'new rave',\n",
       " 'viral trap',\n",
       " 'funk',\n",
       " 'pop emo',\n",
       " 'indie siciliano',\n",
       " 'anime',\n",
       " 'italian hip hop',\n",
       " 'deep talent show',\n",
       " 'memphis soul',\n",
       " 'future bass',\n",
       " 'meme rap',\n",
       " 'norwegian indie',\n",
       " 'trap italiana',\n",
       " 'puerto rican folk',\n",
       " 'gqom',\n",
       " 'swedish tropical house',\n",
       " 'punjabi pop',\n",
       " 'chicano rap',\n",
       " 'modern bollywood',\n",
       " 'chicago house',\n",
       " ...]"
      ]
     },
     "execution_count": 121,
     "metadata": {},
     "output_type": "execute_result"
    }
   ],
   "source": [
    "list(spotify_df.artist_genre.unique())"
   ]
  },
  {
   "cell_type": "markdown",
   "metadata": {},
   "source": [
    "**Ta thấy có rất nhiều thể loại nhạc (1626 thể loại)**\n",
    "- Tại sao lại có thể loại nhạc là 0, nghĩa là không có thể loại nhạc (không có thông tin) hay lý do gì khác? Các giá trị này đến từ đâu?"
   ]
  },
  {
   "cell_type": "code",
   "execution_count": 122,
   "metadata": {},
   "outputs": [
    {
     "data": {
      "text/html": [
       "<div>\n",
       "<style scoped>\n",
       "    .dataframe tbody tr th:only-of-type {\n",
       "        vertical-align: middle;\n",
       "    }\n",
       "\n",
       "    .dataframe tbody tr th {\n",
       "        vertical-align: top;\n",
       "    }\n",
       "\n",
       "    .dataframe thead th {\n",
       "        text-align: right;\n",
       "    }\n",
       "</style>\n",
       "<table border=\"1\" class=\"dataframe\">\n",
       "  <thead>\n",
       "    <tr style=\"text-align: right;\">\n",
       "      <th></th>\n",
       "      <th>uri</th>\n",
       "      <th>rank</th>\n",
       "      <th>artist_names</th>\n",
       "      <th>artists_num</th>\n",
       "      <th>artist_individual</th>\n",
       "      <th>artist_id</th>\n",
       "      <th>artist_genre</th>\n",
       "      <th>artist_img</th>\n",
       "      <th>track_name</th>\n",
       "      <th>release_date</th>\n",
       "      <th>...</th>\n",
       "      <th>acousticness</th>\n",
       "      <th>instrumentalness</th>\n",
       "      <th>liveness</th>\n",
       "      <th>valence</th>\n",
       "      <th>tempo</th>\n",
       "      <th>duration</th>\n",
       "      <th>country</th>\n",
       "      <th>region</th>\n",
       "      <th>language</th>\n",
       "      <th>pivot</th>\n",
       "    </tr>\n",
       "  </thead>\n",
       "  <tbody>\n",
       "    <tr>\n",
       "      <th>18</th>\n",
       "      <td>spotify:track:1fKFxmSByZfjwVSbq0PHye</td>\n",
       "      <td>40</td>\n",
       "      <td>Ke Personajes</td>\n",
       "      <td>1</td>\n",
       "      <td>Ke Personajes</td>\n",
       "      <td>spotify:artist:06Q5VlSAku57lFzyME3HrM</td>\n",
       "      <td>0</td>\n",
       "      <td>https://i.scdn.co/image/ab6761610000e5eb062db0...</td>\n",
       "      <td>Si No Te Tengo / Ángel / Aquello Que Pasó</td>\n",
       "      <td>2021-08-17</td>\n",
       "      <td>...</td>\n",
       "      <td>0.0513</td>\n",
       "      <td>0.000000</td>\n",
       "      <td>0.2430</td>\n",
       "      <td>0.529</td>\n",
       "      <td>82.180</td>\n",
       "      <td>428439.0</td>\n",
       "      <td>Argentina</td>\n",
       "      <td>South America</td>\n",
       "      <td>Spanish</td>\n",
       "      <td>0</td>\n",
       "    </tr>\n",
       "    <tr>\n",
       "      <th>52</th>\n",
       "      <td>spotify:track:6bLvfGI2XeU5DTl8feuNrk</td>\n",
       "      <td>135</td>\n",
       "      <td>Ke Personajes</td>\n",
       "      <td>1</td>\n",
       "      <td>Ke Personajes</td>\n",
       "      <td>spotify:artist:06Q5VlSAku57lFzyME3HrM</td>\n",
       "      <td>0</td>\n",
       "      <td>https://i.scdn.co/image/ab6761610000e5eb062db0...</td>\n",
       "      <td>Cómo estás</td>\n",
       "      <td>2019-04-17</td>\n",
       "      <td>...</td>\n",
       "      <td>0.2890</td>\n",
       "      <td>0.000004</td>\n",
       "      <td>0.0414</td>\n",
       "      <td>0.976</td>\n",
       "      <td>135.290</td>\n",
       "      <td>227396.0</td>\n",
       "      <td>Argentina</td>\n",
       "      <td>South America</td>\n",
       "      <td>Spanish</td>\n",
       "      <td>0</td>\n",
       "    </tr>\n",
       "    <tr>\n",
       "      <th>108</th>\n",
       "      <td>spotify:track:1fKFxmSByZfjwVSbq0PHye</td>\n",
       "      <td>45</td>\n",
       "      <td>Ke Personajes</td>\n",
       "      <td>1</td>\n",
       "      <td>Ke Personajes</td>\n",
       "      <td>spotify:artist:06Q5VlSAku57lFzyME3HrM</td>\n",
       "      <td>0</td>\n",
       "      <td>https://i.scdn.co/image/ab6761610000e5eb062db0...</td>\n",
       "      <td>Si No Te Tengo / Ángel / Aquello Que Pasó</td>\n",
       "      <td>2021-08-17</td>\n",
       "      <td>...</td>\n",
       "      <td>0.0513</td>\n",
       "      <td>0.000000</td>\n",
       "      <td>0.2430</td>\n",
       "      <td>0.529</td>\n",
       "      <td>82.180</td>\n",
       "      <td>428439.0</td>\n",
       "      <td>Argentina</td>\n",
       "      <td>South America</td>\n",
       "      <td>Spanish</td>\n",
       "      <td>0</td>\n",
       "    </tr>\n",
       "    <tr>\n",
       "      <th>154</th>\n",
       "      <td>spotify:track:6bLvfGI2XeU5DTl8feuNrk</td>\n",
       "      <td>161</td>\n",
       "      <td>Ke Personajes</td>\n",
       "      <td>1</td>\n",
       "      <td>Ke Personajes</td>\n",
       "      <td>spotify:artist:06Q5VlSAku57lFzyME3HrM</td>\n",
       "      <td>0</td>\n",
       "      <td>https://i.scdn.co/image/ab6761610000e5eb062db0...</td>\n",
       "      <td>Cómo estás</td>\n",
       "      <td>2019-04-17</td>\n",
       "      <td>...</td>\n",
       "      <td>0.2890</td>\n",
       "      <td>0.000004</td>\n",
       "      <td>0.0414</td>\n",
       "      <td>0.976</td>\n",
       "      <td>135.290</td>\n",
       "      <td>227396.0</td>\n",
       "      <td>Argentina</td>\n",
       "      <td>South America</td>\n",
       "      <td>Spanish</td>\n",
       "      <td>0</td>\n",
       "    </tr>\n",
       "    <tr>\n",
       "      <th>207</th>\n",
       "      <td>spotify:track:6bLvfGI2XeU5DTl8feuNrk</td>\n",
       "      <td>94</td>\n",
       "      <td>Ke Personajes</td>\n",
       "      <td>1</td>\n",
       "      <td>Ke Personajes</td>\n",
       "      <td>spotify:artist:06Q5VlSAku57lFzyME3HrM</td>\n",
       "      <td>0</td>\n",
       "      <td>https://i.scdn.co/image/ab6761610000e5eb062db0...</td>\n",
       "      <td>Cómo estás</td>\n",
       "      <td>2019-04-17</td>\n",
       "      <td>...</td>\n",
       "      <td>0.2890</td>\n",
       "      <td>0.000004</td>\n",
       "      <td>0.0414</td>\n",
       "      <td>0.976</td>\n",
       "      <td>135.290</td>\n",
       "      <td>227396.0</td>\n",
       "      <td>Argentina</td>\n",
       "      <td>South America</td>\n",
       "      <td>Spanish</td>\n",
       "      <td>0</td>\n",
       "    </tr>\n",
       "    <tr>\n",
       "      <th>...</th>\n",
       "      <td>...</td>\n",
       "      <td>...</td>\n",
       "      <td>...</td>\n",
       "      <td>...</td>\n",
       "      <td>...</td>\n",
       "      <td>...</td>\n",
       "      <td>...</td>\n",
       "      <td>...</td>\n",
       "      <td>...</td>\n",
       "      <td>...</td>\n",
       "      <td>...</td>\n",
       "      <td>...</td>\n",
       "      <td>...</td>\n",
       "      <td>...</td>\n",
       "      <td>...</td>\n",
       "      <td>...</td>\n",
       "      <td>...</td>\n",
       "      <td>...</td>\n",
       "      <td>...</td>\n",
       "      <td>...</td>\n",
       "      <td>...</td>\n",
       "    </tr>\n",
       "    <tr>\n",
       "      <th>1109476</th>\n",
       "      <td>spotify:track:3NPWH2UbMjch2vnS7qMFGM</td>\n",
       "      <td>100</td>\n",
       "      <td>11:11 Music Group, Martin Arteta</td>\n",
       "      <td>2</td>\n",
       "      <td>11:11 Music Group</td>\n",
       "      <td>spotify:artist:2MDj296KJIfgWDNBtHzeFi</td>\n",
       "      <td>0</td>\n",
       "      <td>https://i.scdn.co/image/ab6761610000e5eb1e4934...</td>\n",
       "      <td>Past Lives</td>\n",
       "      <td>2021-05-27</td>\n",
       "      <td>...</td>\n",
       "      <td>0.9160</td>\n",
       "      <td>0.072500</td>\n",
       "      <td>0.0783</td>\n",
       "      <td>0.189</td>\n",
       "      <td>116.058</td>\n",
       "      <td>134583.0</td>\n",
       "      <td>Vietnam</td>\n",
       "      <td>Asia</td>\n",
       "      <td>Vietnamese</td>\n",
       "      <td>0</td>\n",
       "    </tr>\n",
       "    <tr>\n",
       "      <th>1109495</th>\n",
       "      <td>spotify:track:5xOkL4eAs735nm6mcnvfS6</td>\n",
       "      <td>139</td>\n",
       "      <td>Flo D, Giang Nguyễn</td>\n",
       "      <td>2</td>\n",
       "      <td>Flo D</td>\n",
       "      <td>spotify:artist:25cLQ8alZJssXY06KE3SZP</td>\n",
       "      <td>0</td>\n",
       "      <td>https://i.scdn.co/image/ab6761610000e5ebc43411...</td>\n",
       "      <td>#AiChoAi</td>\n",
       "      <td>2016-04-24</td>\n",
       "      <td>...</td>\n",
       "      <td>0.9170</td>\n",
       "      <td>0.000343</td>\n",
       "      <td>0.1110</td>\n",
       "      <td>0.713</td>\n",
       "      <td>117.952</td>\n",
       "      <td>159974.0</td>\n",
       "      <td>Vietnam</td>\n",
       "      <td>Asia</td>\n",
       "      <td>Vietnamese</td>\n",
       "      <td>0</td>\n",
       "    </tr>\n",
       "    <tr>\n",
       "      <th>1109501</th>\n",
       "      <td>spotify:track:3wrzXRNJVxwOByPpYjyujB</td>\n",
       "      <td>151</td>\n",
       "      <td>Studio Party, Quang Trung, Vũ Thảo My</td>\n",
       "      <td>3</td>\n",
       "      <td>Studio Party</td>\n",
       "      <td>spotify:artist:4JTjvap7y8AE0AMCH2f6kt</td>\n",
       "      <td>0</td>\n",
       "      <td>https://i.scdn.co/image/ab67616d0000b273bf30aa...</td>\n",
       "      <td>Và Ngày Nào Đó (feat. Vũ Thảo My)</td>\n",
       "      <td>2022-03-16</td>\n",
       "      <td>...</td>\n",
       "      <td>0.7750</td>\n",
       "      <td>0.000000</td>\n",
       "      <td>0.3250</td>\n",
       "      <td>0.140</td>\n",
       "      <td>133.591</td>\n",
       "      <td>269733.0</td>\n",
       "      <td>Vietnam</td>\n",
       "      <td>Asia</td>\n",
       "      <td>Vietnamese</td>\n",
       "      <td>0</td>\n",
       "    </tr>\n",
       "    <tr>\n",
       "      <th>1109503</th>\n",
       "      <td>spotify:track:2MHGIiWus5xHykiZGuDtNe</td>\n",
       "      <td>158</td>\n",
       "      <td>Sean, Lửa</td>\n",
       "      <td>2</td>\n",
       "      <td>Sean</td>\n",
       "      <td>spotify:artist:1xNqmjTeWon7iX8kbPKpZz</td>\n",
       "      <td>0</td>\n",
       "      <td>https://i.scdn.co/image/ab6761610000e5eb7b2d0d...</td>\n",
       "      <td>Em Thích</td>\n",
       "      <td>2021-12-03</td>\n",
       "      <td>...</td>\n",
       "      <td>0.6880</td>\n",
       "      <td>0.000000</td>\n",
       "      <td>0.1110</td>\n",
       "      <td>0.156</td>\n",
       "      <td>175.423</td>\n",
       "      <td>176151.0</td>\n",
       "      <td>Vietnam</td>\n",
       "      <td>Asia</td>\n",
       "      <td>Vietnamese</td>\n",
       "      <td>0</td>\n",
       "    </tr>\n",
       "    <tr>\n",
       "      <th>1109514</th>\n",
       "      <td>spotify:track:2dZP47k5zETHUQWhxwv3hz</td>\n",
       "      <td>186</td>\n",
       "      <td>Vang, Cloud 5</td>\n",
       "      <td>2</td>\n",
       "      <td>Vang</td>\n",
       "      <td>spotify:artist:6bvMoywdm3JM1bmVvMngrW</td>\n",
       "      <td>0</td>\n",
       "      <td>https://i.scdn.co/image/ab67616d0000b273fb865c...</td>\n",
       "      <td>Em Là Hoàng Hôn</td>\n",
       "      <td>2021-05-29</td>\n",
       "      <td>...</td>\n",
       "      <td>0.3750</td>\n",
       "      <td>0.001570</td>\n",
       "      <td>0.3030</td>\n",
       "      <td>0.251</td>\n",
       "      <td>99.987</td>\n",
       "      <td>223287.0</td>\n",
       "      <td>Vietnam</td>\n",
       "      <td>Asia</td>\n",
       "      <td>Vietnamese</td>\n",
       "      <td>0</td>\n",
       "    </tr>\n",
       "  </tbody>\n",
       "</table>\n",
       "<p>28796 rows × 34 columns</p>\n",
       "</div>"
      ],
      "text/plain": [
       "                                          uri  rank  \\\n",
       "18       spotify:track:1fKFxmSByZfjwVSbq0PHye    40   \n",
       "52       spotify:track:6bLvfGI2XeU5DTl8feuNrk   135   \n",
       "108      spotify:track:1fKFxmSByZfjwVSbq0PHye    45   \n",
       "154      spotify:track:6bLvfGI2XeU5DTl8feuNrk   161   \n",
       "207      spotify:track:6bLvfGI2XeU5DTl8feuNrk    94   \n",
       "...                                       ...   ...   \n",
       "1109476  spotify:track:3NPWH2UbMjch2vnS7qMFGM   100   \n",
       "1109495  spotify:track:5xOkL4eAs735nm6mcnvfS6   139   \n",
       "1109501  spotify:track:3wrzXRNJVxwOByPpYjyujB   151   \n",
       "1109503  spotify:track:2MHGIiWus5xHykiZGuDtNe   158   \n",
       "1109514  spotify:track:2dZP47k5zETHUQWhxwv3hz   186   \n",
       "\n",
       "                                  artist_names  artists_num  \\\n",
       "18                               Ke Personajes            1   \n",
       "52                               Ke Personajes            1   \n",
       "108                              Ke Personajes            1   \n",
       "154                              Ke Personajes            1   \n",
       "207                              Ke Personajes            1   \n",
       "...                                        ...          ...   \n",
       "1109476       11:11 Music Group, Martin Arteta            2   \n",
       "1109495                    Flo D, Giang Nguyễn            2   \n",
       "1109501  Studio Party, Quang Trung, Vũ Thảo My            3   \n",
       "1109503                              Sean, Lửa            2   \n",
       "1109514                          Vang, Cloud 5            2   \n",
       "\n",
       "         artist_individual                              artist_id  \\\n",
       "18           Ke Personajes  spotify:artist:06Q5VlSAku57lFzyME3HrM   \n",
       "52           Ke Personajes  spotify:artist:06Q5VlSAku57lFzyME3HrM   \n",
       "108          Ke Personajes  spotify:artist:06Q5VlSAku57lFzyME3HrM   \n",
       "154          Ke Personajes  spotify:artist:06Q5VlSAku57lFzyME3HrM   \n",
       "207          Ke Personajes  spotify:artist:06Q5VlSAku57lFzyME3HrM   \n",
       "...                    ...                                    ...   \n",
       "1109476  11:11 Music Group  spotify:artist:2MDj296KJIfgWDNBtHzeFi   \n",
       "1109495              Flo D  spotify:artist:25cLQ8alZJssXY06KE3SZP   \n",
       "1109501       Studio Party  spotify:artist:4JTjvap7y8AE0AMCH2f6kt   \n",
       "1109503               Sean  spotify:artist:1xNqmjTeWon7iX8kbPKpZz   \n",
       "1109514               Vang  spotify:artist:6bvMoywdm3JM1bmVvMngrW   \n",
       "\n",
       "        artist_genre                                         artist_img  \\\n",
       "18                 0  https://i.scdn.co/image/ab6761610000e5eb062db0...   \n",
       "52                 0  https://i.scdn.co/image/ab6761610000e5eb062db0...   \n",
       "108                0  https://i.scdn.co/image/ab6761610000e5eb062db0...   \n",
       "154                0  https://i.scdn.co/image/ab6761610000e5eb062db0...   \n",
       "207                0  https://i.scdn.co/image/ab6761610000e5eb062db0...   \n",
       "...              ...                                                ...   \n",
       "1109476            0  https://i.scdn.co/image/ab6761610000e5eb1e4934...   \n",
       "1109495            0  https://i.scdn.co/image/ab6761610000e5ebc43411...   \n",
       "1109501            0  https://i.scdn.co/image/ab67616d0000b273bf30aa...   \n",
       "1109503            0  https://i.scdn.co/image/ab6761610000e5eb7b2d0d...   \n",
       "1109514            0  https://i.scdn.co/image/ab67616d0000b273fb865c...   \n",
       "\n",
       "                                        track_name release_date  ...  \\\n",
       "18       Si No Te Tengo / Ángel / Aquello Que Pasó   2021-08-17  ...   \n",
       "52                                      Cómo estás   2019-04-17  ...   \n",
       "108      Si No Te Tengo / Ángel / Aquello Que Pasó   2021-08-17  ...   \n",
       "154                                     Cómo estás   2019-04-17  ...   \n",
       "207                                     Cómo estás   2019-04-17  ...   \n",
       "...                                            ...          ...  ...   \n",
       "1109476                                 Past Lives   2021-05-27  ...   \n",
       "1109495                                   #AiChoAi   2016-04-24  ...   \n",
       "1109501          Và Ngày Nào Đó (feat. Vũ Thảo My)   2022-03-16  ...   \n",
       "1109503                                   Em Thích   2021-12-03  ...   \n",
       "1109514                            Em Là Hoàng Hôn   2021-05-29  ...   \n",
       "\n",
       "        acousticness instrumentalness liveness  valence    tempo  duration  \\\n",
       "18            0.0513         0.000000   0.2430    0.529   82.180  428439.0   \n",
       "52            0.2890         0.000004   0.0414    0.976  135.290  227396.0   \n",
       "108           0.0513         0.000000   0.2430    0.529   82.180  428439.0   \n",
       "154           0.2890         0.000004   0.0414    0.976  135.290  227396.0   \n",
       "207           0.2890         0.000004   0.0414    0.976  135.290  227396.0   \n",
       "...              ...              ...      ...      ...      ...       ...   \n",
       "1109476       0.9160         0.072500   0.0783    0.189  116.058  134583.0   \n",
       "1109495       0.9170         0.000343   0.1110    0.713  117.952  159974.0   \n",
       "1109501       0.7750         0.000000   0.3250    0.140  133.591  269733.0   \n",
       "1109503       0.6880         0.000000   0.1110    0.156  175.423  176151.0   \n",
       "1109514       0.3750         0.001570   0.3030    0.251   99.987  223287.0   \n",
       "\n",
       "           country         region    language  pivot  \n",
       "18       Argentina  South America     Spanish      0  \n",
       "52       Argentina  South America     Spanish      0  \n",
       "108      Argentina  South America     Spanish      0  \n",
       "154      Argentina  South America     Spanish      0  \n",
       "207      Argentina  South America     Spanish      0  \n",
       "...            ...            ...         ...    ...  \n",
       "1109476    Vietnam           Asia  Vietnamese      0  \n",
       "1109495    Vietnam           Asia  Vietnamese      0  \n",
       "1109501    Vietnam           Asia  Vietnamese      0  \n",
       "1109503    Vietnam           Asia  Vietnamese      0  \n",
       "1109514    Vietnam           Asia  Vietnamese      0  \n",
       "\n",
       "[28796 rows x 34 columns]"
      ]
     },
     "execution_count": 122,
     "metadata": {},
     "output_type": "execute_result"
    }
   ],
   "source": [
    "spotify_df[spotify_df['artist_genre']=='0']"
   ]
  },
  {
   "cell_type": "code",
   "execution_count": 123,
   "metadata": {},
   "outputs": [
    {
     "data": {
      "text/plain": [
       "2079"
      ]
     },
     "execution_count": 123,
     "metadata": {},
     "output_type": "execute_result"
    }
   ],
   "source": [
    "len(spotify_df[spotify_df.artist_genre == \"0\"][\"uri\"].unique())"
   ]
  },
  {
   "cell_type": "code",
   "execution_count": 124,
   "metadata": {},
   "outputs": [],
   "source": [
    "# plt.figure(figsize = (30,20))\n",
    "# a = spotify_df[spotify_df['artist_genre']=='0']['country'].value_counts()\n",
    "# a = a.to_frame().rename(columns = {\"country\": \"count\"})\n",
    "# squarify.plot(sizes = a[\"count\"], label = a.index)\n",
    "# plt.axis(\"off\")"
   ]
  },
  {
   "cell_type": "code",
   "execution_count": 125,
   "metadata": {},
   "outputs": [
    {
     "data": {
      "application/vnd.plotly.v1+json": {
       "config": {
        "plotlyServerURL": "https://plot.ly"
       },
       "data": [
        {
         "branchvalues": "total",
         "customdata": [
          [
           267
          ],
          [
           231
          ],
          [
           742
          ],
          [
           121
          ],
          [
           566
          ],
          [
           183
          ],
          [
           665
          ],
          [
           472
          ],
          [
           292
          ],
          [
           119
          ],
          [
           124
          ],
          [
           157
          ],
          [
           393
          ],
          [
           299
          ],
          [
           443
          ],
          [
           340
          ],
          [
           180
          ],
          [
           261
          ],
          [
           128
          ],
          [
           552
          ],
          [
           666
          ],
          [
           492
          ],
          [
           766
          ],
          [
           423
          ],
          [
           246
          ],
          [
           192
          ],
          [
           110
          ],
          [
           101
          ],
          [
           397
          ],
          [
           456
          ],
          [
           483
          ],
          [
           531
          ],
          [
           350
          ],
          [
           262
          ],
          [
           751
          ],
          [
           118
          ],
          [
           127
          ],
          [
           462
          ],
          [
           436
          ],
          [
           625
          ],
          [
           434
          ],
          [
           382
          ],
          [
           305
          ],
          [
           332
          ],
          [
           851
          ],
          [
           271
          ],
          [
           117
          ],
          [
           193
          ],
          [
           741
          ],
          [
           94
          ],
          [
           160
          ],
          [
           229
          ],
          [
           172
          ],
          [
           333
          ],
          [
           301
          ],
          [
           687
          ],
          [
           449
          ],
          [
           1496
          ],
          [
           295
          ],
          [
           579
          ],
          [
           438
          ],
          [
           280
          ],
          [
           367
          ],
          [
           579
          ],
          [
           262
          ],
          [
           1175
          ],
          [
           484
          ],
          [
           412
          ],
          [
           401
          ],
          [
           436
          ],
          [
           210
          ],
          [
           237
          ],
          [
           29
          ],
          [
           536
          ]
         ],
         "domain": {
          "x": [
           0,
           1
          ],
          "y": [
           0,
           1
          ]
         },
         "hovertemplate": "labels=%{label}<br>count_sum=%{value}<br>parent=%{parent}<br>id=%{id}<br>count=%{color}<extra></extra>",
         "ids": [
          "Argentina",
          "Australia",
          "Austria",
          "Belarus",
          "Belgium",
          "Bolivia",
          "Brazil",
          "Bulgaria",
          "Canada",
          "Chile",
          "Colombia",
          "Costa Rica",
          "Cyprus",
          "Czech Republic",
          "Denmark",
          "Dominican Republic",
          "Ecuador",
          "Egypt",
          "El Salvador",
          "Estonia",
          "Finland",
          "France",
          "Germany",
          "Global",
          "Greece",
          "Guatemala",
          "Honduras",
          "Hong Kong",
          "Hungary",
          "Iceland",
          "India",
          "Indonesia",
          "Ireland",
          "Israel",
          "Italy",
          "Japan",
          "Kazakhstan",
          "Korea",
          "Latvia",
          "Lithuania",
          "Luxembourg",
          "Malaysia",
          "Mexico",
          "Morocco",
          "Netherlands",
          "New Zealand",
          "Nicaragua",
          "Nigeria",
          "Norway",
          "Pakistan",
          "Panama",
          "Paraguay",
          "Peru",
          "Philippines",
          "Poland",
          "Portugal",
          "Romania",
          "Saudi Arabia",
          "Singapore",
          "Slovakia",
          "South Africa",
          "Spain",
          "Sweden",
          "Switzerland",
          "Taiwan",
          "Thailand",
          "Turkey",
          "Ukraine",
          "United Arab Emirates",
          "United Kingdom",
          "United States",
          "Uruguay",
          "Venezuela",
          "Vietnam"
         ],
         "labels": [
          "Argentina",
          "Australia",
          "Austria",
          "Belarus",
          "Belgium",
          "Bolivia",
          "Brazil",
          "Bulgaria",
          "Canada",
          "Chile",
          "Colombia",
          "Costa Rica",
          "Cyprus",
          "Czech Republic",
          "Denmark",
          "Dominican Republic",
          "Ecuador",
          "Egypt",
          "El Salvador",
          "Estonia",
          "Finland",
          "France",
          "Germany",
          "Global",
          "Greece",
          "Guatemala",
          "Honduras",
          "Hong Kong",
          "Hungary",
          "Iceland",
          "India",
          "Indonesia",
          "Ireland",
          "Israel",
          "Italy",
          "Japan",
          "Kazakhstan",
          "Korea",
          "Latvia",
          "Lithuania",
          "Luxembourg",
          "Malaysia",
          "Mexico",
          "Morocco",
          "Netherlands",
          "New Zealand",
          "Nicaragua",
          "Nigeria",
          "Norway",
          "Pakistan",
          "Panama",
          "Paraguay",
          "Peru",
          "Philippines",
          "Poland",
          "Portugal",
          "Romania",
          "Saudi Arabia",
          "Singapore",
          "Slovakia",
          "South Africa",
          "Spain",
          "Sweden",
          "Switzerland",
          "Taiwan",
          "Thailand",
          "Turkey",
          "Ukraine",
          "United Arab Emirates",
          "United Kingdom",
          "United States",
          "Uruguay",
          "Venezuela",
          "Vietnam"
         ],
         "marker": {
          "coloraxis": "coloraxis",
          "colors": [
           267,
           231,
           742,
           121,
           566,
           183,
           665,
           472,
           292,
           119,
           124,
           157,
           393,
           299,
           443,
           340,
           180,
           261,
           128,
           552,
           666,
           492,
           766,
           423,
           246,
           192,
           110,
           101,
           397,
           456,
           483,
           531,
           350,
           262,
           751,
           118,
           127,
           462,
           436,
           625,
           434,
           382,
           305,
           332,
           851,
           271,
           117,
           193,
           741,
           94,
           160,
           229,
           172,
           333,
           301,
           687,
           449,
           1496,
           295,
           579,
           438,
           280,
           367,
           579,
           262,
           1175,
           484,
           412,
           401,
           436,
           210,
           237,
           29,
           536
          ]
         },
         "name": "",
         "parents": [
          "",
          "",
          "",
          "",
          "",
          "",
          "",
          "",
          "",
          "",
          "",
          "",
          "",
          "",
          "",
          "",
          "",
          "",
          "",
          "",
          "",
          "",
          "",
          "",
          "",
          "",
          "",
          "",
          "",
          "",
          "",
          "",
          "",
          "",
          "",
          "",
          "",
          "",
          "",
          "",
          "",
          "",
          "",
          "",
          "",
          "",
          "",
          "",
          "",
          "",
          "",
          "",
          "",
          "",
          "",
          "",
          "",
          "",
          "",
          "",
          "",
          "",
          "",
          "",
          "",
          "",
          "",
          "",
          "",
          "",
          "",
          "",
          "",
          ""
         ],
         "type": "treemap",
         "values": [
          267,
          231,
          742,
          121,
          566,
          183,
          665,
          472,
          292,
          119,
          124,
          157,
          393,
          299,
          443,
          340,
          180,
          261,
          128,
          552,
          666,
          492,
          766,
          423,
          246,
          192,
          110,
          101,
          397,
          456,
          483,
          531,
          350,
          262,
          751,
          118,
          127,
          462,
          436,
          625,
          434,
          382,
          305,
          332,
          851,
          271,
          117,
          193,
          741,
          94,
          160,
          229,
          172,
          333,
          301,
          687,
          449,
          1496,
          295,
          579,
          438,
          280,
          367,
          579,
          262,
          1175,
          484,
          412,
          401,
          436,
          210,
          237,
          29,
          536
         ]
        }
       ],
       "layout": {
        "coloraxis": {
         "colorbar": {
          "title": {
           "text": "count"
          }
         },
         "colorscale": [
          [
           0,
           "#0d0887"
          ],
          [
           0.1111111111111111,
           "#46039f"
          ],
          [
           0.2222222222222222,
           "#7201a8"
          ],
          [
           0.3333333333333333,
           "#9c179e"
          ],
          [
           0.4444444444444444,
           "#bd3786"
          ],
          [
           0.5555555555555556,
           "#d8576b"
          ],
          [
           0.6666666666666666,
           "#ed7953"
          ],
          [
           0.7777777777777778,
           "#fb9f3a"
          ],
          [
           0.8888888888888888,
           "#fdca26"
          ],
          [
           1,
           "#f0f921"
          ]
         ]
        },
        "legend": {
         "tracegroupgap": 0
        },
        "margin": {
         "t": 60
        },
        "template": {
         "data": {
          "bar": [
           {
            "error_x": {
             "color": "#2a3f5f"
            },
            "error_y": {
             "color": "#2a3f5f"
            },
            "marker": {
             "line": {
              "color": "#E5ECF6",
              "width": 0.5
             },
             "pattern": {
              "fillmode": "overlay",
              "size": 10,
              "solidity": 0.2
             }
            },
            "type": "bar"
           }
          ],
          "barpolar": [
           {
            "marker": {
             "line": {
              "color": "#E5ECF6",
              "width": 0.5
             },
             "pattern": {
              "fillmode": "overlay",
              "size": 10,
              "solidity": 0.2
             }
            },
            "type": "barpolar"
           }
          ],
          "carpet": [
           {
            "aaxis": {
             "endlinecolor": "#2a3f5f",
             "gridcolor": "white",
             "linecolor": "white",
             "minorgridcolor": "white",
             "startlinecolor": "#2a3f5f"
            },
            "baxis": {
             "endlinecolor": "#2a3f5f",
             "gridcolor": "white",
             "linecolor": "white",
             "minorgridcolor": "white",
             "startlinecolor": "#2a3f5f"
            },
            "type": "carpet"
           }
          ],
          "choropleth": [
           {
            "colorbar": {
             "outlinewidth": 0,
             "ticks": ""
            },
            "type": "choropleth"
           }
          ],
          "contour": [
           {
            "colorbar": {
             "outlinewidth": 0,
             "ticks": ""
            },
            "colorscale": [
             [
              0,
              "#0d0887"
             ],
             [
              0.1111111111111111,
              "#46039f"
             ],
             [
              0.2222222222222222,
              "#7201a8"
             ],
             [
              0.3333333333333333,
              "#9c179e"
             ],
             [
              0.4444444444444444,
              "#bd3786"
             ],
             [
              0.5555555555555556,
              "#d8576b"
             ],
             [
              0.6666666666666666,
              "#ed7953"
             ],
             [
              0.7777777777777778,
              "#fb9f3a"
             ],
             [
              0.8888888888888888,
              "#fdca26"
             ],
             [
              1,
              "#f0f921"
             ]
            ],
            "type": "contour"
           }
          ],
          "contourcarpet": [
           {
            "colorbar": {
             "outlinewidth": 0,
             "ticks": ""
            },
            "type": "contourcarpet"
           }
          ],
          "heatmap": [
           {
            "colorbar": {
             "outlinewidth": 0,
             "ticks": ""
            },
            "colorscale": [
             [
              0,
              "#0d0887"
             ],
             [
              0.1111111111111111,
              "#46039f"
             ],
             [
              0.2222222222222222,
              "#7201a8"
             ],
             [
              0.3333333333333333,
              "#9c179e"
             ],
             [
              0.4444444444444444,
              "#bd3786"
             ],
             [
              0.5555555555555556,
              "#d8576b"
             ],
             [
              0.6666666666666666,
              "#ed7953"
             ],
             [
              0.7777777777777778,
              "#fb9f3a"
             ],
             [
              0.8888888888888888,
              "#fdca26"
             ],
             [
              1,
              "#f0f921"
             ]
            ],
            "type": "heatmap"
           }
          ],
          "heatmapgl": [
           {
            "colorbar": {
             "outlinewidth": 0,
             "ticks": ""
            },
            "colorscale": [
             [
              0,
              "#0d0887"
             ],
             [
              0.1111111111111111,
              "#46039f"
             ],
             [
              0.2222222222222222,
              "#7201a8"
             ],
             [
              0.3333333333333333,
              "#9c179e"
             ],
             [
              0.4444444444444444,
              "#bd3786"
             ],
             [
              0.5555555555555556,
              "#d8576b"
             ],
             [
              0.6666666666666666,
              "#ed7953"
             ],
             [
              0.7777777777777778,
              "#fb9f3a"
             ],
             [
              0.8888888888888888,
              "#fdca26"
             ],
             [
              1,
              "#f0f921"
             ]
            ],
            "type": "heatmapgl"
           }
          ],
          "histogram": [
           {
            "marker": {
             "pattern": {
              "fillmode": "overlay",
              "size": 10,
              "solidity": 0.2
             }
            },
            "type": "histogram"
           }
          ],
          "histogram2d": [
           {
            "colorbar": {
             "outlinewidth": 0,
             "ticks": ""
            },
            "colorscale": [
             [
              0,
              "#0d0887"
             ],
             [
              0.1111111111111111,
              "#46039f"
             ],
             [
              0.2222222222222222,
              "#7201a8"
             ],
             [
              0.3333333333333333,
              "#9c179e"
             ],
             [
              0.4444444444444444,
              "#bd3786"
             ],
             [
              0.5555555555555556,
              "#d8576b"
             ],
             [
              0.6666666666666666,
              "#ed7953"
             ],
             [
              0.7777777777777778,
              "#fb9f3a"
             ],
             [
              0.8888888888888888,
              "#fdca26"
             ],
             [
              1,
              "#f0f921"
             ]
            ],
            "type": "histogram2d"
           }
          ],
          "histogram2dcontour": [
           {
            "colorbar": {
             "outlinewidth": 0,
             "ticks": ""
            },
            "colorscale": [
             [
              0,
              "#0d0887"
             ],
             [
              0.1111111111111111,
              "#46039f"
             ],
             [
              0.2222222222222222,
              "#7201a8"
             ],
             [
              0.3333333333333333,
              "#9c179e"
             ],
             [
              0.4444444444444444,
              "#bd3786"
             ],
             [
              0.5555555555555556,
              "#d8576b"
             ],
             [
              0.6666666666666666,
              "#ed7953"
             ],
             [
              0.7777777777777778,
              "#fb9f3a"
             ],
             [
              0.8888888888888888,
              "#fdca26"
             ],
             [
              1,
              "#f0f921"
             ]
            ],
            "type": "histogram2dcontour"
           }
          ],
          "mesh3d": [
           {
            "colorbar": {
             "outlinewidth": 0,
             "ticks": ""
            },
            "type": "mesh3d"
           }
          ],
          "parcoords": [
           {
            "line": {
             "colorbar": {
              "outlinewidth": 0,
              "ticks": ""
             }
            },
            "type": "parcoords"
           }
          ],
          "pie": [
           {
            "automargin": true,
            "type": "pie"
           }
          ],
          "scatter": [
           {
            "fillpattern": {
             "fillmode": "overlay",
             "size": 10,
             "solidity": 0.2
            },
            "type": "scatter"
           }
          ],
          "scatter3d": [
           {
            "line": {
             "colorbar": {
              "outlinewidth": 0,
              "ticks": ""
             }
            },
            "marker": {
             "colorbar": {
              "outlinewidth": 0,
              "ticks": ""
             }
            },
            "type": "scatter3d"
           }
          ],
          "scattercarpet": [
           {
            "marker": {
             "colorbar": {
              "outlinewidth": 0,
              "ticks": ""
             }
            },
            "type": "scattercarpet"
           }
          ],
          "scattergeo": [
           {
            "marker": {
             "colorbar": {
              "outlinewidth": 0,
              "ticks": ""
             }
            },
            "type": "scattergeo"
           }
          ],
          "scattergl": [
           {
            "marker": {
             "colorbar": {
              "outlinewidth": 0,
              "ticks": ""
             }
            },
            "type": "scattergl"
           }
          ],
          "scattermapbox": [
           {
            "marker": {
             "colorbar": {
              "outlinewidth": 0,
              "ticks": ""
             }
            },
            "type": "scattermapbox"
           }
          ],
          "scatterpolar": [
           {
            "marker": {
             "colorbar": {
              "outlinewidth": 0,
              "ticks": ""
             }
            },
            "type": "scatterpolar"
           }
          ],
          "scatterpolargl": [
           {
            "marker": {
             "colorbar": {
              "outlinewidth": 0,
              "ticks": ""
             }
            },
            "type": "scatterpolargl"
           }
          ],
          "scatterternary": [
           {
            "marker": {
             "colorbar": {
              "outlinewidth": 0,
              "ticks": ""
             }
            },
            "type": "scatterternary"
           }
          ],
          "surface": [
           {
            "colorbar": {
             "outlinewidth": 0,
             "ticks": ""
            },
            "colorscale": [
             [
              0,
              "#0d0887"
             ],
             [
              0.1111111111111111,
              "#46039f"
             ],
             [
              0.2222222222222222,
              "#7201a8"
             ],
             [
              0.3333333333333333,
              "#9c179e"
             ],
             [
              0.4444444444444444,
              "#bd3786"
             ],
             [
              0.5555555555555556,
              "#d8576b"
             ],
             [
              0.6666666666666666,
              "#ed7953"
             ],
             [
              0.7777777777777778,
              "#fb9f3a"
             ],
             [
              0.8888888888888888,
              "#fdca26"
             ],
             [
              1,
              "#f0f921"
             ]
            ],
            "type": "surface"
           }
          ],
          "table": [
           {
            "cells": {
             "fill": {
              "color": "#EBF0F8"
             },
             "line": {
              "color": "white"
             }
            },
            "header": {
             "fill": {
              "color": "#C8D4E3"
             },
             "line": {
              "color": "white"
             }
            },
            "type": "table"
           }
          ]
         },
         "layout": {
          "annotationdefaults": {
           "arrowcolor": "#2a3f5f",
           "arrowhead": 0,
           "arrowwidth": 1
          },
          "autotypenumbers": "strict",
          "coloraxis": {
           "colorbar": {
            "outlinewidth": 0,
            "ticks": ""
           }
          },
          "colorscale": {
           "diverging": [
            [
             0,
             "#8e0152"
            ],
            [
             0.1,
             "#c51b7d"
            ],
            [
             0.2,
             "#de77ae"
            ],
            [
             0.3,
             "#f1b6da"
            ],
            [
             0.4,
             "#fde0ef"
            ],
            [
             0.5,
             "#f7f7f7"
            ],
            [
             0.6,
             "#e6f5d0"
            ],
            [
             0.7,
             "#b8e186"
            ],
            [
             0.8,
             "#7fbc41"
            ],
            [
             0.9,
             "#4d9221"
            ],
            [
             1,
             "#276419"
            ]
           ],
           "sequential": [
            [
             0,
             "#0d0887"
            ],
            [
             0.1111111111111111,
             "#46039f"
            ],
            [
             0.2222222222222222,
             "#7201a8"
            ],
            [
             0.3333333333333333,
             "#9c179e"
            ],
            [
             0.4444444444444444,
             "#bd3786"
            ],
            [
             0.5555555555555556,
             "#d8576b"
            ],
            [
             0.6666666666666666,
             "#ed7953"
            ],
            [
             0.7777777777777778,
             "#fb9f3a"
            ],
            [
             0.8888888888888888,
             "#fdca26"
            ],
            [
             1,
             "#f0f921"
            ]
           ],
           "sequentialminus": [
            [
             0,
             "#0d0887"
            ],
            [
             0.1111111111111111,
             "#46039f"
            ],
            [
             0.2222222222222222,
             "#7201a8"
            ],
            [
             0.3333333333333333,
             "#9c179e"
            ],
            [
             0.4444444444444444,
             "#bd3786"
            ],
            [
             0.5555555555555556,
             "#d8576b"
            ],
            [
             0.6666666666666666,
             "#ed7953"
            ],
            [
             0.7777777777777778,
             "#fb9f3a"
            ],
            [
             0.8888888888888888,
             "#fdca26"
            ],
            [
             1,
             "#f0f921"
            ]
           ]
          },
          "colorway": [
           "#636efa",
           "#EF553B",
           "#00cc96",
           "#ab63fa",
           "#FFA15A",
           "#19d3f3",
           "#FF6692",
           "#B6E880",
           "#FF97FF",
           "#FECB52"
          ],
          "font": {
           "color": "#2a3f5f"
          },
          "geo": {
           "bgcolor": "white",
           "lakecolor": "white",
           "landcolor": "#E5ECF6",
           "showlakes": true,
           "showland": true,
           "subunitcolor": "white"
          },
          "hoverlabel": {
           "align": "left"
          },
          "hovermode": "closest",
          "mapbox": {
           "style": "light"
          },
          "paper_bgcolor": "white",
          "plot_bgcolor": "#E5ECF6",
          "polar": {
           "angularaxis": {
            "gridcolor": "white",
            "linecolor": "white",
            "ticks": ""
           },
           "bgcolor": "#E5ECF6",
           "radialaxis": {
            "gridcolor": "white",
            "linecolor": "white",
            "ticks": ""
           }
          },
          "scene": {
           "xaxis": {
            "backgroundcolor": "#E5ECF6",
            "gridcolor": "white",
            "gridwidth": 2,
            "linecolor": "white",
            "showbackground": true,
            "ticks": "",
            "zerolinecolor": "white"
           },
           "yaxis": {
            "backgroundcolor": "#E5ECF6",
            "gridcolor": "white",
            "gridwidth": 2,
            "linecolor": "white",
            "showbackground": true,
            "ticks": "",
            "zerolinecolor": "white"
           },
           "zaxis": {
            "backgroundcolor": "#E5ECF6",
            "gridcolor": "white",
            "gridwidth": 2,
            "linecolor": "white",
            "showbackground": true,
            "ticks": "",
            "zerolinecolor": "white"
           }
          },
          "shapedefaults": {
           "line": {
            "color": "#2a3f5f"
           }
          },
          "ternary": {
           "aaxis": {
            "gridcolor": "white",
            "linecolor": "white",
            "ticks": ""
           },
           "baxis": {
            "gridcolor": "white",
            "linecolor": "white",
            "ticks": ""
           },
           "bgcolor": "#E5ECF6",
           "caxis": {
            "gridcolor": "white",
            "linecolor": "white",
            "ticks": ""
           }
          },
          "title": {
           "x": 0.05
          },
          "xaxis": {
           "automargin": true,
           "gridcolor": "white",
           "linecolor": "white",
           "ticks": "",
           "title": {
            "standoff": 15
           },
           "zerolinecolor": "white",
           "zerolinewidth": 2
          },
          "yaxis": {
           "automargin": true,
           "gridcolor": "white",
           "linecolor": "white",
           "ticks": "",
           "title": {
            "standoff": 15
           },
           "zerolinecolor": "white",
           "zerolinewidth": 2
          }
         }
        }
       }
      }
     },
     "metadata": {},
     "output_type": "display_data"
    }
   ],
   "source": [
    "import plotly.express as px\n",
    "\n",
    "a = spotify_df[spotify_df['artist_genre']=='0']['country'].value_counts()\n",
    "a = a.to_frame().rename(columns = {\"country\": \"count\"})\n",
    "fig = px.treemap(a, path = [a.index], values = a[\"count\"], color = a[\"count\"])\n",
    "fig.show()"
   ]
  },
  {
   "attachments": {},
   "cell_type": "markdown",
   "metadata": {},
   "source": [
    "Mô tả các cột dữ liệu"
   ]
  },
  {
   "cell_type": "code",
   "execution_count": 126,
   "metadata": {},
   "outputs": [
    {
     "data": {
      "text/html": [
       "<div>\n",
       "<style scoped>\n",
       "    .dataframe tbody tr th:only-of-type {\n",
       "        vertical-align: middle;\n",
       "    }\n",
       "\n",
       "    .dataframe tbody tr th {\n",
       "        vertical-align: top;\n",
       "    }\n",
       "\n",
       "    .dataframe thead th {\n",
       "        text-align: right;\n",
       "    }\n",
       "</style>\n",
       "<table border=\"1\" class=\"dataframe\">\n",
       "  <thead>\n",
       "    <tr style=\"text-align: right;\">\n",
       "      <th></th>\n",
       "      <th>0</th>\n",
       "    </tr>\n",
       "  </thead>\n",
       "  <tbody>\n",
       "    <tr>\n",
       "      <th>0</th>\n",
       "      <td>album_cover</td>\n",
       "    </tr>\n",
       "    <tr>\n",
       "      <th>1</th>\n",
       "      <td>country</td>\n",
       "    </tr>\n",
       "    <tr>\n",
       "      <th>2</th>\n",
       "      <td>region</td>\n",
       "    </tr>\n",
       "    <tr>\n",
       "      <th>3</th>\n",
       "      <td>pivot</td>\n",
       "    </tr>\n",
       "    <tr>\n",
       "      <th>4</th>\n",
       "      <td>artist_img</td>\n",
       "    </tr>\n",
       "    <tr>\n",
       "      <th>5</th>\n",
       "      <td>artist_id</td>\n",
       "    </tr>\n",
       "    <tr>\n",
       "      <th>6</th>\n",
       "      <td>rank</td>\n",
       "    </tr>\n",
       "    <tr>\n",
       "      <th>7</th>\n",
       "      <td>weeks_on_chart</td>\n",
       "    </tr>\n",
       "    <tr>\n",
       "      <th>8</th>\n",
       "      <td>previous_rank</td>\n",
       "    </tr>\n",
       "    <tr>\n",
       "      <th>9</th>\n",
       "      <td>artist_individual</td>\n",
       "    </tr>\n",
       "    <tr>\n",
       "      <th>10</th>\n",
       "      <td>week</td>\n",
       "    </tr>\n",
       "    <tr>\n",
       "      <th>11</th>\n",
       "      <td>artist_genre</td>\n",
       "    </tr>\n",
       "    <tr>\n",
       "      <th>12</th>\n",
       "      <td>language</td>\n",
       "    </tr>\n",
       "    <tr>\n",
       "      <th>13</th>\n",
       "      <td>artists_num</td>\n",
       "    </tr>\n",
       "    <tr>\n",
       "      <th>14</th>\n",
       "      <td>peak_rank</td>\n",
       "    </tr>\n",
       "    <tr>\n",
       "      <th>15</th>\n",
       "      <td>source</td>\n",
       "    </tr>\n",
       "    <tr>\n",
       "      <th>16</th>\n",
       "      <td>streams</td>\n",
       "    </tr>\n",
       "    <tr>\n",
       "      <th>17</th>\n",
       "      <td>artist_names</td>\n",
       "    </tr>\n",
       "    <tr>\n",
       "      <th>18</th>\n",
       "      <td>album_num_tracks</td>\n",
       "    </tr>\n",
       "    <tr>\n",
       "      <th>19</th>\n",
       "      <td>track_name</td>\n",
       "    </tr>\n",
       "    <tr>\n",
       "      <th>20</th>\n",
       "      <td>uri</td>\n",
       "    </tr>\n",
       "    <tr>\n",
       "      <th>21</th>\n",
       "      <td>release_date</td>\n",
       "    </tr>\n",
       "  </tbody>\n",
       "</table>\n",
       "</div>"
      ],
      "text/plain": [
       "                    0\n",
       "0         album_cover\n",
       "1             country\n",
       "2              region\n",
       "3               pivot\n",
       "4          artist_img\n",
       "5           artist_id\n",
       "6                rank\n",
       "7      weeks_on_chart\n",
       "8       previous_rank\n",
       "9   artist_individual\n",
       "10               week\n",
       "11       artist_genre\n",
       "12           language\n",
       "13        artists_num\n",
       "14          peak_rank\n",
       "15             source\n",
       "16            streams\n",
       "17       artist_names\n",
       "18   album_num_tracks\n",
       "19         track_name\n",
       "20                uri\n",
       "21       release_date"
      ]
     },
     "execution_count": 126,
     "metadata": {},
     "output_type": "execute_result"
    }
   ],
   "source": [
    "dtypes = pd.Series(data = spotify_df.dtypes)\n",
    "numeric_cols = list(dtypes[(dtypes==np.float32) | (dtypes==np.float64)].index)\n",
    "cate_cols = set(spotify_df. columns) - set(numeric_cols)\n",
    "view = pd.DataFrame(cate_cols)\n",
    "view"
   ]
  },
  {
   "cell_type": "code",
   "execution_count": 127,
   "metadata": {},
   "outputs": [
    {
     "data": {
      "text/html": [
       "<div>\n",
       "<style scoped>\n",
       "    .dataframe tbody tr th:only-of-type {\n",
       "        vertical-align: middle;\n",
       "    }\n",
       "\n",
       "    .dataframe tbody tr th {\n",
       "        vertical-align: top;\n",
       "    }\n",
       "\n",
       "    .dataframe thead th {\n",
       "        text-align: right;\n",
       "    }\n",
       "</style>\n",
       "<table border=\"1\" class=\"dataframe\">\n",
       "  <thead>\n",
       "    <tr style=\"text-align: right;\">\n",
       "      <th></th>\n",
       "      <th>danceability</th>\n",
       "      <th>energy</th>\n",
       "      <th>key</th>\n",
       "      <th>mode</th>\n",
       "      <th>loudness</th>\n",
       "      <th>speechiness</th>\n",
       "      <th>acousticness</th>\n",
       "      <th>instrumentalness</th>\n",
       "      <th>liveness</th>\n",
       "      <th>valence</th>\n",
       "      <th>tempo</th>\n",
       "      <th>duration</th>\n",
       "    </tr>\n",
       "  </thead>\n",
       "  <tbody>\n",
       "    <tr>\n",
       "      <th>missing_ratio</th>\n",
       "      <td>0.013069</td>\n",
       "      <td>0.013069</td>\n",
       "      <td>0.013069</td>\n",
       "      <td>0.013069</td>\n",
       "      <td>0.013069</td>\n",
       "      <td>0.013069</td>\n",
       "      <td>0.013069</td>\n",
       "      <td>0.013069</td>\n",
       "      <td>0.013069</td>\n",
       "      <td>0.013069</td>\n",
       "      <td>0.013069</td>\n",
       "      <td>1.306871e-02</td>\n",
       "    </tr>\n",
       "    <tr>\n",
       "      <th>min</th>\n",
       "      <td>0.085900</td>\n",
       "      <td>0.003160</td>\n",
       "      <td>0.000000</td>\n",
       "      <td>0.000000</td>\n",
       "      <td>-41.410000</td>\n",
       "      <td>0.022300</td>\n",
       "      <td>0.000002</td>\n",
       "      <td>0.000000</td>\n",
       "      <td>0.013400</td>\n",
       "      <td>0.000010</td>\n",
       "      <td>31.262000</td>\n",
       "      <td>3.013300e+04</td>\n",
       "    </tr>\n",
       "    <tr>\n",
       "      <th>max</th>\n",
       "      <td>0.986000</td>\n",
       "      <td>1.000000</td>\n",
       "      <td>11.000000</td>\n",
       "      <td>1.000000</td>\n",
       "      <td>1.906000</td>\n",
       "      <td>0.966000</td>\n",
       "      <td>0.995000</td>\n",
       "      <td>0.990000</td>\n",
       "      <td>0.990000</td>\n",
       "      <td>0.992000</td>\n",
       "      <td>232.018000</td>\n",
       "      <td>1.787030e+06</td>\n",
       "    </tr>\n",
       "  </tbody>\n",
       "</table>\n",
       "</div>"
      ],
      "text/plain": [
       "               danceability    energy        key      mode   loudness  \\\n",
       "missing_ratio      0.013069  0.013069   0.013069  0.013069   0.013069   \n",
       "min                0.085900  0.003160   0.000000  0.000000 -41.410000   \n",
       "max                0.986000  1.000000  11.000000  1.000000   1.906000   \n",
       "\n",
       "               speechiness  acousticness  instrumentalness  liveness  \\\n",
       "missing_ratio     0.013069      0.013069          0.013069  0.013069   \n",
       "min               0.022300      0.000002          0.000000  0.013400   \n",
       "max               0.966000      0.995000          0.990000  0.990000   \n",
       "\n",
       "                valence       tempo      duration  \n",
       "missing_ratio  0.013069    0.013069  1.306871e-02  \n",
       "min            0.000010   31.262000  3.013300e+04  \n",
       "max            0.992000  232.018000  1.787030e+06  "
      ]
     },
     "execution_count": 127,
     "metadata": {},
     "output_type": "execute_result"
    }
   ],
   "source": [
    "numeric_profiles = {'missing_ratio': spotify_df[numeric_cols].isna().sum() * 100.0/len(spotify_df[numeric_cols]),\n",
    "                        'min': spotify_df[numeric_cols].min(),\n",
    "                        'max': spotify_df[numeric_cols].max()}\n",
    "nume_col_profiles_df = pd.DataFrame(numeric_profiles).transpose()\n",
    "nume_col_profiles_df"
   ]
  },
  {
   "cell_type": "code",
   "execution_count": 128,
   "metadata": {},
   "outputs": [
    {
     "name": "stderr",
     "output_type": "stream",
     "text": [
      "C:\\Users\\ADMIN\\AppData\\Local\\Temp\\ipykernel_23116\\2452132965.py:1: FutureWarning:\n",
      "\n",
      "Passing a set as an indexer is deprecated and will raise in a future version. Use a list instead.\n",
      "\n",
      "C:\\Users\\ADMIN\\AppData\\Local\\Temp\\ipykernel_23116\\2452132965.py:1: FutureWarning:\n",
      "\n",
      "Passing a set as an indexer is deprecated and will raise in a future version. Use a list instead.\n",
      "\n",
      "C:\\Users\\ADMIN\\AppData\\Local\\Temp\\ipykernel_23116\\2452132965.py:2: FutureWarning:\n",
      "\n",
      "Passing a set as an indexer is deprecated and will raise in a future version. Use a list instead.\n",
      "\n",
      "C:\\Users\\ADMIN\\AppData\\Local\\Temp\\ipykernel_23116\\2452132965.py:3: FutureWarning:\n",
      "\n",
      "Passing a set as an indexer is deprecated and will raise in a future version. Use a list instead.\n",
      "\n"
     ]
    },
    {
     "data": {
      "text/html": [
       "<div>\n",
       "<style scoped>\n",
       "    .dataframe tbody tr th:only-of-type {\n",
       "        vertical-align: middle;\n",
       "    }\n",
       "\n",
       "    .dataframe tbody tr th {\n",
       "        vertical-align: top;\n",
       "    }\n",
       "\n",
       "    .dataframe thead th {\n",
       "        text-align: right;\n",
       "    }\n",
       "</style>\n",
       "<table border=\"1\" class=\"dataframe\">\n",
       "  <thead>\n",
       "    <tr style=\"text-align: right;\">\n",
       "      <th></th>\n",
       "      <th>album_cover</th>\n",
       "      <th>album_num_tracks</th>\n",
       "      <th>artist_genre</th>\n",
       "      <th>artist_id</th>\n",
       "      <th>artist_img</th>\n",
       "      <th>artist_individual</th>\n",
       "      <th>artist_names</th>\n",
       "      <th>artists_num</th>\n",
       "      <th>country</th>\n",
       "      <th>language</th>\n",
       "      <th>...</th>\n",
       "      <th>previous_rank</th>\n",
       "      <th>rank</th>\n",
       "      <th>region</th>\n",
       "      <th>release_date</th>\n",
       "      <th>source</th>\n",
       "      <th>streams</th>\n",
       "      <th>track_name</th>\n",
       "      <th>uri</th>\n",
       "      <th>week</th>\n",
       "      <th>weeks_on_chart</th>\n",
       "    </tr>\n",
       "  </thead>\n",
       "  <tbody>\n",
       "    <tr>\n",
       "      <th>missing_ratio</th>\n",
       "      <td>0.001352</td>\n",
       "      <td>0.0</td>\n",
       "      <td>0.0</td>\n",
       "      <td>0.0</td>\n",
       "      <td>0.073545</td>\n",
       "      <td>0.0</td>\n",
       "      <td>0.0</td>\n",
       "      <td>0.0</td>\n",
       "      <td>0.0</td>\n",
       "      <td>0.0</td>\n",
       "      <td>...</td>\n",
       "      <td>0.0</td>\n",
       "      <td>0.0</td>\n",
       "      <td>0.0</td>\n",
       "      <td>0.0</td>\n",
       "      <td>0.0</td>\n",
       "      <td>0.0</td>\n",
       "      <td>0.0</td>\n",
       "      <td>0.0</td>\n",
       "      <td>0.0</td>\n",
       "      <td>0.0</td>\n",
       "    </tr>\n",
       "    <tr>\n",
       "      <th>num_diff_vals</th>\n",
       "      <td>27253</td>\n",
       "      <td>130</td>\n",
       "      <td>1626</td>\n",
       "      <td>9905</td>\n",
       "      <td>9718</td>\n",
       "      <td>9855</td>\n",
       "      <td>19382</td>\n",
       "      <td>19</td>\n",
       "      <td>74</td>\n",
       "      <td>40</td>\n",
       "      <td>...</td>\n",
       "      <td>201</td>\n",
       "      <td>200</td>\n",
       "      <td>10</td>\n",
       "      <td>3206</td>\n",
       "      <td>6621</td>\n",
       "      <td>466339</td>\n",
       "      <td>32672</td>\n",
       "      <td>39202</td>\n",
       "      <td>290</td>\n",
       "      <td>580</td>\n",
       "    </tr>\n",
       "    <tr>\n",
       "      <th>diff vals</th>\n",
       "      <td>[https://i.scdn.co/image/ab67616d0000b2737e117...</td>\n",
       "      <td>[1.0, 2.0, 14.0, 15.0, 18.0, 16.0, 7.0, 17.0, ...</td>\n",
       "      <td>[argentine hip hop, argentine indie, urbano ch...</td>\n",
       "      <td>[spotify:artist:3vQ0GE3mI0dAaxIMYe5g7z, spotif...</td>\n",
       "      <td>[https://i.scdn.co/image/ab6761610000e5ebf796a...</td>\n",
       "      <td>[Paulo Londra, WOS, Cris Mj, Emilia, Harry Sty...</td>\n",
       "      <td>[Paulo Londra, WOS, Cris Mj, Emilia, Harry Sty...</td>\n",
       "      <td>[1, 3, 2, 7, 4, 5, 8, 6, 9, 19, 10, 11, 13, 17...</td>\n",
       "      <td>[Argentina, Australia, Austria, Belarus, Belgi...</td>\n",
       "      <td>[Spanish, English, German, Russian, Dutch, Por...</td>\n",
       "      <td>...</td>\n",
       "      <td>[1, 129, 59, 5, 9, 6, 16, 15, 17, 21, 25, 49, ...</td>\n",
       "      <td>[1, 2, 3, 5, 6, 11, 17, 20, 23, 24, 25, 26, 27...</td>\n",
       "      <td>[South America, Oceania, Europe, North America...</td>\n",
       "      <td>[2022-03-23 00:00:00, 2022-04-06 00:00:00, 202...</td>\n",
       "      <td>[WEA Latina, DOGUITO Records / DALE PLAY Recor...</td>\n",
       "      <td>[3003411, 2512175, 2408983, 2080139, 1923270, ...</td>\n",
       "      <td>[Plan A, ARRANCARMELO, Chance, Una Noche en Me...</td>\n",
       "      <td>[spotify:track:2gpQi3hbcUAcEG8m2dlgfB, spotify...</td>\n",
       "      <td>[2022-04-14 00:00:00, 2022-04-28 00:00:00, 202...</td>\n",
       "      <td>[4, 2, 8, 3, 47, 6, 9, 70, 20, 11, 21, 25, 31,...</td>\n",
       "    </tr>\n",
       "  </tbody>\n",
       "</table>\n",
       "<p>3 rows × 22 columns</p>\n",
       "</div>"
      ],
      "text/plain": [
       "                                                     album_cover  \\\n",
       "missing_ratio                                           0.001352   \n",
       "num_diff_vals                                              27253   \n",
       "diff vals      [https://i.scdn.co/image/ab67616d0000b2737e117...   \n",
       "\n",
       "                                                album_num_tracks  \\\n",
       "missing_ratio                                                0.0   \n",
       "num_diff_vals                                                130   \n",
       "diff vals      [1.0, 2.0, 14.0, 15.0, 18.0, 16.0, 7.0, 17.0, ...   \n",
       "\n",
       "                                                    artist_genre  \\\n",
       "missing_ratio                                                0.0   \n",
       "num_diff_vals                                               1626   \n",
       "diff vals      [argentine hip hop, argentine indie, urbano ch...   \n",
       "\n",
       "                                                       artist_id  \\\n",
       "missing_ratio                                                0.0   \n",
       "num_diff_vals                                               9905   \n",
       "diff vals      [spotify:artist:3vQ0GE3mI0dAaxIMYe5g7z, spotif...   \n",
       "\n",
       "                                                      artist_img  \\\n",
       "missing_ratio                                           0.073545   \n",
       "num_diff_vals                                               9718   \n",
       "diff vals      [https://i.scdn.co/image/ab6761610000e5ebf796a...   \n",
       "\n",
       "                                               artist_individual  \\\n",
       "missing_ratio                                                0.0   \n",
       "num_diff_vals                                               9855   \n",
       "diff vals      [Paulo Londra, WOS, Cris Mj, Emilia, Harry Sty...   \n",
       "\n",
       "                                                    artist_names  \\\n",
       "missing_ratio                                                0.0   \n",
       "num_diff_vals                                              19382   \n",
       "diff vals      [Paulo Londra, WOS, Cris Mj, Emilia, Harry Sty...   \n",
       "\n",
       "                                                     artists_num  \\\n",
       "missing_ratio                                                0.0   \n",
       "num_diff_vals                                                 19   \n",
       "diff vals      [1, 3, 2, 7, 4, 5, 8, 6, 9, 19, 10, 11, 13, 17...   \n",
       "\n",
       "                                                         country  \\\n",
       "missing_ratio                                                0.0   \n",
       "num_diff_vals                                                 74   \n",
       "diff vals      [Argentina, Australia, Austria, Belarus, Belgi...   \n",
       "\n",
       "                                                        language  ...  \\\n",
       "missing_ratio                                                0.0  ...   \n",
       "num_diff_vals                                                 40  ...   \n",
       "diff vals      [Spanish, English, German, Russian, Dutch, Por...  ...   \n",
       "\n",
       "                                                   previous_rank  \\\n",
       "missing_ratio                                                0.0   \n",
       "num_diff_vals                                                201   \n",
       "diff vals      [1, 129, 59, 5, 9, 6, 16, 15, 17, 21, 25, 49, ...   \n",
       "\n",
       "                                                            rank  \\\n",
       "missing_ratio                                                0.0   \n",
       "num_diff_vals                                                200   \n",
       "diff vals      [1, 2, 3, 5, 6, 11, 17, 20, 23, 24, 25, 26, 27...   \n",
       "\n",
       "                                                          region  \\\n",
       "missing_ratio                                                0.0   \n",
       "num_diff_vals                                                 10   \n",
       "diff vals      [South America, Oceania, Europe, North America...   \n",
       "\n",
       "                                                    release_date  \\\n",
       "missing_ratio                                                0.0   \n",
       "num_diff_vals                                               3206   \n",
       "diff vals      [2022-03-23 00:00:00, 2022-04-06 00:00:00, 202...   \n",
       "\n",
       "                                                          source  \\\n",
       "missing_ratio                                                0.0   \n",
       "num_diff_vals                                               6621   \n",
       "diff vals      [WEA Latina, DOGUITO Records / DALE PLAY Recor...   \n",
       "\n",
       "                                                         streams  \\\n",
       "missing_ratio                                                0.0   \n",
       "num_diff_vals                                             466339   \n",
       "diff vals      [3003411, 2512175, 2408983, 2080139, 1923270, ...   \n",
       "\n",
       "                                                      track_name  \\\n",
       "missing_ratio                                                0.0   \n",
       "num_diff_vals                                              32672   \n",
       "diff vals      [Plan A, ARRANCARMELO, Chance, Una Noche en Me...   \n",
       "\n",
       "                                                             uri  \\\n",
       "missing_ratio                                                0.0   \n",
       "num_diff_vals                                              39202   \n",
       "diff vals      [spotify:track:2gpQi3hbcUAcEG8m2dlgfB, spotify...   \n",
       "\n",
       "                                                            week  \\\n",
       "missing_ratio                                                0.0   \n",
       "num_diff_vals                                                290   \n",
       "diff vals      [2022-04-14 00:00:00, 2022-04-28 00:00:00, 202...   \n",
       "\n",
       "                                                  weeks_on_chart  \n",
       "missing_ratio                                                0.0  \n",
       "num_diff_vals                                                580  \n",
       "diff vals      [4, 2, 8, 3, 47, 6, 9, 70, 20, 11, 21, 25, 31,...  \n",
       "\n",
       "[3 rows x 22 columns]"
      ]
     },
     "execution_count": 128,
     "metadata": {},
     "output_type": "execute_result"
    }
   ],
   "source": [
    "cate_profiles = {'missing_ratio': spotify_df[cate_cols].isna().sum() * 100.0/len (spotify_df[cate_cols]),\n",
    "                    'num_diff_vals': spotify_df[cate_cols].nunique (dropna=True),\n",
    "                    'diff vals': spotify_df[cate_cols].stack(dropna=True).groupby(level= [1]). unique (),\n",
    "}\n",
    "cate_col_profiles_df = pd.DataFrame(cate_profiles).transpose()\n",
    "cate_col_profiles_df"
   ]
  },
  {
   "cell_type": "code",
   "execution_count": 129,
   "metadata": {},
   "outputs": [],
   "source": [
    "import os\n",
    "os.mkdir('./features')\n",
    "spotify_df.to_csv('./features/processed.csv',index=False, encoding='utf-8-sig')"
   ]
  }
 ],
 "metadata": {
  "kernelspec": {
   "display_name": "Python 3",
   "language": "python",
   "name": "python3"
  },
  "language_info": {
   "codemirror_mode": {
    "name": "ipython",
    "version": 3
   },
   "file_extension": ".py",
   "mimetype": "text/x-python",
   "name": "python",
   "nbconvert_exporter": "python",
   "pygments_lexer": "ipython3",
   "version": "3.11.0"
  },
  "orig_nbformat": 4,
  "vscode": {
   "interpreter": {
    "hash": "5f80c455da1dc101d9f66a16923589bd6dbb3429340af280f1efed2f72025e97"
   }
  }
 },
 "nbformat": 4,
 "nbformat_minor": 2
}
